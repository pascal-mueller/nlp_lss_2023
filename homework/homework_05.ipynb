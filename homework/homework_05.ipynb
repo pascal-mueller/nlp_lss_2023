{
  "cells": [
    {
      "cell_type": "markdown",
      "id": "dbe9d25b",
      "metadata": {
        "id": "dbe9d25b"
      },
      "source": [
        "# HW05: Word Embeddings\n",
        "\n",
        "Remember that these homework work as a completion grade. **You can <span style=\"color:red\">not</span> skip one section this homework.**"
      ]
    },
    {
      "cell_type": "markdown",
      "id": "8b3a0596",
      "metadata": {
        "id": "8b3a0596"
      },
      "source": [
        "**Essay Feedback**\n",
        "\n",
        "Please provide feedback to two classmates' essays on Eduflow."
      ]
    },
    {
      "cell_type": "markdown",
      "id": "5ea14794",
      "metadata": {
        "id": "5ea14794"
      },
      "source": [
        "**Training word2vec**\n",
        "\n",
        "In this section, we train a word2vec model using gensim. We train the model on text8 (which consists of the first 90M characters of a Wikipedia dump from 2006 and is considered one of the benchmarks for evaluating language models)."
      ]
    },
    {
      "cell_type": "code",
      "execution_count": null,
      "id": "95a38d6e",
      "metadata": {
        "id": "95a38d6e"
      },
      "outputs": [],
      "source": [
        "import gensim.downloader as api\n",
        "\n",
        "api.info(\"text8\")"
      ]
    },
    {
      "cell_type": "code",
      "execution_count": null,
      "id": "0a49444c",
      "metadata": {
        "id": "0a49444c"
      },
      "outputs": [],
      "source": [
        "dataset = api.load(\"text8\")"
      ]
    },
    {
      "cell_type": "code",
      "execution_count": null,
      "id": "61fa38b5",
      "metadata": {
        "id": "61fa38b5"
      },
      "outputs": [],
      "source": [
        "from gensim.models import Word2Vec\n",
        "\n",
        "##TODO train a word2vec model on this dataset which appear at least 10 times in the corpus"
      ]
    },
    {
      "cell_type": "markdown",
      "id": "4af69360",
      "metadata": {
        "id": "4af69360"
      },
      "source": [
        "**Word Similarities**\n",
        "\n",
        "gensim models provide almost all the utility you might want to wish for to perform standard word similarity tasks. They are available in the .wv (wordvectors) attribute of the model, more details could be found [here](https://radimrehurek.com/gensim/models/keyedvectors.html)."
      ]
    },
    {
      "cell_type": "code",
      "execution_count": null,
      "id": "5cf99280",
      "metadata": {
        "id": "5cf99280"
      },
      "outputs": [],
      "source": [
        "model.wv\n",
        "\n",
        "##TODO find the closest words to king"
      ]
    },
    {
      "cell_type": "markdown",
      "id": "9c30c847",
      "metadata": {
        "id": "9c30c847"
      },
      "source": [
        "King is to man as woman is to X"
      ]
    },
    {
      "cell_type": "code",
      "execution_count": null,
      "id": "615b6116",
      "metadata": {
        "id": "615b6116"
      },
      "outputs": [],
      "source": [
        "##TODO find the closest word for the vector \"woman\" + \"king\" - \"man\""
      ]
    },
    {
      "cell_type": "markdown",
      "id": "2af37627",
      "metadata": {
        "id": "2af37627"
      },
      "source": [
        "**Evaluate Word Similarities** \n",
        "\n",
        "One common way to evaluate word2vec models are word analogy tasks. Let's check how good our model is on one of those. We consider the [WordSim353](http://alfonseca.org/eng/research/wordsim353.html) benchmark, the task is to determine how similar two words are."
      ]
    },
    {
      "cell_type": "code",
      "execution_count": null,
      "id": "71515b20",
      "metadata": {
        "id": "71515b20"
      },
      "outputs": [],
      "source": [
        "!wget http://alfonseca.org/pubs/ws353simrel.tar.gz\n",
        "!tar xf ws353simrel.tar.gz\n",
        "\n",
        "path = \"wordsim353_sim_rel/wordsim_similarity_goldstandard.txt\"\n",
        "\n",
        "def load_data(path):\n",
        "    X, y = [], []\n",
        "    with open(path) as f:\n",
        "        for line in f:\n",
        "            line = line.strip().split(\"\\t\")\n",
        "            X.append((line[0], line[1])) # each entry in x contains two words, e.g. X[0] = (tiger, cat)\n",
        "            y.append(float(line[-1])) # each entry in y is the annotation how similar two words are, e.g. Y[0] = 7.35\n",
        "    return X, y\n",
        "\n",
        "X, y = load_data(path)\n",
        "print (X[:3], y[:3])"
      ]
    },
    {
      "cell_type": "code",
      "execution_count": null,
      "id": "9c8ced33",
      "metadata": {
        "id": "9c8ced33"
      },
      "outputs": [],
      "source": [
        "##TODO compute how similar the pairs in the WordSim353 are according to our model\n",
        "# if a word is not present in our model, we assign similarity 0 for the respective text pair"
      ]
    },
    {
      "cell_type": "code",
      "execution_count": null,
      "id": "ebd47f93",
      "metadata": {
        "id": "ebd47f93"
      },
      "outputs": [],
      "source": [
        "from scipy.stats import spearmanr\n",
        "\n",
        "##TODO compute spearman's rank correlation between our prediction and the human annotations"
      ]
    },
    {
      "cell_type": "code",
      "execution_count": null,
      "id": "9ec86899",
      "metadata": {
        "id": "9ec86899"
      },
      "outputs": [],
      "source": [
        "import spacy\n",
        "en = spacy.load('en_core_web_sm')\n",
        "\n",
        "##TODO compute word similarities in the WordSim353 dataset using spaCy word embeddings\n",
        "##TODO compute spearman's rank correlation between these similarities and the human annotations\n",
        "# Don't worry if results are not too convincing for this experiment"
      ]
    },
    {
      "cell_type": "markdown",
      "id": "d29de774",
      "metadata": {
        "id": "d29de774"
      },
      "source": [
        "**PyTorch Embeddings**"
      ]
    },
    {
      "cell_type": "code",
      "execution_count": null,
      "id": "3927e048",
      "metadata": {
        "ExecuteTime": {
          "end_time": "2022-03-22T21:42:21.281177Z",
          "start_time": "2022-03-22T21:42:21.208787Z"
        },
        "id": "3927e048"
      },
      "outputs": [],
      "source": [
        "#Import the AG news dataset (same as hw01)\n",
        "#Download them from here \n",
        "# !wget https://raw.githubusercontent.com/mhjabreel/CharCnn_Keras/master/data/ag_news_csv/train.csv\n",
        "\n",
        "import pandas as pd\n",
        "import nltk\n",
        "df = pd.read_csv('train.csv')\n",
        "\n",
        "df.columns = [\"label\", \"title\", \"lead\"]\n",
        "label_map = {1:\"world\", 2:\"sport\", 3:\"business\", 4:\"sci/tech\"}\n",
        "def replace_label(x):\n",
        "\treturn label_map[x]\n",
        "df[\"label\"] = df[\"label\"].apply(replace_label) \n",
        "df[\"text\"] = df[\"title\"] + \" \" + df[\"lead\"]\n",
        "df = df.sample(n=10000) # # only use 10K datapoints\n",
        "df.head()"
      ]
    },
    {
      "cell_type": "code",
      "execution_count": null,
      "id": "a49d6b6e",
      "metadata": {
        "ExecuteTime": {
          "end_time": "2022-03-22T21:40:20.385383Z",
          "start_time": "2022-03-22T21:40:18.447956Z"
        },
        "id": "a49d6b6e"
      },
      "outputs": [],
      "source": [
        "vocab = 200\n",
        "##TODO tokenize the text, only keep 200 most frequent words "
      ]
    },
    {
      "cell_type": "code",
      "execution_count": null,
      "id": "c4c0f840",
      "metadata": {
        "ExecuteTime": {
          "end_time": "2022-03-22T21:40:23.322875Z",
          "start_time": "2022-03-22T21:40:23.311923Z"
        },
        "id": "c4c0f840"
      },
      "outputs": [],
      "source": [
        "length = 100\n",
        "#TODO create a one_hot representation for each word and truncate/pad the sequences such that they are all of the same length (here we use 100)"
      ]
    },
    {
      "cell_type": "code",
      "execution_count": null,
      "id": "c3d193dd",
      "metadata": {
        "ExecuteTime": {
          "end_time": "2022-03-22T21:40:28.364553Z",
          "start_time": "2022-03-22T21:40:28.354695Z"
        },
        "id": "c3d193dd"
      },
      "outputs": [],
      "source": [
        "\n",
        "##TODO create your torch embedding like we did in notebook 5! (hint: predicting labels: world, sport, business, and sci/tech)"
      ]
    },
    {
      "cell_type": "code",
      "execution_count": null,
      "id": "2cac3bd2",
      "metadata": {
        "id": "2cac3bd2"
      },
      "outputs": [],
      "source": []
    }
  ],
  "metadata": {
    "kernelspec": {
      "display_name": "Python 3 (ipykernel)",
      "language": "python",
      "name": "python3"
    },
    "language_info": {
      "codemirror_mode": {
        "name": "ipython",
        "version": 3
      },
      "file_extension": ".py",
      "mimetype": "text/x-python",
      "name": "python",
      "nbconvert_exporter": "python",
      "pygments_lexer": "ipython3",
      "version": "3.8.10"
    },
    "toc": {
      "base_numbering": 1,
      "nav_menu": {},
      "number_sections": true,
      "sideBar": true,
      "skip_h1_title": false,
      "title_cell": "Table of Contents",
      "title_sidebar": "Contents",
      "toc_cell": false,
      "toc_position": {},
      "toc_section_display": true,
      "toc_window_display": false
    },
    "colab": {
      "provenance": []
    }
  },
  "nbformat": 4,
  "nbformat_minor": 5
}