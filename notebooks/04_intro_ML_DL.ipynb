{
  "cells": [
    {
      "cell_type": "markdown",
      "metadata": {
        "id": "FwzH6UGrnT0a"
      },
      "source": [
        "# Week 04. Machine Learning with Text Data"
      ]
    },
    {
      "cell_type": "markdown",
      "metadata": {
        "id": "OzP-x4nLnT0b"
      },
      "source": [
        "Natural Language Processing for Law and Social Science<br>\n",
        "Elliott Ash, ETH Zurich"
      ]
    },
    {
      "cell_type": "code",
      "execution_count": null,
      "metadata": {
        "id": "fVmw48JCnT0b"
      },
      "outputs": [],
      "source": [
        "# set random seed\n",
        "import numpy as np\n",
        "np.random.seed(4)"
      ]
    },
    {
      "cell_type": "code",
      "source": [
        "# If you are using Google Colab, here's the code to load sc_cases_cleaned.pkl from local. \n",
        "from google.colab import files\n",
        "uploaded = files.upload()"
      ],
      "metadata": {
        "colab": {
          "base_uri": "https://localhost:8080/",
          "height": 75
        },
        "id": "IqxhFRi7nYO7",
        "outputId": "b40335fe-5f3d-4475-f4ed-5913bb3c9bf9"
      },
      "execution_count": null,
      "outputs": [
        {
          "output_type": "display_data",
          "data": {
            "text/plain": [
              "<IPython.core.display.HTML object>"
            ],
            "text/html": [
              "\n",
              "     <input type=\"file\" id=\"files-7e12702f-0311-47ec-a402-0b63fbcb0ddb\" name=\"files[]\" multiple disabled\n",
              "        style=\"border:none\" />\n",
              "     <output id=\"result-7e12702f-0311-47ec-a402-0b63fbcb0ddb\">\n",
              "      Upload widget is only available when the cell has been executed in the\n",
              "      current browser session. Please rerun this cell to enable.\n",
              "      </output>\n",
              "      <script>// Copyright 2017 Google LLC\n",
              "//\n",
              "// Licensed under the Apache License, Version 2.0 (the \"License\");\n",
              "// you may not use this file except in compliance with the License.\n",
              "// You may obtain a copy of the License at\n",
              "//\n",
              "//      http://www.apache.org/licenses/LICENSE-2.0\n",
              "//\n",
              "// Unless required by applicable law or agreed to in writing, software\n",
              "// distributed under the License is distributed on an \"AS IS\" BASIS,\n",
              "// WITHOUT WARRANTIES OR CONDITIONS OF ANY KIND, either express or implied.\n",
              "// See the License for the specific language governing permissions and\n",
              "// limitations under the License.\n",
              "\n",
              "/**\n",
              " * @fileoverview Helpers for google.colab Python module.\n",
              " */\n",
              "(function(scope) {\n",
              "function span(text, styleAttributes = {}) {\n",
              "  const element = document.createElement('span');\n",
              "  element.textContent = text;\n",
              "  for (const key of Object.keys(styleAttributes)) {\n",
              "    element.style[key] = styleAttributes[key];\n",
              "  }\n",
              "  return element;\n",
              "}\n",
              "\n",
              "// Max number of bytes which will be uploaded at a time.\n",
              "const MAX_PAYLOAD_SIZE = 100 * 1024;\n",
              "\n",
              "function _uploadFiles(inputId, outputId) {\n",
              "  const steps = uploadFilesStep(inputId, outputId);\n",
              "  const outputElement = document.getElementById(outputId);\n",
              "  // Cache steps on the outputElement to make it available for the next call\n",
              "  // to uploadFilesContinue from Python.\n",
              "  outputElement.steps = steps;\n",
              "\n",
              "  return _uploadFilesContinue(outputId);\n",
              "}\n",
              "\n",
              "// This is roughly an async generator (not supported in the browser yet),\n",
              "// where there are multiple asynchronous steps and the Python side is going\n",
              "// to poll for completion of each step.\n",
              "// This uses a Promise to block the python side on completion of each step,\n",
              "// then passes the result of the previous step as the input to the next step.\n",
              "function _uploadFilesContinue(outputId) {\n",
              "  const outputElement = document.getElementById(outputId);\n",
              "  const steps = outputElement.steps;\n",
              "\n",
              "  const next = steps.next(outputElement.lastPromiseValue);\n",
              "  return Promise.resolve(next.value.promise).then((value) => {\n",
              "    // Cache the last promise value to make it available to the next\n",
              "    // step of the generator.\n",
              "    outputElement.lastPromiseValue = value;\n",
              "    return next.value.response;\n",
              "  });\n",
              "}\n",
              "\n",
              "/**\n",
              " * Generator function which is called between each async step of the upload\n",
              " * process.\n",
              " * @param {string} inputId Element ID of the input file picker element.\n",
              " * @param {string} outputId Element ID of the output display.\n",
              " * @return {!Iterable<!Object>} Iterable of next steps.\n",
              " */\n",
              "function* uploadFilesStep(inputId, outputId) {\n",
              "  const inputElement = document.getElementById(inputId);\n",
              "  inputElement.disabled = false;\n",
              "\n",
              "  const outputElement = document.getElementById(outputId);\n",
              "  outputElement.innerHTML = '';\n",
              "\n",
              "  const pickedPromise = new Promise((resolve) => {\n",
              "    inputElement.addEventListener('change', (e) => {\n",
              "      resolve(e.target.files);\n",
              "    });\n",
              "  });\n",
              "\n",
              "  const cancel = document.createElement('button');\n",
              "  inputElement.parentElement.appendChild(cancel);\n",
              "  cancel.textContent = 'Cancel upload';\n",
              "  const cancelPromise = new Promise((resolve) => {\n",
              "    cancel.onclick = () => {\n",
              "      resolve(null);\n",
              "    };\n",
              "  });\n",
              "\n",
              "  // Wait for the user to pick the files.\n",
              "  const files = yield {\n",
              "    promise: Promise.race([pickedPromise, cancelPromise]),\n",
              "    response: {\n",
              "      action: 'starting',\n",
              "    }\n",
              "  };\n",
              "\n",
              "  cancel.remove();\n",
              "\n",
              "  // Disable the input element since further picks are not allowed.\n",
              "  inputElement.disabled = true;\n",
              "\n",
              "  if (!files) {\n",
              "    return {\n",
              "      response: {\n",
              "        action: 'complete',\n",
              "      }\n",
              "    };\n",
              "  }\n",
              "\n",
              "  for (const file of files) {\n",
              "    const li = document.createElement('li');\n",
              "    li.append(span(file.name, {fontWeight: 'bold'}));\n",
              "    li.append(span(\n",
              "        `(${file.type || 'n/a'}) - ${file.size} bytes, ` +\n",
              "        `last modified: ${\n",
              "            file.lastModifiedDate ? file.lastModifiedDate.toLocaleDateString() :\n",
              "                                    'n/a'} - `));\n",
              "    const percent = span('0% done');\n",
              "    li.appendChild(percent);\n",
              "\n",
              "    outputElement.appendChild(li);\n",
              "\n",
              "    const fileDataPromise = new Promise((resolve) => {\n",
              "      const reader = new FileReader();\n",
              "      reader.onload = (e) => {\n",
              "        resolve(e.target.result);\n",
              "      };\n",
              "      reader.readAsArrayBuffer(file);\n",
              "    });\n",
              "    // Wait for the data to be ready.\n",
              "    let fileData = yield {\n",
              "      promise: fileDataPromise,\n",
              "      response: {\n",
              "        action: 'continue',\n",
              "      }\n",
              "    };\n",
              "\n",
              "    // Use a chunked sending to avoid message size limits. See b/62115660.\n",
              "    let position = 0;\n",
              "    do {\n",
              "      const length = Math.min(fileData.byteLength - position, MAX_PAYLOAD_SIZE);\n",
              "      const chunk = new Uint8Array(fileData, position, length);\n",
              "      position += length;\n",
              "\n",
              "      const base64 = btoa(String.fromCharCode.apply(null, chunk));\n",
              "      yield {\n",
              "        response: {\n",
              "          action: 'append',\n",
              "          file: file.name,\n",
              "          data: base64,\n",
              "        },\n",
              "      };\n",
              "\n",
              "      let percentDone = fileData.byteLength === 0 ?\n",
              "          100 :\n",
              "          Math.round((position / fileData.byteLength) * 100);\n",
              "      percent.textContent = `${percentDone}% done`;\n",
              "\n",
              "    } while (position < fileData.byteLength);\n",
              "  }\n",
              "\n",
              "  // All done.\n",
              "  yield {\n",
              "    response: {\n",
              "      action: 'complete',\n",
              "    }\n",
              "  };\n",
              "}\n",
              "\n",
              "scope.google = scope.google || {};\n",
              "scope.google.colab = scope.google.colab || {};\n",
              "scope.google.colab._files = {\n",
              "  _uploadFiles,\n",
              "  _uploadFilesContinue,\n",
              "};\n",
              "})(self);\n",
              "</script> "
            ]
          },
          "metadata": {}
        },
        {
          "output_type": "stream",
          "name": "stdout",
          "text": [
            "Saving sc_cases_cleaned.pkl to sc_cases_cleaned.pkl\n"
          ]
        }
      ]
    },
    {
      "cell_type": "code",
      "execution_count": null,
      "metadata": {
        "colab": {
          "base_uri": "https://localhost:8080/",
          "height": 597
        },
        "id": "0YkouoDYnT0b",
        "outputId": "ff5e62bc-53c0-4551-cde5-3fb6f103d853"
      },
      "outputs": [
        {
          "output_type": "execute_result",
          "data": {
            "text/plain": [
              "                                           case_name opinion_type  \\\n",
              "0                ERICK CORNELL CLAY v. UNITED STATES     majority   \n",
              "1  HILLSIDE DAIRY INC., A&A DAIRY, L&S DAIRY, AND...     majority   \n",
              "2    CHARLES RUSSELL RHINES v. DOUGLAS WEBER, WARDEN     majority   \n",
              "3        STATE OF ALASKA v. UNITED STATES OF AMERICA     majority   \n",
              "4  REGINALD A. WILKINSON, DIRECTOR, OHIO DEPARTME...     majority   \n",
              "\n",
              "  date_standard authorship  x_republican  \\\n",
              "0    2003-03-04   GINSBURG           0.0   \n",
              "1    2003-06-09    STEVENS           1.0   \n",
              "2    2005-03-30   O'CONNOR           1.0   \n",
              "3    2005-06-06    KENNEDY           1.0   \n",
              "4    2005-06-13    KENNEDY           1.0   \n",
              "\n",
              "                                          maj_judges  \\\n",
              "0  ['BREYER, STEPHEN', 'GINSBURG, RUTH', 'KENNEDY...   \n",
              "1  ['BREYER, STEPHEN', 'GINSBURG, RUTH', 'KENNEDY...   \n",
              "2  ['BREYER, STEPHEN', 'GINSBURG, RUTH', 'KENNEDY...   \n",
              "3  ['BREYER, STEPHEN', 'GINSBURG, RUTH', 'KENNEDY...   \n",
              "4  ['BREYER, STEPHEN', 'GINSBURG, RUTH', 'KENNEDY...   \n",
              "\n",
              "                                      dissent_judges  topic_id  cite_count  \\\n",
              "0                                                 []       1.0      2926.0   \n",
              "1                               ['THOMAS, CLARENCE']       8.0       117.0   \n",
              "2                                                 []       1.0     23364.0   \n",
              "3  ['REHNQUIST, WILLIAM', 'SCALIA, ANTONIN', 'THO...      10.0        84.0   \n",
              "4                                                 []       4.0      4230.0   \n",
              "\n",
              "                                        opinion_text  year  log_cite_count  \n",
              "0  JUSTICE GINSBURG delivered the opinion of the ...  2003        7.981392  \n",
              "1  Justice Stevens delivered the opinion of the C...  2003        4.762174  \n",
              "2  Justice O'Connor delivered the opinion of the ...  2005       10.058952  \n",
              "3  Justice Kennedy delivered the opinion of the C...  2005        4.430817  \n",
              "4  Justice Kennedy delivered the opinion of the C...  2005        8.349957  "
            ],
            "text/html": [
              "\n",
              "  <div id=\"df-12438b9e-5511-4119-ba84-3c847b610cb6\">\n",
              "    <div class=\"colab-df-container\">\n",
              "      <div>\n",
              "<style scoped>\n",
              "    .dataframe tbody tr th:only-of-type {\n",
              "        vertical-align: middle;\n",
              "    }\n",
              "\n",
              "    .dataframe tbody tr th {\n",
              "        vertical-align: top;\n",
              "    }\n",
              "\n",
              "    .dataframe thead th {\n",
              "        text-align: right;\n",
              "    }\n",
              "</style>\n",
              "<table border=\"1\" class=\"dataframe\">\n",
              "  <thead>\n",
              "    <tr style=\"text-align: right;\">\n",
              "      <th></th>\n",
              "      <th>case_name</th>\n",
              "      <th>opinion_type</th>\n",
              "      <th>date_standard</th>\n",
              "      <th>authorship</th>\n",
              "      <th>x_republican</th>\n",
              "      <th>maj_judges</th>\n",
              "      <th>dissent_judges</th>\n",
              "      <th>topic_id</th>\n",
              "      <th>cite_count</th>\n",
              "      <th>opinion_text</th>\n",
              "      <th>year</th>\n",
              "      <th>log_cite_count</th>\n",
              "    </tr>\n",
              "  </thead>\n",
              "  <tbody>\n",
              "    <tr>\n",
              "      <th>0</th>\n",
              "      <td>ERICK CORNELL CLAY v. UNITED STATES</td>\n",
              "      <td>majority</td>\n",
              "      <td>2003-03-04</td>\n",
              "      <td>GINSBURG</td>\n",
              "      <td>0.0</td>\n",
              "      <td>['BREYER, STEPHEN', 'GINSBURG, RUTH', 'KENNEDY...</td>\n",
              "      <td>[]</td>\n",
              "      <td>1.0</td>\n",
              "      <td>2926.0</td>\n",
              "      <td>JUSTICE GINSBURG delivered the opinion of the ...</td>\n",
              "      <td>2003</td>\n",
              "      <td>7.981392</td>\n",
              "    </tr>\n",
              "    <tr>\n",
              "      <th>1</th>\n",
              "      <td>HILLSIDE DAIRY INC., A&amp;A DAIRY, L&amp;S DAIRY, AND...</td>\n",
              "      <td>majority</td>\n",
              "      <td>2003-06-09</td>\n",
              "      <td>STEVENS</td>\n",
              "      <td>1.0</td>\n",
              "      <td>['BREYER, STEPHEN', 'GINSBURG, RUTH', 'KENNEDY...</td>\n",
              "      <td>['THOMAS, CLARENCE']</td>\n",
              "      <td>8.0</td>\n",
              "      <td>117.0</td>\n",
              "      <td>Justice Stevens delivered the opinion of the C...</td>\n",
              "      <td>2003</td>\n",
              "      <td>4.762174</td>\n",
              "    </tr>\n",
              "    <tr>\n",
              "      <th>2</th>\n",
              "      <td>CHARLES RUSSELL RHINES v. DOUGLAS WEBER, WARDEN</td>\n",
              "      <td>majority</td>\n",
              "      <td>2005-03-30</td>\n",
              "      <td>O'CONNOR</td>\n",
              "      <td>1.0</td>\n",
              "      <td>['BREYER, STEPHEN', 'GINSBURG, RUTH', 'KENNEDY...</td>\n",
              "      <td>[]</td>\n",
              "      <td>1.0</td>\n",
              "      <td>23364.0</td>\n",
              "      <td>Justice O'Connor delivered the opinion of the ...</td>\n",
              "      <td>2005</td>\n",
              "      <td>10.058952</td>\n",
              "    </tr>\n",
              "    <tr>\n",
              "      <th>3</th>\n",
              "      <td>STATE OF ALASKA v. UNITED STATES OF AMERICA</td>\n",
              "      <td>majority</td>\n",
              "      <td>2005-06-06</td>\n",
              "      <td>KENNEDY</td>\n",
              "      <td>1.0</td>\n",
              "      <td>['BREYER, STEPHEN', 'GINSBURG, RUTH', 'KENNEDY...</td>\n",
              "      <td>['REHNQUIST, WILLIAM', 'SCALIA, ANTONIN', 'THO...</td>\n",
              "      <td>10.0</td>\n",
              "      <td>84.0</td>\n",
              "      <td>Justice Kennedy delivered the opinion of the C...</td>\n",
              "      <td>2005</td>\n",
              "      <td>4.430817</td>\n",
              "    </tr>\n",
              "    <tr>\n",
              "      <th>4</th>\n",
              "      <td>REGINALD A. WILKINSON, DIRECTOR, OHIO DEPARTME...</td>\n",
              "      <td>majority</td>\n",
              "      <td>2005-06-13</td>\n",
              "      <td>KENNEDY</td>\n",
              "      <td>1.0</td>\n",
              "      <td>['BREYER, STEPHEN', 'GINSBURG, RUTH', 'KENNEDY...</td>\n",
              "      <td>[]</td>\n",
              "      <td>4.0</td>\n",
              "      <td>4230.0</td>\n",
              "      <td>Justice Kennedy delivered the opinion of the C...</td>\n",
              "      <td>2005</td>\n",
              "      <td>8.349957</td>\n",
              "    </tr>\n",
              "  </tbody>\n",
              "</table>\n",
              "</div>\n",
              "      <button class=\"colab-df-convert\" onclick=\"convertToInteractive('df-12438b9e-5511-4119-ba84-3c847b610cb6')\"\n",
              "              title=\"Convert this dataframe to an interactive table.\"\n",
              "              style=\"display:none;\">\n",
              "        \n",
              "  <svg xmlns=\"http://www.w3.org/2000/svg\" height=\"24px\"viewBox=\"0 0 24 24\"\n",
              "       width=\"24px\">\n",
              "    <path d=\"M0 0h24v24H0V0z\" fill=\"none\"/>\n",
              "    <path d=\"M18.56 5.44l.94 2.06.94-2.06 2.06-.94-2.06-.94-.94-2.06-.94 2.06-2.06.94zm-11 1L8.5 8.5l.94-2.06 2.06-.94-2.06-.94L8.5 2.5l-.94 2.06-2.06.94zm10 10l.94 2.06.94-2.06 2.06-.94-2.06-.94-.94-2.06-.94 2.06-2.06.94z\"/><path d=\"M17.41 7.96l-1.37-1.37c-.4-.4-.92-.59-1.43-.59-.52 0-1.04.2-1.43.59L10.3 9.45l-7.72 7.72c-.78.78-.78 2.05 0 2.83L4 21.41c.39.39.9.59 1.41.59.51 0 1.02-.2 1.41-.59l7.78-7.78 2.81-2.81c.8-.78.8-2.07 0-2.86zM5.41 20L4 18.59l7.72-7.72 1.47 1.35L5.41 20z\"/>\n",
              "  </svg>\n",
              "      </button>\n",
              "      \n",
              "  <style>\n",
              "    .colab-df-container {\n",
              "      display:flex;\n",
              "      flex-wrap:wrap;\n",
              "      gap: 12px;\n",
              "    }\n",
              "\n",
              "    .colab-df-convert {\n",
              "      background-color: #E8F0FE;\n",
              "      border: none;\n",
              "      border-radius: 50%;\n",
              "      cursor: pointer;\n",
              "      display: none;\n",
              "      fill: #1967D2;\n",
              "      height: 32px;\n",
              "      padding: 0 0 0 0;\n",
              "      width: 32px;\n",
              "    }\n",
              "\n",
              "    .colab-df-convert:hover {\n",
              "      background-color: #E2EBFA;\n",
              "      box-shadow: 0px 1px 2px rgba(60, 64, 67, 0.3), 0px 1px 3px 1px rgba(60, 64, 67, 0.15);\n",
              "      fill: #174EA6;\n",
              "    }\n",
              "\n",
              "    [theme=dark] .colab-df-convert {\n",
              "      background-color: #3B4455;\n",
              "      fill: #D2E3FC;\n",
              "    }\n",
              "\n",
              "    [theme=dark] .colab-df-convert:hover {\n",
              "      background-color: #434B5C;\n",
              "      box-shadow: 0px 1px 3px 1px rgba(0, 0, 0, 0.15);\n",
              "      filter: drop-shadow(0px 1px 2px rgba(0, 0, 0, 0.3));\n",
              "      fill: #FFFFFF;\n",
              "    }\n",
              "  </style>\n",
              "\n",
              "      <script>\n",
              "        const buttonEl =\n",
              "          document.querySelector('#df-12438b9e-5511-4119-ba84-3c847b610cb6 button.colab-df-convert');\n",
              "        buttonEl.style.display =\n",
              "          google.colab.kernel.accessAllowed ? 'block' : 'none';\n",
              "\n",
              "        async function convertToInteractive(key) {\n",
              "          const element = document.querySelector('#df-12438b9e-5511-4119-ba84-3c847b610cb6');\n",
              "          const dataTable =\n",
              "            await google.colab.kernel.invokeFunction('convertToInteractive',\n",
              "                                                     [key], {});\n",
              "          if (!dataTable) return;\n",
              "\n",
              "          const docLinkHtml = 'Like what you see? Visit the ' +\n",
              "            '<a target=\"_blank\" href=https://colab.research.google.com/notebooks/data_table.ipynb>data table notebook</a>'\n",
              "            + ' to learn more about interactive tables.';\n",
              "          element.innerHTML = '';\n",
              "          dataTable['output_type'] = 'display_data';\n",
              "          await google.colab.output.renderOutput(dataTable, element);\n",
              "          const docLink = document.createElement('div');\n",
              "          docLink.innerHTML = docLinkHtml;\n",
              "          element.appendChild(docLink);\n",
              "        }\n",
              "      </script>\n",
              "    </div>\n",
              "  </div>\n",
              "  "
            ]
          },
          "metadata": {},
          "execution_count": 5
        }
      ],
      "source": [
        "# set up\n",
        "import warnings; warnings.simplefilter('ignore')\n",
        "%matplotlib notebook\n",
        "import pandas as pd\n",
        "df = pd.read_pickle('sc_cases_cleaned.pkl',compression='gzip')\n",
        "df=df.reset_index(drop=True)\n",
        "df.head()"
      ]
    },
    {
      "cell_type": "code",
      "execution_count": null,
      "metadata": {
        "scrolled": true,
        "colab": {
          "base_uri": "https://localhost:8080/",
          "height": 225
        },
        "id": "lfZAaFWJnT0c",
        "outputId": "39ed2e48-a84c-4488-80a6-7ce78f7981e2"
      },
      "outputs": [
        {
          "output_type": "execute_result",
          "data": {
            "text/plain": [
              "SCALIA       94\n",
              "GINSBURG     89\n",
              "THOMAS       87\n",
              "KENNEDY      86\n",
              "BREYER       85\n",
              "STEVENS      79\n",
              "SOUTER       77\n",
              "O'CONNOR     52\n",
              "REHNQUIST    49\n",
              "ROBERTS      38\n",
              "ALITO        32\n",
              "Name: authorship, dtype: int64"
            ]
          },
          "metadata": {},
          "execution_count": 5
        }
      ],
      "source": [
        "df = df.assign(authorship_id=(df['authorship']).astype('category').cat.codes)\n",
        "df['authorship'].value_counts() "
      ]
    },
    {
      "cell_type": "code",
      "execution_count": null,
      "metadata": {
        "colab": {
          "base_uri": "https://localhost:8080/",
          "height": 316
        },
        "id": "QAl9gQbJnT0c",
        "outputId": "2b0f5774-2148-44d6-b6c7-feec257d839e"
      },
      "outputs": [
        {
          "output_type": "execute_result",
          "data": {
            "text/plain": [
              "array([[<AxesSubplot:title={'center':'year'}>,\n",
              "        <AxesSubplot:title={'center':'log_cite_count'}>]], dtype=object)"
            ]
          },
          "metadata": {},
          "execution_count": 37
        },
        {
          "output_type": "display_data",
          "data": {
            "text/plain": [
              "<Figure size 432x288 with 2 Axes>"
            ],
            "image/png": "[encoded data removed]"
          },
          "metadata": {
            "needs_background": "light"
          }
        }
      ],
      "source": [
        "import matplotlib.pyplot as plt\n",
        "%matplotlib inline\n",
        "df[['year','log_cite_count']].hist()"
      ]
    },
    {
      "cell_type": "code",
      "execution_count": null,
      "metadata": {
        "colab": {
          "base_uri": "https://localhost:8080/"
        },
        "id": "RcxPM_vHnT0c",
        "outputId": "dd954715-ef57-4b76-b9e2-99571450198e"
      },
      "outputs": [
        {
          "output_type": "stream",
          "name": "stdout",
          "text": [
            "['act' 'congress' 'district' 'state']\n"
          ]
        },
        {
          "output_type": "execute_result",
          "data": {
            "text/plain": [
              "<768x4 sparse matrix of type '<class 'numpy.int64'>'\n",
              "\twith 2534 stored elements in Compressed Sparse Row format>"
            ]
          },
          "metadata": {},
          "execution_count": 23
        }
      ],
      "source": [
        "from sklearn.feature_extraction.text import CountVectorizer\n",
        "vectorizer = CountVectorizer(min_df=0.01, # at min 1% of docs\n",
        "                        max_df=.9,  \n",
        "                        max_features=4,\n",
        "                        stop_words='english',\n",
        "                        ngram_range=(1,3))\n",
        "X = vectorizer.fit_transform(df['opinion_text'])\n",
        "words = vectorizer.get_feature_names_out()\n",
        "print(words)\n",
        "X"
      ]
    },
    {
      "cell_type": "code",
      "execution_count": null,
      "metadata": {
        "colab": {
          "base_uri": "https://localhost:8080/",
          "height": 1000
        },
        "id": "LW189T-SnT0c",
        "outputId": "fa5bbe03-97fd-426e-bbbb-3257dc6e73cf"
      },
      "outputs": [
        {
          "output_type": "execute_result",
          "data": {
            "text/plain": [
              "                                             case_name opinion_type  \\\n",
              "0                  ERICK CORNELL CLAY v. UNITED STATES     majority   \n",
              "1    HILLSIDE DAIRY INC., A&A DAIRY, L&S DAIRY, AND...     majority   \n",
              "2      CHARLES RUSSELL RHINES v. DOUGLAS WEBER, WARDEN     majority   \n",
              "3          STATE OF ALASKA v. UNITED STATES OF AMERICA     majority   \n",
              "4    REGINALD A. WILKINSON, DIRECTOR, OHIO DEPARTME...     majority   \n",
              "..                                                 ...          ...   \n",
              "763  MICHAEL F. EASLEY, * GOVERNOR OF NORTH CAROLIN...     majority   \n",
              "764  GAIL ATWATER, et al. v. CITY OF LAGO VISTA et al.     majority   \n",
              "765  JAMES ALEXANDER, DIRECTOR, ALABAMA DEPARTMENT ...     majority   \n",
              "766  UNITED STATES v. OAKLAND CANNABIS BUYERS' COOP...     majority   \n",
              "767                     WILBERT K. ROGERS v. TENNESSEE     majority   \n",
              "\n",
              "    date_standard authorship  x_republican  \\\n",
              "0      2003-03-04   GINSBURG           0.0   \n",
              "1      2003-06-09    STEVENS           1.0   \n",
              "2      2005-03-30   O'CONNOR           1.0   \n",
              "3      2005-06-06    KENNEDY           1.0   \n",
              "4      2005-06-13    KENNEDY           1.0   \n",
              "..            ...        ...           ...   \n",
              "763    2001-04-18     BREYER           0.0   \n",
              "764    2001-04-24     SOUTER           1.0   \n",
              "765    2001-04-24     SCALIA           1.0   \n",
              "766    2001-05-14     THOMAS           1.0   \n",
              "767    2001-05-14   O'CONNOR           1.0   \n",
              "\n",
              "                                            maj_judges  \\\n",
              "0    ['BREYER, STEPHEN', 'GINSBURG, RUTH', 'KENNEDY...   \n",
              "1    ['BREYER, STEPHEN', 'GINSBURG, RUTH', 'KENNEDY...   \n",
              "2    ['BREYER, STEPHEN', 'GINSBURG, RUTH', 'KENNEDY...   \n",
              "3    ['BREYER, STEPHEN', 'GINSBURG, RUTH', 'KENNEDY...   \n",
              "4    ['BREYER, STEPHEN', 'GINSBURG, RUTH', 'KENNEDY...   \n",
              "..                                                 ...   \n",
              "763  ['BREYER, STEPHEN', 'GINSBURG, RUTH', \"O'CONNO...   \n",
              "764  ['KENNEDY, ANTHONY', 'REHNQUIST, WILLIAM', 'SC...   \n",
              "765  ['KENNEDY, ANTHONY', \"O'CONNOR, SANDRA\", 'REHN...   \n",
              "766  ['BREYER, STEPHEN', 'GINSBURG, RUTH', 'KENNEDY...   \n",
              "767  ['GINSBURG, RUTH', 'KENNEDY, ANTHONY', \"O'CONN...   \n",
              "\n",
              "                                        dissent_judges  topic_id  cite_count  \\\n",
              "0                                                   []       1.0      2926.0   \n",
              "1                                 ['THOMAS, CLARENCE']       8.0       117.0   \n",
              "2                                                   []       1.0     23364.0   \n",
              "3    ['REHNQUIST, WILLIAM', 'SCALIA, ANTONIN', 'THO...      10.0        84.0   \n",
              "4                                                   []       4.0      4230.0   \n",
              "..                                                 ...       ...         ...   \n",
              "763  ['KENNEDY, ANTHONY', 'REHNQUIST, WILLIAM', 'SC...       2.0      1236.0   \n",
              "764  ['BREYER, STEPHEN', 'GINSBURG, RUTH', \"O'CONNO...       1.0      3120.0   \n",
              "765  ['BREYER, STEPHEN', 'GINSBURG, RUTH', 'SOUTER,...       9.0      4986.0   \n",
              "766                                                 []       1.0       736.0   \n",
              "767  ['BREYER, STEPHEN', 'SCALIA, ANTONIN', 'STEVEN...       4.0      2100.0   \n",
              "\n",
              "                                          opinion_text  year  log_cite_count  \\\n",
              "0    JUSTICE GINSBURG delivered the opinion of the ...  2003        7.981392   \n",
              "1    Justice Stevens delivered the opinion of the C...  2003        4.762174   \n",
              "2    Justice O'Connor delivered the opinion of the ...  2005       10.058952   \n",
              "3    Justice Kennedy delivered the opinion of the C...  2005        4.430817   \n",
              "4    Justice Kennedy delivered the opinion of the C...  2005        8.349957   \n",
              "..                                                 ...   ...             ...   \n",
              "763  JUSTICE BREYER delivered the opinion of the Co...  2001        7.119636   \n",
              "764  JUSTICE SOUTER delivered the opinion of the Co...  2001        8.045588   \n",
              "765  JUSTICE SCALIA delivered the opinion of the Co...  2001        8.514389   \n",
              "766  JUSTICE THOMAS delivered the opinion of the Co...  2001        6.601230   \n",
              "767  JUSTICE O'CONNOR delivered the opinion of the ...  2001        7.649693   \n",
              "\n",
              "     authorship_id     x_act  x_congress  x_district   x_state  \n",
              "0                2  0.193548    0.225806    0.161290  0.419355  \n",
              "1                9  0.261905    0.095238    0.047619  0.595238  \n",
              "2                4  0.012821    0.025641    0.461538  0.500000  \n",
              "3                3  0.322581    0.129032    0.000000  0.548387  \n",
              "4                3  0.019231    0.000000    0.596154  0.384615  \n",
              "..             ...       ...         ...         ...       ...  \n",
              "763              1  0.000000    0.000000    0.928994  0.071006  \n",
              "764              8  0.292308    0.046154    0.092308  0.569231  \n",
              "765              7  0.279070    0.465116    0.093023  0.162791  \n",
              "766             10  0.312500    0.260417    0.427083  0.000000  \n",
              "767              4  0.324324    0.000000    0.000000  0.675676  \n",
              "\n",
              "[768 rows x 17 columns]"
            ],
            "text/html": [
              "\n",
              "  <div id=\"df-89d4a83f-e529-4f57-b202-aa39e0694d56\">\n",
              "    <div class=\"colab-df-container\">\n",
              "      <div>\n",
              "<style scoped>\n",
              "    .dataframe tbody tr th:only-of-type {\n",
              "        vertical-align: middle;\n",
              "    }\n",
              "\n",
              "    .dataframe tbody tr th {\n",
              "        vertical-align: top;\n",
              "    }\n",
              "\n",
              "    .dataframe thead th {\n",
              "        text-align: right;\n",
              "    }\n",
              "</style>\n",
              "<table border=\"1\" class=\"dataframe\">\n",
              "  <thead>\n",
              "    <tr style=\"text-align: right;\">\n",
              "      <th></th>\n",
              "      <th>case_name</th>\n",
              "      <th>opinion_type</th>\n",
              "      <th>date_standard</th>\n",
              "      <th>authorship</th>\n",
              "      <th>x_republican</th>\n",
              "      <th>maj_judges</th>\n",
              "      <th>dissent_judges</th>\n",
              "      <th>topic_id</th>\n",
              "      <th>cite_count</th>\n",
              "      <th>opinion_text</th>\n",
              "      <th>year</th>\n",
              "      <th>log_cite_count</th>\n",
              "      <th>authorship_id</th>\n",
              "      <th>x_act</th>\n",
              "      <th>x_congress</th>\n",
              "      <th>x_district</th>\n",
              "      <th>x_state</th>\n",
              "    </tr>\n",
              "  </thead>\n",
              "  <tbody>\n",
              "    <tr>\n",
              "      <th>0</th>\n",
              "      <td>ERICK CORNELL CLAY v. UNITED STATES</td>\n",
              "      <td>majority</td>\n",
              "      <td>2003-03-04</td>\n",
              "      <td>GINSBURG</td>\n",
              "      <td>0.0</td>\n",
              "      <td>['BREYER, STEPHEN', 'GINSBURG, RUTH', 'KENNEDY...</td>\n",
              "      <td>[]</td>\n",
              "      <td>1.0</td>\n",
              "      <td>2926.0</td>\n",
              "      <td>JUSTICE GINSBURG delivered the opinion of the ...</td>\n",
              "      <td>2003</td>\n",
              "      <td>7.981392</td>\n",
              "      <td>2</td>\n",
              "      <td>0.193548</td>\n",
              "      <td>0.225806</td>\n",
              "      <td>0.161290</td>\n",
              "      <td>0.419355</td>\n",
              "    </tr>\n",
              "    <tr>\n",
              "      <th>1</th>\n",
              "      <td>HILLSIDE DAIRY INC., A&amp;A DAIRY, L&amp;S DAIRY, AND...</td>\n",
              "      <td>majority</td>\n",
              "      <td>2003-06-09</td>\n",
              "      <td>STEVENS</td>\n",
              "      <td>1.0</td>\n",
              "      <td>['BREYER, STEPHEN', 'GINSBURG, RUTH', 'KENNEDY...</td>\n",
              "      <td>['THOMAS, CLARENCE']</td>\n",
              "      <td>8.0</td>\n",
              "      <td>117.0</td>\n",
              "      <td>Justice Stevens delivered the opinion of the C...</td>\n",
              "      <td>2003</td>\n",
              "      <td>4.762174</td>\n",
              "      <td>9</td>\n",
              "      <td>0.261905</td>\n",
              "      <td>0.095238</td>\n",
              "      <td>0.047619</td>\n",
              "      <td>0.595238</td>\n",
              "    </tr>\n",
              "    <tr>\n",
              "      <th>2</th>\n",
              "      <td>CHARLES RUSSELL RHINES v. DOUGLAS WEBER, WARDEN</td>\n",
              "      <td>majority</td>\n",
              "      <td>2005-03-30</td>\n",
              "      <td>O'CONNOR</td>\n",
              "      <td>1.0</td>\n",
              "      <td>['BREYER, STEPHEN', 'GINSBURG, RUTH', 'KENNEDY...</td>\n",
              "      <td>[]</td>\n",
              "      <td>1.0</td>\n",
              "      <td>23364.0</td>\n",
              "      <td>Justice O'Connor delivered the opinion of the ...</td>\n",
              "      <td>2005</td>\n",
              "      <td>10.058952</td>\n",
              "      <td>4</td>\n",
              "      <td>0.012821</td>\n",
              "      <td>0.025641</td>\n",
              "      <td>0.461538</td>\n",
              "      <td>0.500000</td>\n",
              "    </tr>\n",
              "    <tr>\n",
              "      <th>3</th>\n",
              "      <td>STATE OF ALASKA v. UNITED STATES OF AMERICA</td>\n",
              "      <td>majority</td>\n",
              "      <td>2005-06-06</td>\n",
              "      <td>KENNEDY</td>\n",
              "      <td>1.0</td>\n",
              "      <td>['BREYER, STEPHEN', 'GINSBURG, RUTH', 'KENNEDY...</td>\n",
              "      <td>['REHNQUIST, WILLIAM', 'SCALIA, ANTONIN', 'THO...</td>\n",
              "      <td>10.0</td>\n",
              "      <td>84.0</td>\n",
              "      <td>Justice Kennedy delivered the opinion of the C...</td>\n",
              "      <td>2005</td>\n",
              "      <td>4.430817</td>\n",
              "      <td>3</td>\n",
              "      <td>0.322581</td>\n",
              "      <td>0.129032</td>\n",
              "      <td>0.000000</td>\n",
              "      <td>0.548387</td>\n",
              "    </tr>\n",
              "    <tr>\n",
              "      <th>4</th>\n",
              "      <td>REGINALD A. WILKINSON, DIRECTOR, OHIO DEPARTME...</td>\n",
              "      <td>majority</td>\n",
              "      <td>2005-06-13</td>\n",
              "      <td>KENNEDY</td>\n",
              "      <td>1.0</td>\n",
              "      <td>['BREYER, STEPHEN', 'GINSBURG, RUTH', 'KENNEDY...</td>\n",
              "      <td>[]</td>\n",
              "      <td>4.0</td>\n",
              "      <td>4230.0</td>\n",
              "      <td>Justice Kennedy delivered the opinion of the C...</td>\n",
              "      <td>2005</td>\n",
              "      <td>8.349957</td>\n",
              "      <td>3</td>\n",
              "      <td>0.019231</td>\n",
              "      <td>0.000000</td>\n",
              "      <td>0.596154</td>\n",
              "      <td>0.384615</td>\n",
              "    </tr>\n",
              "    <tr>\n",
              "      <th>...</th>\n",
              "      <td>...</td>\n",
              "      <td>...</td>\n",
              "      <td>...</td>\n",
              "      <td>...</td>\n",
              "      <td>...</td>\n",
              "      <td>...</td>\n",
              "      <td>...</td>\n",
              "      <td>...</td>\n",
              "      <td>...</td>\n",
              "      <td>...</td>\n",
              "      <td>...</td>\n",
              "      <td>...</td>\n",
              "      <td>...</td>\n",
              "      <td>...</td>\n",
              "      <td>...</td>\n",
              "      <td>...</td>\n",
              "      <td>...</td>\n",
              "    </tr>\n",
              "    <tr>\n",
              "      <th>763</th>\n",
              "      <td>MICHAEL F. EASLEY, * GOVERNOR OF NORTH CAROLIN...</td>\n",
              "      <td>majority</td>\n",
              "      <td>2001-04-18</td>\n",
              "      <td>BREYER</td>\n",
              "      <td>0.0</td>\n",
              "      <td>['BREYER, STEPHEN', 'GINSBURG, RUTH', \"O'CONNO...</td>\n",
              "      <td>['KENNEDY, ANTHONY', 'REHNQUIST, WILLIAM', 'SC...</td>\n",
              "      <td>2.0</td>\n",
              "      <td>1236.0</td>\n",
              "      <td>JUSTICE BREYER delivered the opinion of the Co...</td>\n",
              "      <td>2001</td>\n",
              "      <td>7.119636</td>\n",
              "      <td>1</td>\n",
              "      <td>0.000000</td>\n",
              "      <td>0.000000</td>\n",
              "      <td>0.928994</td>\n",
              "      <td>0.071006</td>\n",
              "    </tr>\n",
              "    <tr>\n",
              "      <th>764</th>\n",
              "      <td>GAIL ATWATER, et al. v. CITY OF LAGO VISTA et al.</td>\n",
              "      <td>majority</td>\n",
              "      <td>2001-04-24</td>\n",
              "      <td>SOUTER</td>\n",
              "      <td>1.0</td>\n",
              "      <td>['KENNEDY, ANTHONY', 'REHNQUIST, WILLIAM', 'SC...</td>\n",
              "      <td>['BREYER, STEPHEN', 'GINSBURG, RUTH', \"O'CONNO...</td>\n",
              "      <td>1.0</td>\n",
              "      <td>3120.0</td>\n",
              "      <td>JUSTICE SOUTER delivered the opinion of the Co...</td>\n",
              "      <td>2001</td>\n",
              "      <td>8.045588</td>\n",
              "      <td>8</td>\n",
              "      <td>0.292308</td>\n",
              "      <td>0.046154</td>\n",
              "      <td>0.092308</td>\n",
              "      <td>0.569231</td>\n",
              "    </tr>\n",
              "    <tr>\n",
              "      <th>765</th>\n",
              "      <td>JAMES ALEXANDER, DIRECTOR, ALABAMA DEPARTMENT ...</td>\n",
              "      <td>majority</td>\n",
              "      <td>2001-04-24</td>\n",
              "      <td>SCALIA</td>\n",
              "      <td>1.0</td>\n",
              "      <td>['KENNEDY, ANTHONY', \"O'CONNOR, SANDRA\", 'REHN...</td>\n",
              "      <td>['BREYER, STEPHEN', 'GINSBURG, RUTH', 'SOUTER,...</td>\n",
              "      <td>9.0</td>\n",
              "      <td>4986.0</td>\n",
              "      <td>JUSTICE SCALIA delivered the opinion of the Co...</td>\n",
              "      <td>2001</td>\n",
              "      <td>8.514389</td>\n",
              "      <td>7</td>\n",
              "      <td>0.279070</td>\n",
              "      <td>0.465116</td>\n",
              "      <td>0.093023</td>\n",
              "      <td>0.162791</td>\n",
              "    </tr>\n",
              "    <tr>\n",
              "      <th>766</th>\n",
              "      <td>UNITED STATES v. OAKLAND CANNABIS BUYERS' COOP...</td>\n",
              "      <td>majority</td>\n",
              "      <td>2001-05-14</td>\n",
              "      <td>THOMAS</td>\n",
              "      <td>1.0</td>\n",
              "      <td>['BREYER, STEPHEN', 'GINSBURG, RUTH', 'KENNEDY...</td>\n",
              "      <td>[]</td>\n",
              "      <td>1.0</td>\n",
              "      <td>736.0</td>\n",
              "      <td>JUSTICE THOMAS delivered the opinion of the Co...</td>\n",
              "      <td>2001</td>\n",
              "      <td>6.601230</td>\n",
              "      <td>10</td>\n",
              "      <td>0.312500</td>\n",
              "      <td>0.260417</td>\n",
              "      <td>0.427083</td>\n",
              "      <td>0.000000</td>\n",
              "    </tr>\n",
              "    <tr>\n",
              "      <th>767</th>\n",
              "      <td>WILBERT K. ROGERS v. TENNESSEE</td>\n",
              "      <td>majority</td>\n",
              "      <td>2001-05-14</td>\n",
              "      <td>O'CONNOR</td>\n",
              "      <td>1.0</td>\n",
              "      <td>['GINSBURG, RUTH', 'KENNEDY, ANTHONY', \"O'CONN...</td>\n",
              "      <td>['BREYER, STEPHEN', 'SCALIA, ANTONIN', 'STEVEN...</td>\n",
              "      <td>4.0</td>\n",
              "      <td>2100.0</td>\n",
              "      <td>JUSTICE O'CONNOR delivered the opinion of the ...</td>\n",
              "      <td>2001</td>\n",
              "      <td>7.649693</td>\n",
              "      <td>4</td>\n",
              "      <td>0.324324</td>\n",
              "      <td>0.000000</td>\n",
              "      <td>0.000000</td>\n",
              "      <td>0.675676</td>\n",
              "    </tr>\n",
              "  </tbody>\n",
              "</table>\n",
              "<p>768 rows × 17 columns</p>\n",
              "</div>\n",
              "      <button class=\"colab-df-convert\" onclick=\"convertToInteractive('df-89d4a83f-e529-4f57-b202-aa39e0694d56')\"\n",
              "              title=\"Convert this dataframe to an interactive table.\"\n",
              "              style=\"display:none;\">\n",
              "        \n",
              "  <svg xmlns=\"http://www.w3.org/2000/svg\" height=\"24px\"viewBox=\"0 0 24 24\"\n",
              "       width=\"24px\">\n",
              "    <path d=\"M0 0h24v24H0V0z\" fill=\"none\"/>\n",
              "    <path d=\"M18.56 5.44l.94 2.06.94-2.06 2.06-.94-2.06-.94-.94-2.06-.94 2.06-2.06.94zm-11 1L8.5 8.5l.94-2.06 2.06-.94-2.06-.94L8.5 2.5l-.94 2.06-2.06.94zm10 10l.94 2.06.94-2.06 2.06-.94-2.06-.94-.94-2.06-.94 2.06-2.06.94z\"/><path d=\"M17.41 7.96l-1.37-1.37c-.4-.4-.92-.59-1.43-.59-.52 0-1.04.2-1.43.59L10.3 9.45l-7.72 7.72c-.78.78-.78 2.05 0 2.83L4 21.41c.39.39.9.59 1.41.59.51 0 1.02-.2 1.41-.59l7.78-7.78 2.81-2.81c.8-.78.8-2.07 0-2.86zM5.41 20L4 18.59l7.72-7.72 1.47 1.35L5.41 20z\"/>\n",
              "  </svg>\n",
              "      </button>\n",
              "      \n",
              "  <style>\n",
              "    .colab-df-container {\n",
              "      display:flex;\n",
              "      flex-wrap:wrap;\n",
              "      gap: 12px;\n",
              "    }\n",
              "\n",
              "    .colab-df-convert {\n",
              "      background-color: #E8F0FE;\n",
              "      border: none;\n",
              "      border-radius: 50%;\n",
              "      cursor: pointer;\n",
              "      display: none;\n",
              "      fill: #1967D2;\n",
              "      height: 32px;\n",
              "      padding: 0 0 0 0;\n",
              "      width: 32px;\n",
              "    }\n",
              "\n",
              "    .colab-df-convert:hover {\n",
              "      background-color: #E2EBFA;\n",
              "      box-shadow: 0px 1px 2px rgba(60, 64, 67, 0.3), 0px 1px 3px 1px rgba(60, 64, 67, 0.15);\n",
              "      fill: #174EA6;\n",
              "    }\n",
              "\n",
              "    [theme=dark] .colab-df-convert {\n",
              "      background-color: #3B4455;\n",
              "      fill: #D2E3FC;\n",
              "    }\n",
              "\n",
              "    [theme=dark] .colab-df-convert:hover {\n",
              "      background-color: #434B5C;\n",
              "      box-shadow: 0px 1px 3px 1px rgba(0, 0, 0, 0.15);\n",
              "      filter: drop-shadow(0px 1px 2px rgba(0, 0, 0, 0.3));\n",
              "      fill: #FFFFFF;\n",
              "    }\n",
              "  </style>\n",
              "\n",
              "      <script>\n",
              "        const buttonEl =\n",
              "          document.querySelector('#df-89d4a83f-e529-4f57-b202-aa39e0694d56 button.colab-df-convert');\n",
              "        buttonEl.style.display =\n",
              "          google.colab.kernel.accessAllowed ? 'block' : 'none';\n",
              "\n",
              "        async function convertToInteractive(key) {\n",
              "          const element = document.querySelector('#df-89d4a83f-e529-4f57-b202-aa39e0694d56');\n",
              "          const dataTable =\n",
              "            await google.colab.kernel.invokeFunction('convertToInteractive',\n",
              "                                                     [key], {});\n",
              "          if (!dataTable) return;\n",
              "\n",
              "          const docLinkHtml = 'Like what you see? Visit the ' +\n",
              "            '<a target=\"_blank\" href=https://colab.research.google.com/notebooks/data_table.ipynb>data table notebook</a>'\n",
              "            + ' to learn more about interactive tables.';\n",
              "          element.innerHTML = '';\n",
              "          dataTable['output_type'] = 'display_data';\n",
              "          await google.colab.output.renderOutput(dataTable, element);\n",
              "          const docLink = document.createElement('div');\n",
              "          docLink.innerHTML = docLinkHtml;\n",
              "          element.appendChild(docLink);\n",
              "        }\n",
              "      </script>\n",
              "    </div>\n",
              "  </div>\n",
              "  "
            ]
          },
          "metadata": {},
          "execution_count": 32
        }
      ],
      "source": [
        "# X = X.todense()\n",
        "X = X / X.sum(axis=1) # counts to frequencies\n",
        "for i, word in enumerate(words):\n",
        "    column = X[:,i]\n",
        "    df['x_'+word] = column\n",
        "df"
      ]
    },
    {
      "cell_type": "code",
      "execution_count": null,
      "metadata": {
        "colab": {
          "base_uri": "https://localhost:8080/"
        },
        "id": "GD2fRTtFnT0d",
        "outputId": "e3434395-6a4c-4114-eb46-9a4f7c39b5e8"
      },
      "outputs": [
        {
          "output_type": "execute_result",
          "data": {
            "text/plain": [
              "log_cite_count    1.000000\n",
              "x_state           0.153254\n",
              "x_district        0.111862\n",
              "x_congress       -0.137626\n",
              "x_act            -0.237354\n",
              "Name: log_cite_count, dtype: float64"
            ]
          },
          "metadata": {},
          "execution_count": 33
        }
      ],
      "source": [
        "# inspecting data\n",
        "import numpy as np\n",
        "features = ['x_'+x for x in words]\n",
        "cites_features = ['log_cite_count'] + features\n",
        "df2 = df[cites_features]\n",
        "corr_matrix = df2.corr()\n",
        "corr_matrix['log_cite_count'].sort_values(ascending=False)"
      ]
    },
    {
      "cell_type": "code",
      "execution_count": null,
      "metadata": {
        "colab": {
          "base_uri": "https://localhost:8080/",
          "height": 728
        },
        "id": "7YomXp92nT0d",
        "outputId": "294105b9-f8db-4cf3-be54-2e4712925b04"
      },
      "outputs": [
        {
          "output_type": "execute_result",
          "data": {
            "text/plain": [
              "array([[<AxesSubplot:xlabel='log_cite_count', ylabel='log_cite_count'>,\n",
              "        <AxesSubplot:xlabel='x_act', ylabel='log_cite_count'>,\n",
              "        <AxesSubplot:xlabel='x_congress', ylabel='log_cite_count'>,\n",
              "        <AxesSubplot:xlabel='x_district', ylabel='log_cite_count'>,\n",
              "        <AxesSubplot:xlabel='x_state', ylabel='log_cite_count'>],\n",
              "       [<AxesSubplot:xlabel='log_cite_count', ylabel='x_act'>,\n",
              "        <AxesSubplot:xlabel='x_act', ylabel='x_act'>,\n",
              "        <AxesSubplot:xlabel='x_congress', ylabel='x_act'>,\n",
              "        <AxesSubplot:xlabel='x_district', ylabel='x_act'>,\n",
              "        <AxesSubplot:xlabel='x_state', ylabel='x_act'>],\n",
              "       [<AxesSubplot:xlabel='log_cite_count', ylabel='x_congress'>,\n",
              "        <AxesSubplot:xlabel='x_act', ylabel='x_congress'>,\n",
              "        <AxesSubplot:xlabel='x_congress', ylabel='x_congress'>,\n",
              "        <AxesSubplot:xlabel='x_district', ylabel='x_congress'>,\n",
              "        <AxesSubplot:xlabel='x_state', ylabel='x_congress'>],\n",
              "       [<AxesSubplot:xlabel='log_cite_count', ylabel='x_district'>,\n",
              "        <AxesSubplot:xlabel='x_act', ylabel='x_district'>,\n",
              "        <AxesSubplot:xlabel='x_congress', ylabel='x_district'>,\n",
              "        <AxesSubplot:xlabel='x_district', ylabel='x_district'>,\n",
              "        <AxesSubplot:xlabel='x_state', ylabel='x_district'>],\n",
              "       [<AxesSubplot:xlabel='log_cite_count', ylabel='x_state'>,\n",
              "        <AxesSubplot:xlabel='x_act', ylabel='x_state'>,\n",
              "        <AxesSubplot:xlabel='x_congress', ylabel='x_state'>,\n",
              "        <AxesSubplot:xlabel='x_district', ylabel='x_state'>,\n",
              "        <AxesSubplot:xlabel='x_state', ylabel='x_state'>]], dtype=object)"
            ]
          },
          "metadata": {},
          "execution_count": 40
        },
        {
          "output_type": "display_data",
          "data": {
            "text/plain": [
              "<Figure size 432x288 with 25 Axes>"
            ],
            "image/png": "[encoded data removed]"
          },
          "metadata": {
            "needs_background": "light"
          }
        }
      ],
      "source": [
        "from pandas.plotting import scatter_matrix\n",
        "scatter_matrix(df2)"
      ]
    },
    {
      "cell_type": "code",
      "execution_count": null,
      "metadata": {
        "colab": {
          "base_uri": "https://localhost:8080/",
          "height": 297
        },
        "id": "JvnH02scnT0d",
        "outputId": "24faadb5-ceff-49b6-e1ad-1a583f2f28d6"
      },
      "outputs": [
        {
          "output_type": "execute_result",
          "data": {
            "text/plain": [
              "<AxesSubplot:xlabel='x_act', ylabel='log_cite_count'>"
            ]
          },
          "metadata": {},
          "execution_count": 41
        },
        {
          "output_type": "display_data",
          "data": {
            "text/plain": [
              "<Figure size 432x288 with 1 Axes>"
            ],
            "image/png": "[encoded data removed]"
          },
          "metadata": {
            "needs_background": "light"
          }
        }
      ],
      "source": [
        "df2.plot(kind='scatter', x='x_act', y='log_cite_count')"
      ]
    },
    {
      "cell_type": "markdown",
      "metadata": {
        "id": "7kkT6__KnT0d"
      },
      "source": [
        "# Regression"
      ]
    },
    {
      "cell_type": "code",
      "execution_count": null,
      "metadata": {
        "id": "Lv8skDLcnT0d"
      },
      "outputs": [],
      "source": [
        "# create a test set \n",
        "from sklearn.model_selection import train_test_split\n",
        "train, test = train_test_split(df2, test_size=0.2)"
      ]
    },
    {
      "cell_type": "code",
      "execution_count": null,
      "metadata": {
        "colab": {
          "base_uri": "https://localhost:8080/",
          "height": 206
        },
        "id": "6XIVUtbWnT0d",
        "outputId": "eca13c6e-0128-4c34-b06c-fec7edee2b94"
      },
      "outputs": [
        {
          "output_type": "execute_result",
          "data": {
            "text/plain": [
              "        x_act  x_congress  x_district   x_state\n",
              "596  0.173913    0.369565    0.152174  0.304348\n",
              "90   0.022388    0.000000    0.149254  0.828358\n",
              "734  0.774194    0.096774    0.096774  0.032258\n",
              "694  0.282051    0.256410    0.128205  0.333333\n",
              "517  0.016949    0.000000    0.000000  0.983051"
            ],
            "text/html": [
              "\n",
              "  <div id=\"df-d9c1a302-397c-47ef-ae1b-191c0c9445fd\">\n",
              "    <div class=\"colab-df-container\">\n",
              "      <div>\n",
              "<style scoped>\n",
              "    .dataframe tbody tr th:only-of-type {\n",
              "        vertical-align: middle;\n",
              "    }\n",
              "\n",
              "    .dataframe tbody tr th {\n",
              "        vertical-align: top;\n",
              "    }\n",
              "\n",
              "    .dataframe thead th {\n",
              "        text-align: right;\n",
              "    }\n",
              "</style>\n",
              "<table border=\"1\" class=\"dataframe\">\n",
              "  <thead>\n",
              "    <tr style=\"text-align: right;\">\n",
              "      <th></th>\n",
              "      <th>x_act</th>\n",
              "      <th>x_congress</th>\n",
              "      <th>x_district</th>\n",
              "      <th>x_state</th>\n",
              "    </tr>\n",
              "  </thead>\n",
              "  <tbody>\n",
              "    <tr>\n",
              "      <th>596</th>\n",
              "      <td>0.173913</td>\n",
              "      <td>0.369565</td>\n",
              "      <td>0.152174</td>\n",
              "      <td>0.304348</td>\n",
              "    </tr>\n",
              "    <tr>\n",
              "      <th>90</th>\n",
              "      <td>0.022388</td>\n",
              "      <td>0.000000</td>\n",
              "      <td>0.149254</td>\n",
              "      <td>0.828358</td>\n",
              "    </tr>\n",
              "    <tr>\n",
              "      <th>734</th>\n",
              "      <td>0.774194</td>\n",
              "      <td>0.096774</td>\n",
              "      <td>0.096774</td>\n",
              "      <td>0.032258</td>\n",
              "    </tr>\n",
              "    <tr>\n",
              "      <th>694</th>\n",
              "      <td>0.282051</td>\n",
              "      <td>0.256410</td>\n",
              "      <td>0.128205</td>\n",
              "      <td>0.333333</td>\n",
              "    </tr>\n",
              "    <tr>\n",
              "      <th>517</th>\n",
              "      <td>0.016949</td>\n",
              "      <td>0.000000</td>\n",
              "      <td>0.000000</td>\n",
              "      <td>0.983051</td>\n",
              "    </tr>\n",
              "  </tbody>\n",
              "</table>\n",
              "</div>\n",
              "      <button class=\"colab-df-convert\" onclick=\"convertToInteractive('df-d9c1a302-397c-47ef-ae1b-191c0c9445fd')\"\n",
              "              title=\"Convert this dataframe to an interactive table.\"\n",
              "              style=\"display:none;\">\n",
              "        \n",
              "  <svg xmlns=\"http://www.w3.org/2000/svg\" height=\"24px\"viewBox=\"0 0 24 24\"\n",
              "       width=\"24px\">\n",
              "    <path d=\"M0 0h24v24H0V0z\" fill=\"none\"/>\n",
              "    <path d=\"M18.56 5.44l.94 2.06.94-2.06 2.06-.94-2.06-.94-.94-2.06-.94 2.06-2.06.94zm-11 1L8.5 8.5l.94-2.06 2.06-.94-2.06-.94L8.5 2.5l-.94 2.06-2.06.94zm10 10l.94 2.06.94-2.06 2.06-.94-2.06-.94-.94-2.06-.94 2.06-2.06.94z\"/><path d=\"M17.41 7.96l-1.37-1.37c-.4-.4-.92-.59-1.43-.59-.52 0-1.04.2-1.43.59L10.3 9.45l-7.72 7.72c-.78.78-.78 2.05 0 2.83L4 21.41c.39.39.9.59 1.41.59.51 0 1.02-.2 1.41-.59l7.78-7.78 2.81-2.81c.8-.78.8-2.07 0-2.86zM5.41 20L4 18.59l7.72-7.72 1.47 1.35L5.41 20z\"/>\n",
              "  </svg>\n",
              "      </button>\n",
              "      \n",
              "  <style>\n",
              "    .colab-df-container {\n",
              "      display:flex;\n",
              "      flex-wrap:wrap;\n",
              "      gap: 12px;\n",
              "    }\n",
              "\n",
              "    .colab-df-convert {\n",
              "      background-color: #E8F0FE;\n",
              "      border: none;\n",
              "      border-radius: 50%;\n",
              "      cursor: pointer;\n",
              "      display: none;\n",
              "      fill: #1967D2;\n",
              "      height: 32px;\n",
              "      padding: 0 0 0 0;\n",
              "      width: 32px;\n",
              "    }\n",
              "\n",
              "    .colab-df-convert:hover {\n",
              "      background-color: #E2EBFA;\n",
              "      box-shadow: 0px 1px 2px rgba(60, 64, 67, 0.3), 0px 1px 3px 1px rgba(60, 64, 67, 0.15);\n",
              "      fill: #174EA6;\n",
              "    }\n",
              "\n",
              "    [theme=dark] .colab-df-convert {\n",
              "      background-color: #3B4455;\n",
              "      fill: #D2E3FC;\n",
              "    }\n",
              "\n",
              "    [theme=dark] .colab-df-convert:hover {\n",
              "      background-color: #434B5C;\n",
              "      box-shadow: 0px 1px 3px 1px rgba(0, 0, 0, 0.15);\n",
              "      filter: drop-shadow(0px 1px 2px rgba(0, 0, 0, 0.3));\n",
              "      fill: #FFFFFF;\n",
              "    }\n",
              "  </style>\n",
              "\n",
              "      <script>\n",
              "        const buttonEl =\n",
              "          document.querySelector('#df-d9c1a302-397c-47ef-ae1b-191c0c9445fd button.colab-df-convert');\n",
              "        buttonEl.style.display =\n",
              "          google.colab.kernel.accessAllowed ? 'block' : 'none';\n",
              "\n",
              "        async function convertToInteractive(key) {\n",
              "          const element = document.querySelector('#df-d9c1a302-397c-47ef-ae1b-191c0c9445fd');\n",
              "          const dataTable =\n",
              "            await google.colab.kernel.invokeFunction('convertToInteractive',\n",
              "                                                     [key], {});\n",
              "          if (!dataTable) return;\n",
              "\n",
              "          const docLinkHtml = 'Like what you see? Visit the ' +\n",
              "            '<a target=\"_blank\" href=https://colab.research.google.com/notebooks/data_table.ipynb>data table notebook</a>'\n",
              "            + ' to learn more about interactive tables.';\n",
              "          element.innerHTML = '';\n",
              "          dataTable['output_type'] = 'display_data';\n",
              "          await google.colab.output.renderOutput(dataTable, element);\n",
              "          const docLink = document.createElement('div');\n",
              "          docLink.innerHTML = docLinkHtml;\n",
              "          element.appendChild(docLink);\n",
              "        }\n",
              "      </script>\n",
              "    </div>\n",
              "  </div>\n",
              "  "
            ]
          },
          "metadata": {},
          "execution_count": 43
        }
      ],
      "source": [
        "Xtrain = train[features]\n",
        "Ytrain = train['log_cite_count']\n",
        "Xtrain.head()"
      ]
    },
    {
      "cell_type": "code",
      "execution_count": null,
      "metadata": {
        "colab": {
          "base_uri": "https://localhost:8080/"
        },
        "id": "WrkNsUJ1nT0e",
        "outputId": "fabc158b-af33-47e8-fd4a-d5caf2a89dd8"
      },
      "outputs": [
        {
          "output_type": "execute_result",
          "data": {
            "text/plain": [
              "596    8.449771\n",
              "90     8.477620\n",
              "734    6.648985\n",
              "694    5.236442\n",
              "517    3.583519\n",
              "Name: log_cite_count, dtype: float64"
            ]
          },
          "metadata": {},
          "execution_count": 44
        }
      ],
      "source": [
        "Ytrain.head()"
      ]
    },
    {
      "cell_type": "code",
      "execution_count": null,
      "metadata": {
        "colab": {
          "base_uri": "https://localhost:8080/"
        },
        "id": "ltwSEHgYnT0e",
        "outputId": "2413ef9a-5f67-45eb-8c78-10abbe913a59"
      },
      "outputs": [
        {
          "output_type": "execute_result",
          "data": {
            "text/plain": [
              "array([-1.05443811, -0.27079188,  0.87434979,  0.45088019])"
            ]
          },
          "metadata": {},
          "execution_count": 45
        }
      ],
      "source": [
        "# our first machine learning model\n",
        "from sklearn.linear_model import LinearRegression\n",
        "lin_reg = LinearRegression()\n",
        "\n",
        "lin_reg.fit(Xtrain, Ytrain)\n",
        "lin_reg.coef_ "
      ]
    },
    {
      "cell_type": "code",
      "execution_count": null,
      "metadata": {
        "colab": {
          "base_uri": "https://localhost:8080/"
        },
        "id": "YSUaR4iYnT0e",
        "outputId": "c594e03f-5dbd-4b87-b280-80d3c179bfb9"
      },
      "outputs": [
        {
          "output_type": "execute_result",
          "data": {
            "text/plain": [
              "2.1599649495666817"
            ]
          },
          "metadata": {},
          "execution_count": 46
        }
      ],
      "source": [
        "# in-sample performance\n",
        "from sklearn.metrics import mean_squared_error\n",
        "Ytrain_pred = lin_reg.predict(Xtrain)        \n",
        "train_mse = mean_squared_error(Ytrain,Ytrain_pred)\n",
        "train_mse"
      ]
    },
    {
      "cell_type": "code",
      "execution_count": null,
      "metadata": {
        "colab": {
          "base_uri": "https://localhost:8080/"
        },
        "id": "-m7bVZS2nT0e",
        "outputId": "9a5ebcc4-7c87-49d9-f008-a51ecfd22368"
      },
      "outputs": [
        {
          "output_type": "execute_result",
          "data": {
            "text/plain": [
              "2.1030016631048745"
            ]
          },
          "metadata": {},
          "execution_count": 47
        }
      ],
      "source": [
        "# out-of-sample performance\n",
        "Xtest = test[features]\n",
        "Ytest = test['log_cite_count']\n",
        "Ytest_pred = lin_reg.predict(Xtest)        \n",
        "test_mse = mean_squared_error(Ytest,Ytest_pred)\n",
        "test_mse"
      ]
    },
    {
      "cell_type": "code",
      "execution_count": null,
      "metadata": {
        "colab": {
          "base_uri": "https://localhost:8080/",
          "height": 457
        },
        "id": "cwjZ6ngknT0e",
        "outputId": "0824561e-3af6-40c9-e721-d4466c4ae11d"
      },
      "outputs": [
        {
          "output_type": "execute_result",
          "data": {
            "text/plain": [
              "<seaborn.axisgrid.JointGrid at 0x7fbbbc297790>"
            ]
          },
          "metadata": {},
          "execution_count": 48
        },
        {
          "output_type": "display_data",
          "data": {
            "text/plain": [
              "<Figure size 432x432 with 3 Axes>"
            ],
            "image/png": "[encoded data removed]"
          },
          "metadata": {
            "needs_background": "light"
          }
        }
      ],
      "source": [
        "import seaborn as sns\n",
        "\n",
        "p = sns.jointplot(x=Ytest, y=Ytest_pred, kind='reg')\n",
        "p.set_axis_labels('Log Citations', 'Predicted Log Citations', fontsize=10)\n"
      ]
    },
    {
      "cell_type": "markdown",
      "metadata": {
        "id": "yIoryTa4nT0e"
      },
      "source": [
        "# Pipelines and Cross-Validation"
      ]
    },
    {
      "cell_type": "code",
      "execution_count": null,
      "metadata": {
        "id": "hHA8sKRwnT0e"
      },
      "outputs": [],
      "source": [
        "# missing values\n",
        "df['authorship_id'].fillna(0,inplace=True)"
      ]
    },
    {
      "cell_type": "code",
      "execution_count": null,
      "metadata": {
        "id": "VTC5-1OlnT0e"
      },
      "outputs": [],
      "source": [
        "# Scaling\n",
        "from sklearn.preprocessing import StandardScaler\n",
        "scaler = StandardScaler()\n",
        "X = scaler.fit_transform(df2)\n",
        "df2 = pd.DataFrame(X,columns=df2.columns)"
      ]
    },
    {
      "cell_type": "code",
      "execution_count": null,
      "metadata": {
        "colab": {
          "base_uri": "https://localhost:8080/"
        },
        "id": "vCXY3qFmnT0f",
        "outputId": "68f7cea4-4b3a-498c-81f1-8a6b51e09467"
      },
      "outputs": [
        {
          "output_type": "execute_result",
          "data": {
            "text/plain": [
              "array([[ 0.4273395 , -0.10042156,  0.26583686, -0.25620003,  0.08875597],\n",
              "       [-1.69574977,  0.2303693 , -0.38976878, -0.73332927,  0.62993863],\n",
              "       [ 1.7975002 , -0.97500173, -0.73922735,  1.00407587,  0.33689649],\n",
              "       ...,\n",
              "       [ 0.778854  ,  0.31343437,  1.46745168, -0.54274748, -0.70067715],\n",
              "       [-0.48288351,  0.47521029,  0.43962056,  0.85945227, -1.20157476],\n",
              "       [ 0.20858247,  0.53243068, -0.86797524, -0.93320774,  0.87744045]])"
            ]
          },
          "metadata": {},
          "execution_count": 51
        }
      ],
      "source": [
        "X"
      ]
    },
    {
      "cell_type": "code",
      "execution_count": null,
      "metadata": {
        "colab": {
          "base_uri": "https://localhost:8080/"
        },
        "id": "A7Qazd0GnT0f",
        "outputId": "79301c4f-e4a5-4eaa-f101-66d9d4200512"
      },
      "outputs": [
        {
          "output_type": "stream",
          "name": "stdout",
          "text": [
            "(768,)\n",
            "(768, 1)\n"
          ]
        }
      ],
      "source": [
        "# Encoding categorical variables\n",
        "from sklearn.preprocessing import OneHotEncoder\n",
        "encoder = OneHotEncoder()\n",
        "judge = df['authorship_id']\n",
        "print(judge.values.shape)\n",
        "print(judge.values.reshape(-1,1).shape)\n",
        "judge_fes = encoder.fit_transform(judge.values.reshape(-1,1))\n",
        "judge_ids = ['j_'+str(x) for x in range(len(judge.unique()))]\n",
        "judge_fes = pd.DataFrame(judge_fes.todense(),columns=judge_ids)\n",
        "df = pd.concat([df,judge_fes],axis=1)\n",
        "train, test = train_test_split(df, test_size=0.2)"
      ]
    },
    {
      "cell_type": "code",
      "execution_count": null,
      "metadata": {
        "colab": {
          "base_uri": "https://localhost:8080/"
        },
        "id": "iNKP_krqnT0f",
        "outputId": "d4f1ca3c-9fa6-4ab1-a9f6-9fd91bea7582"
      },
      "outputs": [
        {
          "output_type": "stream",
          "name": "stdout",
          "text": [
            "0.08779109432773417 0.022789022811549944\n"
          ]
        }
      ],
      "source": [
        "# Cross-validation\n",
        "from sklearn.ensemble import RandomForestRegressor\n",
        "forest_reg = RandomForestRegressor()\n",
        "\n",
        "from sklearn.model_selection import cross_val_score\n",
        "scores = cross_val_score(forest_reg,\n",
        "                         df[features],\n",
        "                         df['x_republican'],\n",
        "                         cv=3,\n",
        "                         n_jobs=-1)\n",
        "\n",
        "# the default score for random forest reg is negative MSE.\n",
        "print(np.abs(scores.mean()),scores.std())"
      ]
    },
    {
      "cell_type": "code",
      "execution_count": null,
      "metadata": {
        "colab": {
          "base_uri": "https://localhost:8080/"
        },
        "id": "ZUGo2jCXnT0f",
        "outputId": "07f438dd-2605-4106-9525-f07ecc204673"
      },
      "outputs": [
        {
          "output_type": "stream",
          "name": "stdout",
          "text": [
            "{'bootstrap': True, 'max_features': 2, 'n_estimators': 30}\n",
            "0.09341235411244335\n"
          ]
        }
      ],
      "source": [
        "# Grid Search\n",
        "from sklearn.model_selection import GridSearchCV\n",
        "param_grid = {'n_estimators': [3, 10, 30],\n",
        "              'max_features': [2, 4],\n",
        "              'bootstrap': [True, False]}\n",
        "\n",
        "grid_search = GridSearchCV(forest_reg, \n",
        "                           param_grid, \n",
        "                           cv=3)              \n",
        "grid_search.fit(df[features],df['x_republican'])\n",
        "\n",
        "print(grid_search.best_params_)\n",
        "print(np.abs(grid_search.best_score_))"
      ]
    },
    {
      "cell_type": "code",
      "execution_count": null,
      "metadata": {
        "colab": {
          "base_uri": "https://localhost:8080/"
        },
        "id": "GS_GbiSlnT0f",
        "outputId": "73515115-f08a-4500-941a-98f025b2ca0f"
      },
      "outputs": [
        {
          "output_type": "stream",
          "name": "stdout",
          "text": [
            "{'n_estimators': 30, 'max_features': 2, 'bootstrap': True}\n",
            "0.08245484631700421\n"
          ]
        }
      ],
      "source": [
        "from sklearn.model_selection import RandomizedSearchCV\n",
        "rand_search = RandomizedSearchCV(forest_reg, param_grid, cv=3)              \n",
        "rand_search.fit(df[features],df['x_republican'])\n",
        "\n",
        "print(rand_search.best_params_)\n",
        "print(np.abs(rand_search.best_score_))"
      ]
    },
    {
      "cell_type": "code",
      "execution_count": null,
      "metadata": {
        "id": "qiIX7B5VnT0f"
      },
      "outputs": [],
      "source": [
        "# Saving and loading\n",
        "import joblib\n",
        "joblib.dump(forest_reg,'forest_reg.pkl') # will overwrite local files\n",
        "forest_reg = joblib.load('forest_reg.pkl')"
      ]
    },
    {
      "cell_type": "code",
      "execution_count": null,
      "metadata": {
        "id": "XLEby_2enT0f"
      },
      "outputs": [],
      "source": [
        "from sklearn.pipeline import Pipeline\n",
        "from sklearn.feature_extraction.text import TfidfTransformer\n",
        "\n",
        "pipeline = Pipeline([\n",
        "    ('vect', CountVectorizer()),\n",
        "    ('tfidf', TfidfTransformer()),\n",
        "    ('forest_reg', RandomForestRegressor()),\n",
        "])\n",
        "\n",
        "parameters = {\n",
        "    'vect__max_df': (0.5, 0.75, 1.0),\n",
        "    'vect__max_features': (2, 4, 8, 16),\n",
        "    'forest_reg__n_estimators': [3, 10, 30],\n",
        "    'forest_reg__max_features': [2, 4],\n",
        "    'forest_reg__bootstrap': [True, False]}"
      ]
    },
    {
      "cell_type": "code",
      "execution_count": null,
      "metadata": {
        "colab": {
          "base_uri": "https://localhost:8080/"
        },
        "id": "XSlxQVTbnT0f",
        "outputId": "36468ce6-ef8d-4e1d-81ad-f079d5ae7e12"
      },
      "outputs": [
        {
          "output_type": "stream",
          "name": "stdout",
          "text": [
            "Performing grid search...\n",
            "pipeline: ['vect', 'tfidf', 'forest_reg']\n",
            "parameters:\n",
            "{'forest_reg__bootstrap': [True, False],\n",
            " 'forest_reg__max_features': [2, 4],\n",
            " 'forest_reg__n_estimators': [3, 10, 30],\n",
            " 'vect__max_df': (0.5, 0.75, 1.0),\n",
            " 'vect__max_features': (2, 4, 8, 16)}\n",
            "Fitting 5 folds for each of 144 candidates, totalling 720 fits\n",
            "done in 2514.982s\n",
            "\n",
            "Best score: 0.176\n",
            "Best parameters set:\n",
            "\tforest_reg__bootstrap: True\n",
            "\tforest_reg__max_features: 2\n",
            "\tforest_reg__n_estimators: 30\n",
            "\tvect__max_df: 0.75\n",
            "\tvect__max_features: 16\n"
          ]
        }
      ],
      "source": [
        "from pprint import pprint\n",
        "from time import time\n",
        "\n",
        "if __name__ == \"__main__\":\n",
        "    # multiprocessing requires the fork to happen in a __main__ protected\n",
        "    # block\n",
        "\n",
        "    # find the best parameters for both the feature extraction and the\n",
        "    # classifier\n",
        "    grid_search = GridSearchCV(pipeline, parameters, n_jobs=-1, verbose=1)\n",
        "\n",
        "    print(\"Performing grid search...\")\n",
        "    print(\"pipeline:\", [name for name, _ in pipeline.steps])\n",
        "    print(\"parameters:\")\n",
        "    pprint(parameters)\n",
        "    t0 = time()\n",
        "    grid_search.fit(df.opinion_text, df.log_cite_count)\n",
        "    print(\"done in %0.3fs\" % (time() - t0))\n",
        "    print()\n",
        "\n",
        "    print(\"Best score: %0.3f\" % grid_search.best_score_)\n",
        "    print(\"Best parameters set:\")\n",
        "    best_parameters = grid_search.best_estimator_.get_params()\n",
        "    for param_name in sorted(parameters.keys()):\n",
        "        print(\"\\t%s: %r\" % (param_name, best_parameters[param_name]))"
      ]
    },
    {
      "cell_type": "markdown",
      "metadata": {
        "id": "q14Q6zolnT0g"
      },
      "source": [
        "## Nested Cross-Validation"
      ]
    },
    {
      "cell_type": "code",
      "execution_count": null,
      "metadata": {
        "colab": {
          "base_uri": "https://localhost:8080/"
        },
        "id": "jiiES2J4nT0g",
        "outputId": "0b8c41ef-935e-412e-d239-df2207b5ae62"
      },
      "outputs": [
        {
          "output_type": "stream",
          "name": "stdout",
          "text": [
            "Average difference of 0.014238 with std. dev. of 0.021509.\n"
          ]
        }
      ],
      "source": [
        "import numpy as np\n",
        "from sklearn.model_selection import KFold\n",
        "n = 30\n",
        "\n",
        "forest_reg = RandomForestRegressor()\n",
        "non_nested_scores = np.zeros(n)\n",
        "nested_scores = np.zeros(n)\n",
        "\n",
        "\n",
        "param_grid = {'n_estimators': [3, 10, 30],\n",
        "              'max_features': [2, 4],\n",
        "              'bootstrap': [True, False]}\n",
        "\n",
        "for i in range(n):\n",
        "\n",
        "    # Choose cross-validation techniques for the inner and outer loops,\n",
        "\n",
        "    inner_cv = KFold(n_splits=4, shuffle=True, random_state=i)\n",
        "    outer_cv = KFold(n_splits=4, shuffle=True, random_state=i)\n",
        "\n",
        "    # Non_nested parameter search and scoring\n",
        "    grid_search = GridSearchCV(estimator=forest_reg, param_grid=param_grid, cv=inner_cv)\n",
        "    grid_search.fit(Xtrain, Ytrain)\n",
        "    non_nested_scores[i] = grid_search.best_score_\n",
        "\n",
        "    # Nested CV with parameter optimization\n",
        "    nested_score = cross_val_score(grid_search, X=Xtrain, y=Ytrain, cv=outer_cv)\n",
        "    nested_scores[i] = nested_score.mean()\n",
        "\n",
        "score_difference = non_nested_scores - nested_scores\n",
        "print(\"Average difference of {:6f} with std. dev. of {:6f}.\"\n",
        "      .format(score_difference.mean(), score_difference.std()))\n"
      ]
    },
    {
      "cell_type": "markdown",
      "metadata": {
        "id": "UEhJpFcunT0g"
      },
      "source": [
        "# Regularization"
      ]
    },
    {
      "cell_type": "code",
      "execution_count": null,
      "metadata": {
        "colab": {
          "base_uri": "https://localhost:8080/"
        },
        "id": "ch1MyV_AnT0g",
        "outputId": "9d0da374-9731-4204-afa0-de1eb590d083"
      },
      "outputs": [
        {
          "output_type": "execute_result",
          "data": {
            "text/plain": [
              "0.4100209587834282"
            ]
          },
          "metadata": {},
          "execution_count": 65
        }
      ],
      "source": [
        "from sklearn.model_selection import cross_val_score\n",
        "import numpy as np\n",
        "from sklearn.linear_model import LinearRegression\n",
        "\n",
        "m = 100\n",
        "x = 6 * np.random.rand(m,1) - 3\n",
        "y = 0.5 * x ** 2 + x + 2 + np.random.randn(m,1)\n",
        "y = y.ravel()\n",
        "\n",
        "from sklearn.preprocessing import PolynomialFeatures\n",
        "poly_2 = PolynomialFeatures(degree=2) # also adds interactions\n",
        "X_poly_2 = poly_2.fit_transform(x)\n",
        "\n",
        "\n",
        "poly_300 = PolynomialFeatures(degree=300) \n",
        "X_poly_300 = poly_300.fit_transform(x)\n",
        "\n",
        "\n",
        "lin_reg = LinearRegression()\n",
        "cross_val_score(lin_reg, x, y, cv=3, n_jobs=3).mean()"
      ]
    },
    {
      "cell_type": "code",
      "execution_count": null,
      "metadata": {
        "colab": {
          "base_uri": "https://localhost:8080/"
        },
        "id": "2T8Lcu7UnT0g",
        "outputId": "7899a073-8404-466c-c2df-3c953b453cb5"
      },
      "outputs": [
        {
          "output_type": "execute_result",
          "data": {
            "text/plain": [
              "0.8765265541770128"
            ]
          },
          "metadata": {},
          "execution_count": 66
        }
      ],
      "source": [
        "cross_val_score(lin_reg, X_poly_2, y, cv=3, n_jobs=3).mean()"
      ]
    },
    {
      "cell_type": "code",
      "execution_count": null,
      "metadata": {
        "colab": {
          "base_uri": "https://localhost:8080/"
        },
        "id": "noeptlbUnT0g",
        "outputId": "fa8a17da-ab60-40a7-abd8-b97fe65d3038"
      },
      "outputs": [
        {
          "output_type": "execute_result",
          "data": {
            "text/plain": [
              "-2212507309162538.0"
            ]
          },
          "metadata": {},
          "execution_count": 67
        }
      ],
      "source": [
        "cross_val_score(lin_reg, X_poly_300, y, cv=3, n_jobs=3).mean()"
      ]
    },
    {
      "cell_type": "code",
      "execution_count": null,
      "metadata": {
        "colab": {
          "base_uri": "https://localhost:8080/"
        },
        "id": "BCczP2l0nT0g",
        "outputId": "511b56b1-fc67-47dc-ceb1-d3962afd060d"
      },
      "outputs": [
        {
          "output_type": "execute_result",
          "data": {
            "text/plain": [
              "0.3529145517634959"
            ]
          },
          "metadata": {},
          "execution_count": 68
        }
      ],
      "source": [
        "# Lasso\n",
        "from sklearn.linear_model import Lasso\n",
        "lasso_reg = Lasso(alpha=0.1)\n",
        "cross_val_score(lasso_reg,x,y).mean()"
      ]
    },
    {
      "cell_type": "code",
      "execution_count": null,
      "metadata": {
        "colab": {
          "base_uri": "https://localhost:8080/"
        },
        "id": "0ZqqnV2enT0g",
        "outputId": "33fbd40f-540b-4d73-8fdf-7ff310289f60"
      },
      "outputs": [
        {
          "output_type": "execute_result",
          "data": {
            "text/plain": [
              "0.3496477086077504"
            ]
          },
          "metadata": {},
          "execution_count": 69
        }
      ],
      "source": [
        "# Ridge\n",
        "from sklearn.linear_model import Ridge, SGDRegressor\n",
        "ridge_reg = Ridge(alpha=1)\n",
        "cross_val_score(ridge_reg,x,y).mean()"
      ]
    },
    {
      "cell_type": "code",
      "execution_count": null,
      "metadata": {
        "colab": {
          "base_uri": "https://localhost:8080/"
        },
        "id": "lcFtCIj_nT0h",
        "outputId": "177eb97e-7dc0-4b42-f4fd-18fffd5ad493"
      },
      "outputs": [
        {
          "output_type": "execute_result",
          "data": {
            "text/plain": [
              "(0.1, 0.0001)"
            ]
          },
          "metadata": {},
          "execution_count": 70
        }
      ],
      "source": [
        "###\n",
        "# Elastic Net\n",
        "###\n",
        "from sklearn.linear_model import ElasticNetCV\n",
        "enet_reg = ElasticNetCV(alphas=[.0001, .001, .01,.1,1], \n",
        "                        l1_ratio=[.0001, .001, .01,.1,.5,.9, .99, 1])\n",
        "enet_reg.fit(x,y)\n",
        "enet_reg.alpha_, enet_reg.l1_ratio_"
      ]
    },
    {
      "cell_type": "code",
      "execution_count": null,
      "metadata": {
        "colab": {
          "base_uri": "https://localhost:8080/"
        },
        "id": "UwsU4-ManT0h",
        "outputId": "0e7225be-2f99-462a-a8c3-542a4d618375"
      },
      "outputs": [
        {
          "output_type": "execute_result",
          "data": {
            "text/plain": [
              "0.3555344339965723"
            ]
          },
          "metadata": {},
          "execution_count": 71
        }
      ],
      "source": [
        "cross_val_score(enet_reg,x,y).mean()"
      ]
    },
    {
      "cell_type": "code",
      "execution_count": null,
      "metadata": {
        "colab": {
          "base_uri": "https://localhost:8080/"
        },
        "id": "l65Yg-2rnT0h",
        "outputId": "feab00b3-4620-4ab3-f0d5-77213419e47c"
      },
      "outputs": [
        {
          "output_type": "stream",
          "name": "stdout",
          "text": [
            "5 non-zero of 5 coefficients.\n"
          ]
        },
        {
          "output_type": "execute_result",
          "data": {
            "text/plain": [
              "0.009194244568332843"
            ]
          },
          "metadata": {},
          "execution_count": 72
        }
      ],
      "source": [
        "scaler = StandardScaler()\n",
        "Xscale = scaler.fit_transform(X)\n",
        "from sklearn.linear_model import ElasticNet\n",
        "enet_reg = ElasticNet(alpha=.1, l1_ratio=.0001)\n",
        "enet_reg.fit(Xscale,df['x_republican'])\n",
        "nonzero = enet_reg.coef_ != 0\n",
        "print(nonzero.sum(),'non-zero of',len(enet_reg.coef_),'coefficients.')\n",
        "X_enet = X[:,nonzero]\n",
        "X_enet\n",
        "cross_val_score(enet_reg,X_enet,df['x_republican'],n_jobs=-1).mean()"
      ]
    },
    {
      "cell_type": "markdown",
      "metadata": {
        "id": "2KybLo0HnT0h"
      },
      "source": [
        "# Classification"
      ]
    },
    {
      "cell_type": "code",
      "execution_count": null,
      "metadata": {
        "colab": {
          "base_uri": "https://localhost:8080/",
          "height": 317
        },
        "id": "MBIu0s7LnT0h",
        "outputId": "2e960530-32c2-4d0b-9ca1-67df07042268"
      },
      "outputs": [
        {
          "output_type": "execute_result",
          "data": {
            "text/plain": [
              "   x_republican     x_000      x_10     x_100     x_101     x_102     x_103  \\\n",
              "0           0.0  0.000000  0.000000  0.000000  0.001709  0.001709  0.001709   \n",
              "1           1.0  0.000000  0.002639  0.000000  0.002639  0.000000  0.000000   \n",
              "2           1.0  0.000000  0.000000  0.000000  0.000000  0.014706  0.000000   \n",
              "3           1.0  0.000000  0.003652  0.001461  0.000000  0.000000  0.000730   \n",
              "4           1.0  0.001003  0.002006  0.001003  0.000000  0.000000  0.004012   \n",
              "\n",
              "      x_104  x_104 ct     x_105  ...  x_violated  x_violation   x_water  \\\n",
              "0  0.001709  0.001709  0.001709  ...    0.000000     0.003419  0.000000   \n",
              "1  0.005277  0.002639  0.000000  ...    0.002639     0.000000  0.000000   \n",
              "2  0.000000  0.000000  0.000000  ...    0.000000     0.001634  0.000000   \n",
              "3  0.000000  0.000000  0.006574  ...    0.000000     0.000000  0.013879   \n",
              "4  0.000000  0.000000  0.001003  ...    0.002006     0.002006  0.000000   \n",
              "\n",
              "      x_way    x_west   x_words    x_work    x_year   x_years  x_york  \n",
              "0  0.001709  0.000000  0.011966  0.000000  0.017094  0.000000     0.0  \n",
              "1  0.000000  0.005277  0.002639  0.000000  0.000000  0.000000     0.0  \n",
              "2  0.001634  0.000000  0.000000  0.000000  0.013072  0.001634     0.0  \n",
              "3  0.002922  0.000000  0.000000  0.000000  0.000730  0.002922     0.0  \n",
              "4  0.000000  0.000000  0.000000  0.001003  0.003009  0.001003     0.0  \n",
              "\n",
              "[5 rows x 501 columns]"
            ],
            "text/html": [
              "\n",
              "  <div id=\"df-b2694a2b-a832-4250-9c34-3c9977afd16c\">\n",
              "    <div class=\"colab-df-container\">\n",
              "      <div>\n",
              "<style scoped>\n",
              "    .dataframe tbody tr th:only-of-type {\n",
              "        vertical-align: middle;\n",
              "    }\n",
              "\n",
              "    .dataframe tbody tr th {\n",
              "        vertical-align: top;\n",
              "    }\n",
              "\n",
              "    .dataframe thead th {\n",
              "        text-align: right;\n",
              "    }\n",
              "</style>\n",
              "<table border=\"1\" class=\"dataframe\">\n",
              "  <thead>\n",
              "    <tr style=\"text-align: right;\">\n",
              "      <th></th>\n",
              "      <th>x_republican</th>\n",
              "      <th>x_000</th>\n",
              "      <th>x_10</th>\n",
              "      <th>x_100</th>\n",
              "      <th>x_101</th>\n",
              "      <th>x_102</th>\n",
              "      <th>x_103</th>\n",
              "      <th>x_104</th>\n",
              "      <th>x_104 ct</th>\n",
              "      <th>x_105</th>\n",
              "      <th>...</th>\n",
              "      <th>x_violated</th>\n",
              "      <th>x_violation</th>\n",
              "      <th>x_water</th>\n",
              "      <th>x_way</th>\n",
              "      <th>x_west</th>\n",
              "      <th>x_words</th>\n",
              "      <th>x_work</th>\n",
              "      <th>x_year</th>\n",
              "      <th>x_years</th>\n",
              "      <th>x_york</th>\n",
              "    </tr>\n",
              "  </thead>\n",
              "  <tbody>\n",
              "    <tr>\n",
              "      <th>0</th>\n",
              "      <td>0.0</td>\n",
              "      <td>0.000000</td>\n",
              "      <td>0.000000</td>\n",
              "      <td>0.000000</td>\n",
              "      <td>0.001709</td>\n",
              "      <td>0.001709</td>\n",
              "      <td>0.001709</td>\n",
              "      <td>0.001709</td>\n",
              "      <td>0.001709</td>\n",
              "      <td>0.001709</td>\n",
              "      <td>...</td>\n",
              "      <td>0.000000</td>\n",
              "      <td>0.003419</td>\n",
              "      <td>0.000000</td>\n",
              "      <td>0.001709</td>\n",
              "      <td>0.000000</td>\n",
              "      <td>0.011966</td>\n",
              "      <td>0.000000</td>\n",
              "      <td>0.017094</td>\n",
              "      <td>0.000000</td>\n",
              "      <td>0.0</td>\n",
              "    </tr>\n",
              "    <tr>\n",
              "      <th>1</th>\n",
              "      <td>1.0</td>\n",
              "      <td>0.000000</td>\n",
              "      <td>0.002639</td>\n",
              "      <td>0.000000</td>\n",
              "      <td>0.002639</td>\n",
              "      <td>0.000000</td>\n",
              "      <td>0.000000</td>\n",
              "      <td>0.005277</td>\n",
              "      <td>0.002639</td>\n",
              "      <td>0.000000</td>\n",
              "      <td>...</td>\n",
              "      <td>0.002639</td>\n",
              "      <td>0.000000</td>\n",
              "      <td>0.000000</td>\n",
              "      <td>0.000000</td>\n",
              "      <td>0.005277</td>\n",
              "      <td>0.002639</td>\n",
              "      <td>0.000000</td>\n",
              "      <td>0.000000</td>\n",
              "      <td>0.000000</td>\n",
              "      <td>0.0</td>\n",
              "    </tr>\n",
              "    <tr>\n",
              "      <th>2</th>\n",
              "      <td>1.0</td>\n",
              "      <td>0.000000</td>\n",
              "      <td>0.000000</td>\n",
              "      <td>0.000000</td>\n",
              "      <td>0.000000</td>\n",
              "      <td>0.014706</td>\n",
              "      <td>0.000000</td>\n",
              "      <td>0.000000</td>\n",
              "      <td>0.000000</td>\n",
              "      <td>0.000000</td>\n",
              "      <td>...</td>\n",
              "      <td>0.000000</td>\n",
              "      <td>0.001634</td>\n",
              "      <td>0.000000</td>\n",
              "      <td>0.001634</td>\n",
              "      <td>0.000000</td>\n",
              "      <td>0.000000</td>\n",
              "      <td>0.000000</td>\n",
              "      <td>0.013072</td>\n",
              "      <td>0.001634</td>\n",
              "      <td>0.0</td>\n",
              "    </tr>\n",
              "    <tr>\n",
              "      <th>3</th>\n",
              "      <td>1.0</td>\n",
              "      <td>0.000000</td>\n",
              "      <td>0.003652</td>\n",
              "      <td>0.001461</td>\n",
              "      <td>0.000000</td>\n",
              "      <td>0.000000</td>\n",
              "      <td>0.000730</td>\n",
              "      <td>0.000000</td>\n",
              "      <td>0.000000</td>\n",
              "      <td>0.006574</td>\n",
              "      <td>...</td>\n",
              "      <td>0.000000</td>\n",
              "      <td>0.000000</td>\n",
              "      <td>0.013879</td>\n",
              "      <td>0.002922</td>\n",
              "      <td>0.000000</td>\n",
              "      <td>0.000000</td>\n",
              "      <td>0.000000</td>\n",
              "      <td>0.000730</td>\n",
              "      <td>0.002922</td>\n",
              "      <td>0.0</td>\n",
              "    </tr>\n",
              "    <tr>\n",
              "      <th>4</th>\n",
              "      <td>1.0</td>\n",
              "      <td>0.001003</td>\n",
              "      <td>0.002006</td>\n",
              "      <td>0.001003</td>\n",
              "      <td>0.000000</td>\n",
              "      <td>0.000000</td>\n",
              "      <td>0.004012</td>\n",
              "      <td>0.000000</td>\n",
              "      <td>0.000000</td>\n",
              "      <td>0.001003</td>\n",
              "      <td>...</td>\n",
              "      <td>0.002006</td>\n",
              "      <td>0.002006</td>\n",
              "      <td>0.000000</td>\n",
              "      <td>0.000000</td>\n",
              "      <td>0.000000</td>\n",
              "      <td>0.000000</td>\n",
              "      <td>0.001003</td>\n",
              "      <td>0.003009</td>\n",
              "      <td>0.001003</td>\n",
              "      <td>0.0</td>\n",
              "    </tr>\n",
              "  </tbody>\n",
              "</table>\n",
              "<p>5 rows × 501 columns</p>\n",
              "</div>\n",
              "      <button class=\"colab-df-convert\" onclick=\"convertToInteractive('df-b2694a2b-a832-4250-9c34-3c9977afd16c')\"\n",
              "              title=\"Convert this dataframe to an interactive table.\"\n",
              "              style=\"display:none;\">\n",
              "        \n",
              "  <svg xmlns=\"http://www.w3.org/2000/svg\" height=\"24px\"viewBox=\"0 0 24 24\"\n",
              "       width=\"24px\">\n",
              "    <path d=\"M0 0h24v24H0V0z\" fill=\"none\"/>\n",
              "    <path d=\"M18.56 5.44l.94 2.06.94-2.06 2.06-.94-2.06-.94-.94-2.06-.94 2.06-2.06.94zm-11 1L8.5 8.5l.94-2.06 2.06-.94-2.06-.94L8.5 2.5l-.94 2.06-2.06.94zm10 10l.94 2.06.94-2.06 2.06-.94-2.06-.94-.94-2.06-.94 2.06-2.06.94z\"/><path d=\"M17.41 7.96l-1.37-1.37c-.4-.4-.92-.59-1.43-.59-.52 0-1.04.2-1.43.59L10.3 9.45l-7.72 7.72c-.78.78-.78 2.05 0 2.83L4 21.41c.39.39.9.59 1.41.59.51 0 1.02-.2 1.41-.59l7.78-7.78 2.81-2.81c.8-.78.8-2.07 0-2.86zM5.41 20L4 18.59l7.72-7.72 1.47 1.35L5.41 20z\"/>\n",
              "  </svg>\n",
              "      </button>\n",
              "      \n",
              "  <style>\n",
              "    .colab-df-container {\n",
              "      display:flex;\n",
              "      flex-wrap:wrap;\n",
              "      gap: 12px;\n",
              "    }\n",
              "\n",
              "    .colab-df-convert {\n",
              "      background-color: #E8F0FE;\n",
              "      border: none;\n",
              "      border-radius: 50%;\n",
              "      cursor: pointer;\n",
              "      display: none;\n",
              "      fill: #1967D2;\n",
              "      height: 32px;\n",
              "      padding: 0 0 0 0;\n",
              "      width: 32px;\n",
              "    }\n",
              "\n",
              "    .colab-df-convert:hover {\n",
              "      background-color: #E2EBFA;\n",
              "      box-shadow: 0px 1px 2px rgba(60, 64, 67, 0.3), 0px 1px 3px 1px rgba(60, 64, 67, 0.15);\n",
              "      fill: #174EA6;\n",
              "    }\n",
              "\n",
              "    [theme=dark] .colab-df-convert {\n",
              "      background-color: #3B4455;\n",
              "      fill: #D2E3FC;\n",
              "    }\n",
              "\n",
              "    [theme=dark] .colab-df-convert:hover {\n",
              "      background-color: #434B5C;\n",
              "      box-shadow: 0px 1px 3px 1px rgba(0, 0, 0, 0.15);\n",
              "      filter: drop-shadow(0px 1px 2px rgba(0, 0, 0, 0.3));\n",
              "      fill: #FFFFFF;\n",
              "    }\n",
              "  </style>\n",
              "\n",
              "      <script>\n",
              "        const buttonEl =\n",
              "          document.querySelector('#df-b2694a2b-a832-4250-9c34-3c9977afd16c button.colab-df-convert');\n",
              "        buttonEl.style.display =\n",
              "          google.colab.kernel.accessAllowed ? 'block' : 'none';\n",
              "\n",
              "        async function convertToInteractive(key) {\n",
              "          const element = document.querySelector('#df-b2694a2b-a832-4250-9c34-3c9977afd16c');\n",
              "          const dataTable =\n",
              "            await google.colab.kernel.invokeFunction('convertToInteractive',\n",
              "                                                     [key], {});\n",
              "          if (!dataTable) return;\n",
              "\n",
              "          const docLinkHtml = 'Like what you see? Visit the ' +\n",
              "            '<a target=\"_blank\" href=https://colab.research.google.com/notebooks/data_table.ipynb>data table notebook</a>'\n",
              "            + ' to learn more about interactive tables.';\n",
              "          element.innerHTML = '';\n",
              "          dataTable['output_type'] = 'display_data';\n",
              "          await google.colab.output.renderOutput(dataTable, element);\n",
              "          const docLink = document.createElement('div');\n",
              "          docLink.innerHTML = docLinkHtml;\n",
              "          element.appendChild(docLink);\n",
              "        }\n",
              "      </script>\n",
              "    </div>\n",
              "  </div>\n",
              "  "
            ]
          },
          "metadata": {},
          "execution_count": 114
        }
      ],
      "source": [
        "# Make a small data set\n",
        "df = pd.read_pickle('sc_cases_cleaned.pkl',compression='gzip')\n",
        "df=df.reset_index(drop=True)\n",
        "\n",
        "from sklearn.feature_extraction.text import CountVectorizer\n",
        "vectorizer500 = CountVectorizer(min_df=0.01, # at min 1% of docs\n",
        "                        max_df=.9,  \n",
        "                        max_features=500,\n",
        "                        stop_words='english',\n",
        "                        ngram_range=(1,3))\n",
        "X500 = vectorizer500.fit_transform(df['opinion_text']).todense()\n",
        "X500 = X500 / X500.sum(axis=1) # counts to frequencies\n",
        "vocab = vectorizer500.get_feature_names_out()\n",
        "for i, word in enumerate(vocab):\n",
        "    column = X500[:,i]\n",
        "    df['x_'+word] = column\n",
        "\n",
        "\n",
        "features = [x for x in df.columns if x.startswith('x_') and x!=\"x_republican\"]\n",
        "keepcols = ['x_republican'] + features\n",
        "df1 = df[keepcols]\n",
        "y = df1['x_republican']\n",
        "# set up train/test split\n",
        "from sklearn.model_selection import train_test_split\n",
        "train, test = train_test_split(df1, test_size=0.2)\n",
        "features = [x for x in df1.columns if x.startswith('x_') and x!=\"x_republican\"]\n",
        "df1.head()"
      ]
    },
    {
      "cell_type": "code",
      "execution_count": null,
      "metadata": {
        "scrolled": true,
        "colab": {
          "base_uri": "https://localhost:8080/"
        },
        "id": "znOrMF5snT0h",
        "outputId": "c717a6b2-7ecf-4ce0-b4a6-c49dece7c99a"
      },
      "outputs": [
        {
          "output_type": "execute_result",
          "data": {
            "text/plain": [
              "0.8051948051948052"
            ]
          },
          "metadata": {},
          "execution_count": 120
        }
      ],
      "source": [
        "# Binary Classifier\n",
        "from sklearn.linear_model import SGDClassifier\n",
        "sgd_clf = SGDClassifier(max_iter=10) \n",
        "sgd_clf.fit(train[features], train['x_republican'])\n",
        "sgd_clf.score(test[features],test['x_republican']) # accuracy on held-out data"
      ]
    },
    {
      "cell_type": "code",
      "execution_count": null,
      "metadata": {
        "scrolled": true,
        "colab": {
          "base_uri": "https://localhost:8080/"
        },
        "id": "rBihcxW_nT0h",
        "outputId": "80c7049c-3fe0-4a4b-d405-3561c18998f1"
      },
      "outputs": [
        {
          "output_type": "execute_result",
          "data": {
            "text/plain": [
              "0.7734375"
            ]
          },
          "metadata": {},
          "execution_count": 121
        }
      ],
      "source": [
        "# compare to picking largest category\n",
        "df1['x_republican'].mean()"
      ]
    },
    {
      "cell_type": "code",
      "execution_count": null,
      "metadata": {
        "id": "fuIwGlphnT0h"
      },
      "outputs": [],
      "source": [
        "from multiprocessing import cpu_count\n",
        "nthreads = cpu_count() - 1\n",
        "\n",
        "# Form cross-validated prdictions for all data points\n",
        "from sklearn.model_selection import cross_val_predict\n",
        "df1['x_republican_sgd'] = cross_val_predict(sgd_clf,\n",
        "                                         df1[features],\n",
        "                                         df1['x_republican'],\n",
        "                                         cv=3,\n",
        "                                         n_jobs=nthreads)"
      ]
    },
    {
      "cell_type": "markdown",
      "metadata": {
        "id": "HnvNY0uJnT0h"
      },
      "source": [
        "After applying a classifier to a data set with known labels `0` and `1`:\n",
        "\n",
        "<div class=\"alert alert-block alert-warning\">\n",
        "\n",
        "<div style=\"font-size: 150%;\"><i class=\"fa fa-info-circle\"></i>&nbsp;Definition</div>\n",
        "<ul>\n",
        "\n",
        "<li><strong>TP (true positives)</strong>: labels which were predicted as <code>1</code> and actually are <code>1</code>. <br/><br/>\n",
        "\n",
        "\n",
        "<li><strong>TN (true negatives)</strong>: labels which were predicted as <code>0</code> and actually are <code>0</code>.<br/><br/>\n",
        "\n",
        "\n",
        "<li><strong>FP (false positives)</strong>: labels which were predicted as <code>1</code> and actually are <code>0</code>.<br/><br/>\n",
        "\n",
        "\n",
        "<li><strong>FN (false negatives)</strong>: labels which were predicted as <code>0</code> and actually are <code>1</code>.<br/><br/>\n",
        "\n",
        "</ul>\n",
        "\n",
        "To memorize this: \n",
        "\n",
        "<ul>\n",
        "\n",
        "<li>The second word \"positives\"/\"negatives\" refers to the prediction computed by the classifier.\n",
        "<li>The first word \"true\"/\"false\" expresses if the classification was correct or not.\n",
        "\n",
        "</ul>\n",
        "\n",
        "This is the so called <strong>Confusion Matrix</strong>:\n",
        "\n",
        "<table style=\"border: 1px; font-family: 'Source Code Pro', monocco, Consolas, monocco, monospace;\n",
        "              font-size:110%;\">\n",
        "    <tbody >\n",
        "        <tr>\n",
        "            <td style=\"padding: 10px; background:#f8f8f8;\"> </td>\n",
        "            <td style=\"padding: 10px; background:#f8f8f8;\">Predicted N</td>\n",
        "            <td style=\"padding: 10px; background:#f8f8f8;\">Predicted P</td>\n",
        "        </tr>\n",
        "        <tr>\n",
        "            <td style=\"padding: 10px; background:#f8f8f8;\">Actual N</td>\n",
        "            <td style=\"padding: 10px; background:#fcfcfc; text-align:center; font-weight: bold\">TN         </td>\n",
        "            <td style=\"padding: 10px; background:#fcfcfc; text-align:center; font-weight: bold\">FP         </td>\n",
        "        </tr>\n",
        "        <tr>\n",
        "            <td style=\"padding: 10px; background:#f8f8f8;\">Actual P</td>\n",
        "            <td style=\"padding: 10px; background:#fcfcfc; text-align:center; font-weight: bold\">FN         </td>\n",
        "            <td style=\"padding: 10px; background:#fcfcfc; text-align:center; font-weight: bold\">TP         </td>\n",
        "        </tr>\n",
        "    </tbody>\n",
        "</table>\n",
        "\n",
        "</div>\n",
        "\n",
        "\n",
        "\n",
        "- So the total number of predictions can be expressed as `TP` + `FP` + `FN` + `TN`.\n",
        "\n",
        "\n",
        "- The number of correct predictions is `TP` + `TN`.\n",
        "\n",
        "\n",
        "- `TP` + `FN` is the number of positive examples in our data set, \n",
        "\n",
        "\n",
        "- `FP` + `TN` is the number of negative examples.\n",
        "\n",
        "- **precision** is computed as <code>TP / (TP + FP)</code>.\n",
        "\n",
        "\n",
        "- **recall** is computed as <code>TP / (TP + FN)</code>.\n",
        "\n",
        "- The **F1 score** is computed as <code>F1 = 2 * (precision * recall) / (precision + recall)</code>.\n",
        "\n",
        "\n",
        "<div class=\"alert alert-block alert-warning\">\n",
        "<div style=\"font-size: 150%;\"><i class=\"fa fa-info-circle\"></i>&nbsp;Definition</div>\n",
        "\n",
        "This allows us to define <strong>accuracy</strong> as (<code>TP</code> + <code>TN</code>) / (<code>TP</code> + <code>FP</code> + <code>FN</code> + <code>TN</code>).\n",
        "\n",
        "</div>"
      ]
    },
    {
      "cell_type": "code",
      "execution_count": null,
      "metadata": {
        "colab": {
          "base_uri": "https://localhost:8080/",
          "height": 296
        },
        "id": "2YUWPEPZnT0i",
        "outputId": "354f2452-1415-44a9-fd76-cabd269295d3"
      },
      "outputs": [
        {
          "output_type": "execute_result",
          "data": {
            "text/plain": [
              "<sklearn.metrics._plot.confusion_matrix.ConfusionMatrixDisplay at 0x7fbbbd4becd0>"
            ]
          },
          "metadata": {},
          "execution_count": 123
        },
        {
          "output_type": "display_data",
          "data": {
            "text/plain": [
              "<Figure size 432x288 with 2 Axes>"
            ],
            "image/png": "[encoded data removed]"
          },
          "metadata": {
            "needs_background": "light"
          }
        }
      ],
      "source": [
        "# Construct confusion matrix\n",
        "from sklearn.metrics import confusion_matrix, ConfusionMatrixDisplay\n",
        "cm = confusion_matrix(df1['x_republican'], df1['x_republican_sgd'])\n",
        "display = ConfusionMatrixDisplay(cm)\n",
        "display.plot()"
      ]
    },
    {
      "cell_type": "code",
      "execution_count": null,
      "metadata": {
        "colab": {
          "base_uri": "https://localhost:8080/"
        },
        "id": "Nw4syyvnnT0i",
        "outputId": "7cda3a1c-2fd2-45e4-cfc2-09c5171a4b6b"
      },
      "outputs": [
        {
          "output_type": "stream",
          "name": "stdout",
          "text": [
            "Precision: 0.7734375\n",
            "Recall: 1.0\n"
          ]
        }
      ],
      "source": [
        "# Precision and Recall\n",
        "from sklearn.metrics import precision_score, recall_score\n",
        "print('Precision:',precision_score(df1['x_republican'], df1['x_republican_sgd']))\n",
        "print('Recall:',recall_score(df1['x_republican'], df1['x_republican_sgd']))"
      ]
    },
    {
      "cell_type": "code",
      "execution_count": null,
      "metadata": {
        "colab": {
          "base_uri": "https://localhost:8080/"
        },
        "id": "Naxh6c2BnT0i",
        "outputId": "56e4d95b-d3f4-49ef-8467-2e675a515ff7"
      },
      "outputs": [
        {
          "output_type": "execute_result",
          "data": {
            "text/plain": [
              "0.8722466960352423"
            ]
          },
          "metadata": {},
          "execution_count": 125
        }
      ],
      "source": [
        "#F1 score\n",
        "from sklearn.metrics import f1_score\n",
        "f1_score(df1['x_republican'],df1['x_republican_sgd'])"
      ]
    },
    {
      "cell_type": "markdown",
      "metadata": {
        "id": "B-CCoBJDnT0i"
      },
      "source": [
        "### Precision/Recall Trade Off"
      ]
    },
    {
      "cell_type": "code",
      "execution_count": null,
      "metadata": {
        "colab": {
          "base_uri": "https://localhost:8080/",
          "height": 352
        },
        "id": "_v83uq8nnT0i",
        "outputId": "d4b7b120-1ac2-4cfe-f9f3-8c78150c4627"
      },
      "outputs": [
        {
          "output_type": "execute_result",
          "data": {
            "text/plain": [
              "(array([  4.,  37., 136., 266., 223.,  76.,  19.,   5.,   1.,   1.]),\n",
              " array([0.33243687, 0.53551084, 0.73858481, 0.94165877, 1.14473274,\n",
              "        1.34780671, 1.55088067, 1.75395464, 1.95702861, 2.16010257,\n",
              "        2.36317654]),\n",
              " <BarContainer object of 10 artists>)"
            ]
          },
          "metadata": {},
          "execution_count": 127
        },
        {
          "output_type": "display_data",
          "data": {
            "text/plain": [
              "<Figure size 432x288 with 1 Axes>"
            ],
            "image/png": "[encoded data removed]"
          },
          "metadata": {
            "needs_background": "light"
          }
        }
      ],
      "source": [
        "# scores used by SGDClassifier\n",
        "import matplotlib.pyplot as plt\n",
        "\n",
        "y_scores = sgd_clf.decision_function(df[features])\n",
        "plt.hist(y_scores) # histogram of scores"
      ]
    },
    {
      "cell_type": "code",
      "execution_count": null,
      "metadata": {
        "colab": {
          "base_uri": "https://localhost:8080/"
        },
        "id": "_uEV-rYMnT0i",
        "outputId": "54f855f0-25b8-4dc4-80e6-ca9ad28bf395"
      },
      "outputs": [
        {
          "output_type": "execute_result",
          "data": {
            "text/plain": [
              "1.0"
            ]
          },
          "metadata": {},
          "execution_count": 128
        }
      ],
      "source": [
        "# prediction using default threshold ... \n",
        "threshold = 0\n",
        "(y_scores > threshold).mean()"
      ]
    },
    {
      "cell_type": "code",
      "execution_count": null,
      "metadata": {
        "colab": {
          "base_uri": "https://localhost:8080/"
        },
        "id": "J3x_ViIlnT0i",
        "outputId": "4b68f77d-489f-4338-f56e-59080e97da63"
      },
      "outputs": [
        {
          "output_type": "execute_result",
          "data": {
            "text/plain": [
              "1.0"
            ]
          },
          "metadata": {},
          "execution_count": 129
        }
      ],
      "source": [
        "# ... gives default model prediction\n",
        "ypred = sgd_clf.predict(df[features])\n",
        "ypred.mean()"
      ]
    },
    {
      "cell_type": "code",
      "execution_count": null,
      "metadata": {
        "colab": {
          "base_uri": "https://localhost:8080/"
        },
        "id": "_cU4XODvnT0i",
        "outputId": "0bbea8a1-d8e5-464f-dab1-ad2ae41ee6dc"
      },
      "outputs": [
        {
          "output_type": "execute_result",
          "data": {
            "text/plain": [
              "0.6783854166666666"
            ]
          },
          "metadata": {},
          "execution_count": 130
        }
      ],
      "source": [
        "# increasing threshold means more zeros are predicted\n",
        "threshold = 1\n",
        "(y_scores > threshold).mean()"
      ]
    },
    {
      "cell_type": "code",
      "execution_count": null,
      "metadata": {
        "colab": {
          "base_uri": "https://localhost:8080/",
          "height": 296
        },
        "id": "EzTmCaHTnT0i",
        "outputId": "9e905e52-2aa1-428a-966b-cb8d53080f7d"
      },
      "outputs": [
        {
          "output_type": "execute_result",
          "data": {
            "text/plain": [
              "<matplotlib.legend.Legend at 0x7fbb9d8737f0>"
            ]
          },
          "metadata": {},
          "execution_count": 131
        },
        {
          "output_type": "display_data",
          "data": {
            "text/plain": [
              "<Figure size 432x288 with 1 Axes>"
            ],
            "image/png": "[encoded data removed]"
          },
          "metadata": {
            "needs_background": "light"
          }
        }
      ],
      "source": [
        "# Visualizing the precision/recall tradeoff\n",
        "y_scores = cross_val_predict(sgd_clf,\n",
        "                             df1[features],\n",
        "                             df1['x_republican'],\n",
        "                             cv=3,\n",
        "                             method='decision_function',\n",
        "                             n_jobs=3)\n",
        "\n",
        "from sklearn.metrics import precision_recall_curve\n",
        "precisions, recalls, thresholds = precision_recall_curve(df1['x_republican'], y_scores)\n",
        "\n",
        "import matplotlib.pyplot as plt\n",
        "plt.plot(thresholds, precisions[:-1], label=\"Precision\")\n",
        "plt.plot(thresholds, recalls[:-1], label=\"Recall\")\n",
        "plt.xlabel('Threshold')\n",
        "plt.legend()"
      ]
    },
    {
      "cell_type": "code",
      "execution_count": null,
      "metadata": {
        "colab": {
          "base_uri": "https://localhost:8080/",
          "height": 296
        },
        "id": "CAolWq6nnT0j",
        "outputId": "31e4b74f-0590-4ca3-f73d-3af79e563fe0"
      },
      "outputs": [
        {
          "output_type": "execute_result",
          "data": {
            "text/plain": [
              "Text(0, 0.5, 'Precision')"
            ]
          },
          "metadata": {},
          "execution_count": 132
        },
        {
          "output_type": "display_data",
          "data": {
            "text/plain": [
              "<Figure size 432x288 with 1 Axes>"
            ],
            "image/png": "[encoded data removed]"
          },
          "metadata": {
            "needs_background": "light"
          }
        }
      ],
      "source": [
        "# Plot precision vs recall\n",
        "plt.step(recalls, precisions)\n",
        "plt.xlabel('Recall')\n",
        "plt.ylabel('Precision')"
      ]
    },
    {
      "cell_type": "code",
      "execution_count": null,
      "metadata": {
        "colab": {
          "base_uri": "https://localhost:8080/"
        },
        "id": "RnPKm5DnnT0j",
        "outputId": "a17124c4-bb52-43ac-e988-05ad6e8d02f9"
      },
      "outputs": [
        {
          "output_type": "stream",
          "name": "stdout",
          "text": [
            "Precision for Low Threshold: 0.7734375\n",
            "Precision for High Threshold: 0.8426966292134831\n",
            "Recall for Low Threshold: 1.0\n",
            "Recall for High Threshold: 0.8838383838383839\n"
          ]
        }
      ],
      "source": [
        "# Assessing other scoring thresholds\n",
        "ypred_lower = y_scores > -1\n",
        "ypred_higher = y_scores > 1\n",
        "\n",
        "print('Precision for Low Threshold:',precision_score(y, ypred_lower))\n",
        "print('Precision for High Threshold:',precision_score(y, ypred_higher))\n",
        "print('Recall for Low Threshold:',recall_score(y, ypred_lower))\n",
        "print('Recall for High Threshold:',recall_score(y, ypred_higher))"
      ]
    },
    {
      "cell_type": "code",
      "execution_count": null,
      "metadata": {
        "colab": {
          "base_uri": "https://localhost:8080/",
          "height": 296
        },
        "id": "2Kcq891snT0j",
        "outputId": "e574308d-ac96-44b1-f7c3-e9b73aae466f"
      },
      "outputs": [
        {
          "output_type": "execute_result",
          "data": {
            "text/plain": [
              "Text(0, 0.5, 'True Positive Rate')"
            ]
          },
          "metadata": {},
          "execution_count": 134
        },
        {
          "output_type": "display_data",
          "data": {
            "text/plain": [
              "<Figure size 432x288 with 1 Axes>"
            ],
            "image/png": "[encoded data removed]"
          },
          "metadata": {
            "needs_background": "light"
          }
        }
      ],
      "source": [
        "# ROC Curve\n",
        "from sklearn.metrics import roc_curve\n",
        "fpr, tpr, thresholds = roc_curve(y, y_scores)\n",
        "plt.plot(fpr, tpr)\n",
        "plt.plot([0,1],[0,1],'k--')\n",
        "plt.xlabel('False Positive Rate')\n",
        "plt.ylabel('True Positive Rate')"
      ]
    },
    {
      "cell_type": "code",
      "execution_count": null,
      "metadata": {
        "colab": {
          "base_uri": "https://localhost:8080/"
        },
        "id": "YvzS6HCdnT0j",
        "outputId": "ef2e32b9-5363-455b-f1dc-3e7a573e5965"
      },
      "outputs": [
        {
          "output_type": "execute_result",
          "data": {
            "text/plain": [
              "0.6859108324625566"
            ]
          },
          "metadata": {},
          "execution_count": 135
        }
      ],
      "source": [
        "# AUC\n",
        "from sklearn.metrics import roc_auc_score\n",
        "roc_auc_score(y, y_scores)"
      ]
    },
    {
      "cell_type": "code",
      "execution_count": null,
      "metadata": {
        "colab": {
          "base_uri": "https://localhost:8080/",
          "height": 282
        },
        "id": "s8GS_zLFnT0j",
        "outputId": "8cc46596-c3ab-43ce-8a32-04c5437f45cf"
      },
      "outputs": [
        {
          "output_type": "execute_result",
          "data": {
            "text/plain": [
              "<matplotlib.legend.Legend at 0x7fbbb5d4c7f0>"
            ]
          },
          "metadata": {},
          "execution_count": 137
        },
        {
          "output_type": "display_data",
          "data": {
            "text/plain": [
              "<Figure size 432x288 with 1 Axes>"
            ],
            "image/png": "[encoded data removed]"
          },
          "metadata": {
            "needs_background": "light"
          }
        }
      ],
      "source": [
        "# Random Forests and predict_proba()\n",
        "from sklearn.ensemble import RandomForestClassifier\n",
        "rfc = RandomForestClassifier()\n",
        "X500 = np.array(X500)\n",
        "y_probas_rfc = cross_val_predict(rfc,\n",
        "                                 X500,\n",
        "                                 y,\n",
        "                                 cv=3,\n",
        "                                 method='predict_proba',\n",
        "                                 n_jobs=3)\n",
        "\n",
        "y_scores_rfc = y_probas_rfc[:,1]\n",
        "fpr_rfc, tpr_rfc, thresholds_rfc = roc_curve(y,y_scores_rfc) \n",
        "\n",
        "# compare precision/recall tradeoff for SGD and RF classifiers\n",
        "plt.plot(fpr, tpr, label=\"SGD\")\n",
        "plt.plot(fpr_rfc, tpr_rfc, label=\"RF\")\n",
        "plt.legend()"
      ]
    },
    {
      "cell_type": "code",
      "execution_count": null,
      "metadata": {
        "colab": {
          "base_uri": "https://localhost:8080/"
        },
        "id": "yu9z7fJQnT0j",
        "outputId": "53acc303-5068-4ce1-d084-ab3751db757d"
      },
      "outputs": [
        {
          "output_type": "execute_result",
          "data": {
            "text/plain": [
              "0.9004170053020628"
            ]
          },
          "metadata": {},
          "execution_count": 138
        }
      ],
      "source": [
        "roc_auc_score(y,y_scores_rfc)"
      ]
    },
    {
      "cell_type": "markdown",
      "metadata": {
        "id": "QgrDNy-hnT0j"
      },
      "source": [
        "## Multinomial Classification"
      ]
    },
    {
      "cell_type": "code",
      "execution_count": null,
      "metadata": {
        "colab": {
          "base_uri": "https://localhost:8080/"
        },
        "id": "NPkf_MI2nT0j",
        "outputId": "93bcd9e6-93df-4e4f-ad12-46ffdc6c2531"
      },
      "outputs": [
        {
          "output_type": "stream",
          "name": "stdout",
          "text": [
            "0.203125\n"
          ]
        },
        {
          "output_type": "execute_result",
          "data": {
            "text/plain": [
              "[('GINSBURG', 'GINSBURG'),\n",
              " ('STEVENS', 'STEVENS'),\n",
              " (\"O'CONNOR\", 'KENNEDY'),\n",
              " ('KENNEDY', 'SOUTER'),\n",
              " ('KENNEDY', 'KENNEDY'),\n",
              " ('SOUTER', 'SOUTER'),\n",
              " ('BREYER', 'BREYER'),\n",
              " ('GINSBURG', 'THOMAS')]"
            ]
          },
          "metadata": {},
          "execution_count": 139
        }
      ],
      "source": [
        "author = df['authorship']\n",
        "authpred = cross_val_predict(sgd_clf,\n",
        "                              X500,\n",
        "                              author,\n",
        "                              cv=7)\n",
        "print((authpred == author).mean())\n",
        "list(zip(author[:8],authpred[:8]))"
      ]
    },
    {
      "cell_type": "code",
      "execution_count": null,
      "metadata": {
        "colab": {
          "base_uri": "https://localhost:8080/",
          "height": 275
        },
        "id": "4sbE8SygnT0j",
        "outputId": "8bcea3e3-c811-4bcc-c67a-82f11f66ad46"
      },
      "outputs": [
        {
          "output_type": "display_data",
          "data": {
            "text/plain": [
              "<Figure size 288x288 with 1 Axes>"
            ],
            "image/png": "[encoded data removed]"
          },
          "metadata": {
            "needs_background": "light"
          }
        }
      ],
      "source": [
        "# Multi-class confusion matrix\n",
        "conf_mx = confusion_matrix(author,authpred)\n",
        "conf_mx\n",
        "plt.matshow(conf_mx)\n",
        "plt.show()"
      ]
    },
    {
      "cell_type": "code",
      "execution_count": null,
      "metadata": {
        "colab": {
          "base_uri": "https://localhost:8080/",
          "height": 292
        },
        "id": "kGQDlD4FnT0k",
        "outputId": "fbb7a46f-5ea8-4a88-f21e-5c91d8a4b2e0"
      },
      "outputs": [
        {
          "output_type": "execute_result",
          "data": {
            "text/plain": [
              "<matplotlib.image.AxesImage at 0x7fbbc187a580>"
            ]
          },
          "metadata": {},
          "execution_count": 141
        },
        {
          "output_type": "display_data",
          "data": {
            "text/plain": [
              "<Figure size 288x288 with 1 Axes>"
            ],
            "image/png": "[encoded data removed]"
          },
          "metadata": {
            "needs_background": "light"
          }
        }
      ],
      "source": [
        "# normalize colors\n",
        "conf_mx_norm = conf_mx / conf_mx.sum(axis=1, keepdims=True)\n",
        "plt.matshow(conf_mx_norm)"
      ]
    },
    {
      "cell_type": "markdown",
      "metadata": {
        "id": "a0zwti_6nT0k"
      },
      "source": [
        "## Multinomial Logistic"
      ]
    },
    {
      "cell_type": "code",
      "execution_count": null,
      "metadata": {
        "colab": {
          "base_uri": "https://localhost:8080/"
        },
        "id": "SALdQhYcnT0k",
        "outputId": "6a550faf-431c-4293-a997-212d938005cd"
      },
      "outputs": [
        {
          "output_type": "execute_result",
          "data": {
            "text/plain": [
              "(0.09765625, 0.01390244564066577)"
            ]
          },
          "metadata": {},
          "execution_count": 142
        }
      ],
      "source": [
        "\n",
        "from sklearn.linear_model import LogisticRegression\n",
        "logistic = LogisticRegression(C=1, # default L2 penalty # .01, .1, 1, 2, 10\n",
        "                              class_weight='balanced')\n",
        "\n",
        "scores = cross_val_score(logistic,\n",
        "                         Xscale[:1000],\n",
        "                         author[:1000],\n",
        "                         cv=3,\n",
        "                         n_jobs=3)\n",
        "\n",
        "scores.mean(), scores.std()"
      ]
    },
    {
      "cell_type": "markdown",
      "metadata": {
        "id": "kATN_McjnT0k"
      },
      "source": [
        "# Ensemble Learning"
      ]
    },
    {
      "cell_type": "code",
      "execution_count": null,
      "metadata": {
        "colab": {
          "base_uri": "https://localhost:8080/"
        },
        "id": "zoFwoaUznT0k",
        "outputId": "2b9a882c-a50a-45b4-f459-dc81f32199b8"
      },
      "outputs": [
        {
          "output_type": "execute_result",
          "data": {
            "text/plain": [
              "0.7981750275867923"
            ]
          },
          "metadata": {},
          "execution_count": 143
        }
      ],
      "source": [
        "Y = df1['x_republican'] > 0\n",
        "\n",
        "# Bagging classifier\n",
        "\n",
        "from sklearn.ensemble import BaggingClassifier\n",
        "from sklearn.tree import DecisionTreeClassifier\n",
        "\n",
        "bag_clf = BaggingClassifier(\n",
        "        DecisionTreeClassifier(), n_estimators=50,\n",
        "        max_samples=100, bootstrap=True, n_jobs=-1\n",
        "    )\n",
        "\n",
        "cross_val_score(bag_clf, X500, Y).mean()"
      ]
    },
    {
      "cell_type": "code",
      "execution_count": null,
      "metadata": {
        "colab": {
          "base_uri": "https://localhost:8080/"
        },
        "id": "TxezAGm-nT0k",
        "outputId": "42ca486c-336f-4e97-d444-21effc726d0d"
      },
      "outputs": [
        {
          "output_type": "execute_result",
          "data": {
            "text/plain": [
              "array([[  2, 172],\n",
              "       [  0, 594]])"
            ]
          },
          "metadata": {},
          "execution_count": 144
        }
      ],
      "source": [
        "# random forest\n",
        "from sklearn.ensemble import RandomForestClassifier\n",
        "rnd_clf = RandomForestClassifier(n_estimators=500, \n",
        "                                 max_leaf_nodes=16, \n",
        "                                 n_jobs=-1)\n",
        "y_pred_rf = cross_val_predict(rnd_clf, X500, Y)                              \n",
        "confusion_matrix(Y,y_pred_rf)"
      ]
    },
    {
      "cell_type": "code",
      "execution_count": null,
      "metadata": {
        "colab": {
          "base_uri": "https://localhost:8080/"
        },
        "id": "bFoYTSXjnT0k",
        "outputId": "0eaac099-dd8a-47e7-b951-94bb39702efa"
      },
      "outputs": [
        {
          "output_type": "execute_result",
          "data": {
            "text/plain": [
              "[(0.0029693369881508783, 'o'),\n",
              " (0.0022265739753957138, 'r'),\n",
              " (0.0012607091278753317, 'y'),\n",
              " (0.00034628666033669533, 'k')]"
            ]
          },
          "metadata": {},
          "execution_count": 147
        }
      ],
      "source": [
        "rnd_clf.fit(X500,Y)\n",
        "feature_importances = rnd_clf.feature_importances_\n",
        "sorted(zip(feature_importances, word), reverse=True)"
      ]
    },
    {
      "cell_type": "code",
      "execution_count": null,
      "metadata": {
        "colab": {
          "base_uri": "https://localhost:8080/"
        },
        "id": "BQuy7B3DnT0k",
        "outputId": "a169ff79-0447-4ec3-8226-9952c67ca386"
      },
      "outputs": [
        {
          "output_type": "execute_result",
          "data": {
            "text/plain": [
              "0.8749681690858161"
            ]
          },
          "metadata": {},
          "execution_count": 146
        }
      ],
      "source": [
        "# XGBoost\n",
        "from xgboost import XGBClassifier, XGBRegressor\n",
        "dfX = pd.DataFrame(X500,columns=vocab)\n",
        "xgb_clf = XGBClassifier()\n",
        "cross_val_score(xgb_clf, dfX, Y).mean()"
      ]
    },
    {
      "cell_type": "code",
      "execution_count": null,
      "metadata": {
        "colab": {
          "base_uri": "https://localhost:8080/"
        },
        "id": "iw7wCloHnT0k",
        "outputId": "52cd1f33-fc0a-4be4-d33a-7c03a2861cec"
      },
      "outputs": [
        {
          "output_type": "stream",
          "name": "stdout",
          "text": [
            "[15:31:19] WARNING: ../src/learner.cc:767: \n",
            "Parameters: { \"feature_names\" } are not used.\n",
            "\n"
          ]
        },
        {
          "output_type": "execute_result",
          "data": {
            "text/plain": [
              "[(0.033571474, 'analysis'),\n",
              " (0.031830106, 'new york'),\n",
              " (0.029660394, 'granted certiorari'),\n",
              " (0.026276007, 'sought'),\n",
              " (0.025258558, 'related'),\n",
              " (0.023935124, 'stated'),\n",
              " (0.023086436, 'internal quotation'),\n",
              " (0.021765428, 'require'),\n",
              " (0.021112507, 'light'),\n",
              " (0.021009019, 'added')]"
            ]
          },
          "metadata": {},
          "execution_count": 148
        }
      ],
      "source": [
        "xgb_reg = XGBRegressor(feature_names=vocab)\n",
        "xgb_reg.fit(dfX,Y)\n",
        "sorted(zip(xgb_reg.feature_importances_, vocab),reverse=True)[:10]"
      ]
    },
    {
      "cell_type": "code",
      "execution_count": null,
      "metadata": {
        "colab": {
          "base_uri": "https://localhost:8080/",
          "height": 312
        },
        "id": "bOB2PJnrnT0k",
        "outputId": "b9f50942-a0ea-41a4-8cff-5e80bc70b572"
      },
      "outputs": [
        {
          "output_type": "execute_result",
          "data": {
            "text/plain": [
              "<AxesSubplot:title={'center':'Feature importance'}, xlabel='F score', ylabel='Features'>"
            ]
          },
          "metadata": {},
          "execution_count": 149
        },
        {
          "output_type": "display_data",
          "data": {
            "text/plain": [
              "<Figure size 432x288 with 1 Axes>"
            ],
            "image/png": "[encoded data removed]"
          },
          "metadata": {
            "needs_background": "light"
          }
        }
      ],
      "source": [
        "from xgboost import plot_importance\n",
        "plot_importance(xgb_reg, max_num_features=20)"
      ]
    },
    {
      "cell_type": "markdown",
      "metadata": {
        "id": "TrvGu2BQnT0l"
      },
      "source": [
        "## PyTorch MLP \n",
        "\n",
        "[PyTorch](https://pytorch.org/) is the dominant DL framework nowadays."
      ]
    },
    {
      "cell_type": "markdown",
      "metadata": {
        "id": "HIs_CniwnT0l"
      },
      "source": [
        "**Classification**"
      ]
    },
    {
      "cell_type": "code",
      "execution_count": null,
      "metadata": {
        "ExecuteTime": {
          "end_time": "2022-03-25T09:30:00.479430Z",
          "start_time": "2022-03-25T09:29:49.094413Z"
        },
        "colab": {
          "base_uri": "https://localhost:8080/"
        },
        "id": "4RU81N7YnT0l",
        "outputId": "fb4a0989-d39e-4e04-b097-2f1d7f5d5dbb"
      },
      "outputs": [
        {
          "output_type": "execute_result",
          "data": {
            "text/plain": [
              "(768, 1000)"
            ]
          },
          "metadata": {},
          "execution_count": 3
        }
      ],
      "source": [
        "# setup\n",
        "%matplotlib notebook\n",
        "# set this to your working directory\n",
        "\n",
        "import pandas as pd\n",
        "import numpy as np\n",
        "import matplotlib.pyplot as plt\n",
        "\n",
        "df = pd.read_pickle('sc_cases_cleaned.pkl',compression='gzip')\n",
        "df=df.reset_index(drop=True)\n",
        "from sklearn.feature_extraction.text import CountVectorizer\n",
        "vectorizer = CountVectorizer(min_df=0.01, # at min 1% of docs\n",
        "                        max_df=.9,  \n",
        "                        max_features=1000,\n",
        "                        stop_words='english',\n",
        "                        ngram_range=(1,3))\n",
        "X = vectorizer.fit_transform(df['opinion_text'])\n",
        "pd.to_pickle(X,'X.pkl')\n",
        "vocab = vectorizer.get_feature_names_out()\n",
        "pd.to_pickle(vocab,'vocab.pkl')\n",
        "Y = df['x_republican']\n",
        "\n",
        "X.shape"
      ]
    },
    {
      "cell_type": "code",
      "execution_count": null,
      "metadata": {
        "ExecuteTime": {
          "end_time": "2022-03-25T07:43:15.271017Z",
          "start_time": "2022-03-25T07:43:15.245241Z"
        },
        "colab": {
          "base_uri": "https://localhost:8080/",
          "height": 597
        },
        "id": "gsSVnO1ynT0l",
        "outputId": "2f37c0c7-8fef-4185-ed59-692a519fb71d"
      },
      "outputs": [
        {
          "output_type": "execute_result",
          "data": {
            "text/plain": [
              "                                           case_name opinion_type  \\\n",
              "0                ERICK CORNELL CLAY v. UNITED STATES     majority   \n",
              "1  HILLSIDE DAIRY INC., A&A DAIRY, L&S DAIRY, AND...     majority   \n",
              "2    CHARLES RUSSELL RHINES v. DOUGLAS WEBER, WARDEN     majority   \n",
              "3        STATE OF ALASKA v. UNITED STATES OF AMERICA     majority   \n",
              "4  REGINALD A. WILKINSON, DIRECTOR, OHIO DEPARTME...     majority   \n",
              "\n",
              "  date_standard authorship  x_republican  \\\n",
              "0    2003-03-04   GINSBURG           0.0   \n",
              "1    2003-06-09    STEVENS           1.0   \n",
              "2    2005-03-30   O'CONNOR           1.0   \n",
              "3    2005-06-06    KENNEDY           1.0   \n",
              "4    2005-06-13    KENNEDY           1.0   \n",
              "\n",
              "                                          maj_judges  \\\n",
              "0  ['BREYER, STEPHEN', 'GINSBURG, RUTH', 'KENNEDY...   \n",
              "1  ['BREYER, STEPHEN', 'GINSBURG, RUTH', 'KENNEDY...   \n",
              "2  ['BREYER, STEPHEN', 'GINSBURG, RUTH', 'KENNEDY...   \n",
              "3  ['BREYER, STEPHEN', 'GINSBURG, RUTH', 'KENNEDY...   \n",
              "4  ['BREYER, STEPHEN', 'GINSBURG, RUTH', 'KENNEDY...   \n",
              "\n",
              "                                      dissent_judges  topic_id  cite_count  \\\n",
              "0                                                 []       1.0      2926.0   \n",
              "1                               ['THOMAS, CLARENCE']       8.0       117.0   \n",
              "2                                                 []       1.0     23364.0   \n",
              "3  ['REHNQUIST, WILLIAM', 'SCALIA, ANTONIN', 'THO...      10.0        84.0   \n",
              "4                                                 []       4.0      4230.0   \n",
              "\n",
              "                                        opinion_text  year  log_cite_count  \n",
              "0  JUSTICE GINSBURG delivered the opinion of the ...  2003        7.981392  \n",
              "1  Justice Stevens delivered the opinion of the C...  2003        4.762174  \n",
              "2  Justice O'Connor delivered the opinion of the ...  2005       10.058952  \n",
              "3  Justice Kennedy delivered the opinion of the C...  2005        4.430817  \n",
              "4  Justice Kennedy delivered the opinion of the C...  2005        8.349957  "
            ],
            "text/html": [
              "\n",
              "  <div id=\"df-1a2ff761-0f17-49f7-922f-6e31cff4328a\">\n",
              "    <div class=\"colab-df-container\">\n",
              "      <div>\n",
              "<style scoped>\n",
              "    .dataframe tbody tr th:only-of-type {\n",
              "        vertical-align: middle;\n",
              "    }\n",
              "\n",
              "    .dataframe tbody tr th {\n",
              "        vertical-align: top;\n",
              "    }\n",
              "\n",
              "    .dataframe thead th {\n",
              "        text-align: right;\n",
              "    }\n",
              "</style>\n",
              "<table border=\"1\" class=\"dataframe\">\n",
              "  <thead>\n",
              "    <tr style=\"text-align: right;\">\n",
              "      <th></th>\n",
              "      <th>case_name</th>\n",
              "      <th>opinion_type</th>\n",
              "      <th>date_standard</th>\n",
              "      <th>authorship</th>\n",
              "      <th>x_republican</th>\n",
              "      <th>maj_judges</th>\n",
              "      <th>dissent_judges</th>\n",
              "      <th>topic_id</th>\n",
              "      <th>cite_count</th>\n",
              "      <th>opinion_text</th>\n",
              "      <th>year</th>\n",
              "      <th>log_cite_count</th>\n",
              "    </tr>\n",
              "  </thead>\n",
              "  <tbody>\n",
              "    <tr>\n",
              "      <th>0</th>\n",
              "      <td>ERICK CORNELL CLAY v. UNITED STATES</td>\n",
              "      <td>majority</td>\n",
              "      <td>2003-03-04</td>\n",
              "      <td>GINSBURG</td>\n",
              "      <td>0.0</td>\n",
              "      <td>['BREYER, STEPHEN', 'GINSBURG, RUTH', 'KENNEDY...</td>\n",
              "      <td>[]</td>\n",
              "      <td>1.0</td>\n",
              "      <td>2926.0</td>\n",
              "      <td>JUSTICE GINSBURG delivered the opinion of the ...</td>\n",
              "      <td>2003</td>\n",
              "      <td>7.981392</td>\n",
              "    </tr>\n",
              "    <tr>\n",
              "      <th>1</th>\n",
              "      <td>HILLSIDE DAIRY INC., A&amp;A DAIRY, L&amp;S DAIRY, AND...</td>\n",
              "      <td>majority</td>\n",
              "      <td>2003-06-09</td>\n",
              "      <td>STEVENS</td>\n",
              "      <td>1.0</td>\n",
              "      <td>['BREYER, STEPHEN', 'GINSBURG, RUTH', 'KENNEDY...</td>\n",
              "      <td>['THOMAS, CLARENCE']</td>\n",
              "      <td>8.0</td>\n",
              "      <td>117.0</td>\n",
              "      <td>Justice Stevens delivered the opinion of the C...</td>\n",
              "      <td>2003</td>\n",
              "      <td>4.762174</td>\n",
              "    </tr>\n",
              "    <tr>\n",
              "      <th>2</th>\n",
              "      <td>CHARLES RUSSELL RHINES v. DOUGLAS WEBER, WARDEN</td>\n",
              "      <td>majority</td>\n",
              "      <td>2005-03-30</td>\n",
              "      <td>O'CONNOR</td>\n",
              "      <td>1.0</td>\n",
              "      <td>['BREYER, STEPHEN', 'GINSBURG, RUTH', 'KENNEDY...</td>\n",
              "      <td>[]</td>\n",
              "      <td>1.0</td>\n",
              "      <td>23364.0</td>\n",
              "      <td>Justice O'Connor delivered the opinion of the ...</td>\n",
              "      <td>2005</td>\n",
              "      <td>10.058952</td>\n",
              "    </tr>\n",
              "    <tr>\n",
              "      <th>3</th>\n",
              "      <td>STATE OF ALASKA v. UNITED STATES OF AMERICA</td>\n",
              "      <td>majority</td>\n",
              "      <td>2005-06-06</td>\n",
              "      <td>KENNEDY</td>\n",
              "      <td>1.0</td>\n",
              "      <td>['BREYER, STEPHEN', 'GINSBURG, RUTH', 'KENNEDY...</td>\n",
              "      <td>['REHNQUIST, WILLIAM', 'SCALIA, ANTONIN', 'THO...</td>\n",
              "      <td>10.0</td>\n",
              "      <td>84.0</td>\n",
              "      <td>Justice Kennedy delivered the opinion of the C...</td>\n",
              "      <td>2005</td>\n",
              "      <td>4.430817</td>\n",
              "    </tr>\n",
              "    <tr>\n",
              "      <th>4</th>\n",
              "      <td>REGINALD A. WILKINSON, DIRECTOR, OHIO DEPARTME...</td>\n",
              "      <td>majority</td>\n",
              "      <td>2005-06-13</td>\n",
              "      <td>KENNEDY</td>\n",
              "      <td>1.0</td>\n",
              "      <td>['BREYER, STEPHEN', 'GINSBURG, RUTH', 'KENNEDY...</td>\n",
              "      <td>[]</td>\n",
              "      <td>4.0</td>\n",
              "      <td>4230.0</td>\n",
              "      <td>Justice Kennedy delivered the opinion of the C...</td>\n",
              "      <td>2005</td>\n",
              "      <td>8.349957</td>\n",
              "    </tr>\n",
              "  </tbody>\n",
              "</table>\n",
              "</div>\n",
              "      <button class=\"colab-df-convert\" onclick=\"convertToInteractive('df-1a2ff761-0f17-49f7-922f-6e31cff4328a')\"\n",
              "              title=\"Convert this dataframe to an interactive table.\"\n",
              "              style=\"display:none;\">\n",
              "        \n",
              "  <svg xmlns=\"http://www.w3.org/2000/svg\" height=\"24px\"viewBox=\"0 0 24 24\"\n",
              "       width=\"24px\">\n",
              "    <path d=\"M0 0h24v24H0V0z\" fill=\"none\"/>\n",
              "    <path d=\"M18.56 5.44l.94 2.06.94-2.06 2.06-.94-2.06-.94-.94-2.06-.94 2.06-2.06.94zm-11 1L8.5 8.5l.94-2.06 2.06-.94-2.06-.94L8.5 2.5l-.94 2.06-2.06.94zm10 10l.94 2.06.94-2.06 2.06-.94-2.06-.94-.94-2.06-.94 2.06-2.06.94z\"/><path d=\"M17.41 7.96l-1.37-1.37c-.4-.4-.92-.59-1.43-.59-.52 0-1.04.2-1.43.59L10.3 9.45l-7.72 7.72c-.78.78-.78 2.05 0 2.83L4 21.41c.39.39.9.59 1.41.59.51 0 1.02-.2 1.41-.59l7.78-7.78 2.81-2.81c.8-.78.8-2.07 0-2.86zM5.41 20L4 18.59l7.72-7.72 1.47 1.35L5.41 20z\"/>\n",
              "  </svg>\n",
              "      </button>\n",
              "      \n",
              "  <style>\n",
              "    .colab-df-container {\n",
              "      display:flex;\n",
              "      flex-wrap:wrap;\n",
              "      gap: 12px;\n",
              "    }\n",
              "\n",
              "    .colab-df-convert {\n",
              "      background-color: #E8F0FE;\n",
              "      border: none;\n",
              "      border-radius: 50%;\n",
              "      cursor: pointer;\n",
              "      display: none;\n",
              "      fill: #1967D2;\n",
              "      height: 32px;\n",
              "      padding: 0 0 0 0;\n",
              "      width: 32px;\n",
              "    }\n",
              "\n",
              "    .colab-df-convert:hover {\n",
              "      background-color: #E2EBFA;\n",
              "      box-shadow: 0px 1px 2px rgba(60, 64, 67, 0.3), 0px 1px 3px 1px rgba(60, 64, 67, 0.15);\n",
              "      fill: #174EA6;\n",
              "    }\n",
              "\n",
              "    [theme=dark] .colab-df-convert {\n",
              "      background-color: #3B4455;\n",
              "      fill: #D2E3FC;\n",
              "    }\n",
              "\n",
              "    [theme=dark] .colab-df-convert:hover {\n",
              "      background-color: #434B5C;\n",
              "      box-shadow: 0px 1px 3px 1px rgba(0, 0, 0, 0.15);\n",
              "      filter: drop-shadow(0px 1px 2px rgba(0, 0, 0, 0.3));\n",
              "      fill: #FFFFFF;\n",
              "    }\n",
              "  </style>\n",
              "\n",
              "      <script>\n",
              "        const buttonEl =\n",
              "          document.querySelector('#df-1a2ff761-0f17-49f7-922f-6e31cff4328a button.colab-df-convert');\n",
              "        buttonEl.style.display =\n",
              "          google.colab.kernel.accessAllowed ? 'block' : 'none';\n",
              "\n",
              "        async function convertToInteractive(key) {\n",
              "          const element = document.querySelector('#df-1a2ff761-0f17-49f7-922f-6e31cff4328a');\n",
              "          const dataTable =\n",
              "            await google.colab.kernel.invokeFunction('convertToInteractive',\n",
              "                                                     [key], {});\n",
              "          if (!dataTable) return;\n",
              "\n",
              "          const docLinkHtml = 'Like what you see? Visit the ' +\n",
              "            '<a target=\"_blank\" href=https://colab.research.google.com/notebooks/data_table.ipynb>data table notebook</a>'\n",
              "            + ' to learn more about interactive tables.';\n",
              "          element.innerHTML = '';\n",
              "          dataTable['output_type'] = 'display_data';\n",
              "          await google.colab.output.renderOutput(dataTable, element);\n",
              "          const docLink = document.createElement('div');\n",
              "          docLink.innerHTML = docLinkHtml;\n",
              "          element.appendChild(docLink);\n",
              "        }\n",
              "      </script>\n",
              "    </div>\n",
              "  </div>\n",
              "  "
            ]
          },
          "metadata": {},
          "execution_count": 7
        }
      ],
      "source": [
        "df.head()"
      ]
    },
    {
      "cell_type": "code",
      "execution_count": null,
      "metadata": {
        "ExecuteTime": {
          "end_time": "2022-03-25T07:45:21.251269Z",
          "start_time": "2022-03-25T07:45:21.209655Z"
        },
        "colab": {
          "base_uri": "https://localhost:8080/"
        },
        "id": "nQFr-JwpnT0l",
        "outputId": "afceacd9-d87f-4596-998c-de8a08df3881"
      },
      "outputs": [
        {
          "output_type": "stream",
          "name": "stdout",
          "text": [
            "----------------------------------------------------------------\n",
            "        Layer (type)               Output Shape         Param #\n",
            "================================================================\n",
            "            Linear-1                   [-1, 50]          50,050\n",
            "              ReLU-2                   [-1, 50]               0\n",
            "            Linear-3                   [-1, 50]           2,550\n",
            "              ReLU-4                   [-1, 50]               0\n",
            "            Linear-5                    [-1, 1]              51\n",
            "================================================================\n",
            "Total params: 52,651\n",
            "Trainable params: 52,651\n",
            "Non-trainable params: 0\n",
            "----------------------------------------------------------------\n",
            "Input size (MB): 0.00\n",
            "Forward/backward pass size (MB): 0.00\n",
            "Params size (MB): 0.20\n",
            "Estimated Total Size (MB): 0.21\n",
            "----------------------------------------------------------------\n"
          ]
        }
      ],
      "source": [
        "# Getting started with torch\n",
        "import torch\n",
        "import torch.nn as nn\n",
        "import torch.nn.functional as F\n",
        "from torch.utils.data import Dataset, DataLoader\n",
        "from torchsummary import summary\n",
        "from sklearn.model_selection import train_test_split\n",
        "import math\n",
        "\n",
        "device = 'cuda' # to use GPU in colab, refer to https://medium.com/dataman-in-ai/start-using-google-colab-free-gpu-7968acb7ef92#:~:text=Go%20to%20Edit%20%3E%20Notebook%20settings,That's%20it. \n",
        "# create a torch dataset to contain our data\n",
        "class ScCasesDataset(Dataset):\n",
        "\n",
        "  def __init__(self, X, y):\n",
        "    self.X = X\n",
        "    self.y = y\n",
        "\n",
        "  def __len__(self):\n",
        "    return len(self.y)\n",
        "\n",
        "  def __getitem__(self, index):\n",
        "    return self.X[index], self.y[index]\n",
        "\n",
        "\n",
        "tsize = math.ceil(0.1 * len(Y))\n",
        "X_train, X_valid, y_train, y_valid = train_test_split(X.toarray(), np.array(Y), test_size=tsize)\n",
        "X_train, X_test, y_train, y_test = train_test_split(X_train, y_train, test_size=tsize)\n",
        "\n",
        "train_dataset = ScCasesDataset(X_train, y_train)\n",
        "valid_dataset = ScCasesDataset(X_valid, y_valid)\n",
        "test_dataset = ScCasesDataset(X_test, y_test)\n",
        "# prepare dataloaders where we can load mini-batches from\n",
        "train_loader = DataLoader(dataset=train_dataset, batch_size=32, shuffle=True)\n",
        "valid_loader = DataLoader(dataset=valid_dataset, batch_size=32, shuffle=False)\n",
        "test_loader = DataLoader(dataset=test_dataset, batch_size=32, shuffle=False)\n",
        "\n",
        "# create an MLP model\n",
        "input_dim = X.shape[1]\n",
        "class MLP(nn.Module):\n",
        "    def __init__(self):\n",
        "        super(MLP, self).__init__()\n",
        "        # use nn.Sequential to sequentially stack modules\n",
        "        self.layers = nn.Sequential(\n",
        "            nn.Linear(input_dim, 50), # input layer\n",
        "            nn.ReLU(), # activation function\n",
        "            nn.Linear(50, 50), # hidden layer\n",
        "            nn.ReLU(),\n",
        "            nn.Linear(50, 1), # output layer\n",
        "        )\n",
        "        \n",
        "    # define the forward propagation which is necessary for torch models\n",
        "    def forward(self, x):\n",
        "        return self.layers(x)\n",
        "\n",
        "# initialize a model on GPU\n",
        "model = MLP().to(device)\n",
        "summary(model, input_size=(1000,))"
      ]
    },
    {
      "cell_type": "code",
      "execution_count": null,
      "metadata": {
        "ExecuteTime": {
          "end_time": "2022-03-25T07:45:28.231996Z",
          "start_time": "2022-03-25T07:45:25.800209Z"
        },
        "colab": {
          "base_uri": "https://localhost:8080/",
          "height": 821
        },
        "id": "l5MTUDxJnT0l",
        "outputId": "2816fa61-b620-4ec3-b535-d8aedcfeca94"
      },
      "outputs": [
        {
          "output_type": "execute_result",
          "data": {
            "text/plain": [
              "<graphviz.dot.Digraph at 0x7f7f5f610640>"
            ],
            "image/svg+xml": "<?xml version=\"1.0\" encoding=\"UTF-8\" standalone=\"no\"?>\n<!DOCTYPE svg PUBLIC \"-//W3C//DTD SVG 1.1//EN\"\n \"http://www.w3.org/Graphics/SVG/1.1/DTD/svg11.dtd\">\n<!-- Generated by graphviz version 2.43.0 (0)\n -->\n<!-- Title: %3 Pages: 1 -->\n<svg width=\"442pt\" height=\"600pt\"\n viewBox=\"0.00 0.00 442.00 600.00\" xmlns=\"http://www.w3.org/2000/svg\" xmlns:xlink=\"http://www.w3.org/1999/xlink\">\n<g id=\"graph0\" class=\"graph\" transform=\"scale(1 1) rotate(0) translate(4 596)\">\n<title>%3</title>\n<polygon fill=\"white\" stroke=\"transparent\" points=\"-4,4 -4,-596 438,-596 438,4 -4,4\"/>\n<!-- 140184944865008 -->\n<g id=\"node1\" class=\"node\">\n<title>140184944865008</title>\n<polygon fill=\"#caff70\" stroke=\"black\" points=\"217.5,-31 163.5,-31 163.5,0 217.5,0 217.5,-31\"/>\n<text text-anchor=\"middle\" x=\"190.5\" y=\"-7\" font-family=\"monospace\" font-size=\"10.00\"> ()</text>\n</g>\n<!-- 140185037768736 -->\n<g id=\"node2\" class=\"node\">\n<title>140185037768736</title>\n<polygon fill=\"lightgrey\" stroke=\"black\" points=\"238,-86 143,-86 143,-67 238,-67 238,-86\"/>\n<text text-anchor=\"middle\" x=\"190.5\" y=\"-74\" font-family=\"monospace\" font-size=\"10.00\">MeanBackward0</text>\n</g>\n<!-- 140185037768736&#45;&gt;140184944865008 -->\n<g id=\"edge21\" class=\"edge\">\n<title>140185037768736&#45;&gt;140184944865008</title>\n<path fill=\"none\" stroke=\"black\" d=\"M190.5,-66.79C190.5,-60.07 190.5,-50.4 190.5,-41.34\"/>\n<polygon fill=\"black\" stroke=\"black\" points=\"194,-41.19 190.5,-31.19 187,-41.19 194,-41.19\"/>\n</g>\n<!-- 140185037767056 -->\n<g id=\"node3\" class=\"node\">\n<title>140185037767056</title>\n<polygon fill=\"lightgrey\" stroke=\"black\" points=\"241,-141 140,-141 140,-122 241,-122 241,-141\"/>\n<text text-anchor=\"middle\" x=\"190.5\" y=\"-129\" font-family=\"monospace\" font-size=\"10.00\">AddmmBackward0</text>\n</g>\n<!-- 140185037767056&#45;&gt;140185037768736 -->\n<g id=\"edge1\" class=\"edge\">\n<title>140185037767056&#45;&gt;140185037768736</title>\n<path fill=\"none\" stroke=\"black\" d=\"M190.5,-121.75C190.5,-114.8 190.5,-104.85 190.5,-96.13\"/>\n<polygon fill=\"black\" stroke=\"black\" points=\"194,-96.09 190.5,-86.09 187,-96.09 194,-96.09\"/>\n</g>\n<!-- 140185037768400 -->\n<g id=\"node4\" class=\"node\">\n<title>140185037768400</title>\n<polygon fill=\"lightgrey\" stroke=\"black\" points=\"125,-196 24,-196 24,-177 125,-177 125,-196\"/>\n<text text-anchor=\"middle\" x=\"74.5\" y=\"-184\" font-family=\"monospace\" font-size=\"10.00\">AccumulateGrad</text>\n</g>\n<!-- 140185037768400&#45;&gt;140185037767056 -->\n<g id=\"edge2\" class=\"edge\">\n<title>140185037768400&#45;&gt;140185037767056</title>\n<path fill=\"none\" stroke=\"black\" d=\"M93.14,-176.98C111.8,-168.46 140.75,-155.23 162.24,-145.41\"/>\n<polygon fill=\"black\" stroke=\"black\" points=\"163.88,-148.51 171.52,-141.17 160.97,-142.14 163.88,-148.51\"/>\n</g>\n<!-- 140185112790416 -->\n<g id=\"node5\" class=\"node\">\n<title>140185112790416</title>\n<polygon fill=\"lightblue\" stroke=\"black\" points=\"122,-262 27,-262 27,-232 122,-232 122,-262\"/>\n<text text-anchor=\"middle\" x=\"74.5\" y=\"-250\" font-family=\"monospace\" font-size=\"10.00\">layers.4.bias</text>\n<text text-anchor=\"middle\" x=\"74.5\" y=\"-239\" font-family=\"monospace\" font-size=\"10.00\"> (1)</text>\n</g>\n<!-- 140185112790416&#45;&gt;140185037768400 -->\n<g id=\"edge3\" class=\"edge\">\n<title>140185112790416&#45;&gt;140185037768400</title>\n<path fill=\"none\" stroke=\"black\" d=\"M74.5,-231.84C74.5,-224.21 74.5,-214.7 74.5,-206.45\"/>\n<polygon fill=\"black\" stroke=\"black\" points=\"78,-206.27 74.5,-196.27 71,-206.27 78,-206.27\"/>\n</g>\n<!-- 140185037769408 -->\n<g id=\"node6\" class=\"node\">\n<title>140185037769408</title>\n<polygon fill=\"lightgrey\" stroke=\"black\" points=\"238,-196 143,-196 143,-177 238,-177 238,-196\"/>\n<text text-anchor=\"middle\" x=\"190.5\" y=\"-184\" font-family=\"monospace\" font-size=\"10.00\">ReluBackward0</text>\n</g>\n<!-- 140185037769408&#45;&gt;140185037767056 -->\n<g id=\"edge4\" class=\"edge\">\n<title>140185037769408&#45;&gt;140185037767056</title>\n<path fill=\"none\" stroke=\"black\" d=\"M190.5,-176.75C190.5,-169.8 190.5,-159.85 190.5,-151.13\"/>\n<polygon fill=\"black\" stroke=\"black\" points=\"194,-151.09 190.5,-141.09 187,-151.09 194,-151.09\"/>\n</g>\n<!-- 140185037767296 -->\n<g id=\"node7\" class=\"node\">\n<title>140185037767296</title>\n<polygon fill=\"lightgrey\" stroke=\"black\" points=\"241,-256.5 140,-256.5 140,-237.5 241,-237.5 241,-256.5\"/>\n<text text-anchor=\"middle\" x=\"190.5\" y=\"-244.5\" font-family=\"monospace\" font-size=\"10.00\">AddmmBackward0</text>\n</g>\n<!-- 140185037767296&#45;&gt;140185037769408 -->\n<g id=\"edge5\" class=\"edge\">\n<title>140185037767296&#45;&gt;140185037769408</title>\n<path fill=\"none\" stroke=\"black\" d=\"M190.5,-237.37C190.5,-229.25 190.5,-216.81 190.5,-206.39\"/>\n<polygon fill=\"black\" stroke=\"black\" points=\"194,-206.17 190.5,-196.17 187,-206.17 194,-206.17\"/>\n</g>\n<!-- 140185037767008 -->\n<g id=\"node8\" class=\"node\">\n<title>140185037767008</title>\n<polygon fill=\"lightgrey\" stroke=\"black\" points=\"101,-322.5 0,-322.5 0,-303.5 101,-303.5 101,-322.5\"/>\n<text text-anchor=\"middle\" x=\"50.5\" y=\"-310.5\" font-family=\"monospace\" font-size=\"10.00\">AccumulateGrad</text>\n</g>\n<!-- 140185037767008&#45;&gt;140185037767296 -->\n<g id=\"edge6\" class=\"edge\">\n<title>140185037767008&#45;&gt;140185037767296</title>\n<path fill=\"none\" stroke=\"black\" d=\"M69.38,-303.37C93.28,-292.44 134.67,-273.52 162.32,-260.88\"/>\n<polygon fill=\"black\" stroke=\"black\" points=\"163.83,-264.04 171.47,-256.7 160.92,-257.67 163.83,-264.04\"/>\n</g>\n<!-- 140185112790256 -->\n<g id=\"node9\" class=\"node\">\n<title>140185112790256</title>\n<polygon fill=\"lightblue\" stroke=\"black\" points=\"98,-394 3,-394 3,-364 98,-364 98,-394\"/>\n<text text-anchor=\"middle\" x=\"50.5\" y=\"-382\" font-family=\"monospace\" font-size=\"10.00\">layers.2.bias</text>\n<text text-anchor=\"middle\" x=\"50.5\" y=\"-371\" font-family=\"monospace\" font-size=\"10.00\"> (50)</text>\n</g>\n<!-- 140185112790256&#45;&gt;140185037767008 -->\n<g id=\"edge7\" class=\"edge\">\n<title>140185112790256&#45;&gt;140185037767008</title>\n<path fill=\"none\" stroke=\"black\" d=\"M50.5,-363.8C50.5,-354.7 50.5,-342.79 50.5,-332.9\"/>\n<polygon fill=\"black\" stroke=\"black\" points=\"54,-332.84 50.5,-322.84 47,-332.84 54,-332.84\"/>\n</g>\n<!-- 140185037770176 -->\n<g id=\"node10\" class=\"node\">\n<title>140185037770176</title>\n<polygon fill=\"lightgrey\" stroke=\"black\" points=\"214,-322.5 119,-322.5 119,-303.5 214,-303.5 214,-322.5\"/>\n<text text-anchor=\"middle\" x=\"166.5\" y=\"-310.5\" font-family=\"monospace\" font-size=\"10.00\">ReluBackward0</text>\n</g>\n<!-- 140185037770176&#45;&gt;140185037767296 -->\n<g id=\"edge8\" class=\"edge\">\n<title>140185037770176&#45;&gt;140185037767296</title>\n<path fill=\"none\" stroke=\"black\" d=\"M169.74,-303.37C173.26,-293.97 179,-278.67 183.55,-266.53\"/>\n<polygon fill=\"black\" stroke=\"black\" points=\"186.93,-267.5 187.16,-256.91 180.37,-265.04 186.93,-267.5\"/>\n</g>\n<!-- 140184990375792 -->\n<g id=\"node11\" class=\"node\">\n<title>140184990375792</title>\n<polygon fill=\"lightgrey\" stroke=\"black\" points=\"217,-388.5 116,-388.5 116,-369.5 217,-369.5 217,-388.5\"/>\n<text text-anchor=\"middle\" x=\"166.5\" y=\"-376.5\" font-family=\"monospace\" font-size=\"10.00\">AddmmBackward0</text>\n</g>\n<!-- 140184990375792&#45;&gt;140185037770176 -->\n<g id=\"edge9\" class=\"edge\">\n<title>140184990375792&#45;&gt;140185037770176</title>\n<path fill=\"none\" stroke=\"black\" d=\"M166.5,-369.37C166.5,-360.16 166.5,-345.29 166.5,-333.27\"/>\n<polygon fill=\"black\" stroke=\"black\" points=\"170,-332.91 166.5,-322.91 163,-332.91 170,-332.91\"/>\n</g>\n<!-- 140184990374256 -->\n<g id=\"node12\" class=\"node\">\n<title>140184990374256</title>\n<polygon fill=\"lightgrey\" stroke=\"black\" points=\"110,-454.5 9,-454.5 9,-435.5 110,-435.5 110,-454.5\"/>\n<text text-anchor=\"middle\" x=\"59.5\" y=\"-442.5\" font-family=\"monospace\" font-size=\"10.00\">AccumulateGrad</text>\n</g>\n<!-- 140184990374256&#45;&gt;140184990375792 -->\n<g id=\"edge10\" class=\"edge\">\n<title>140184990374256&#45;&gt;140184990375792</title>\n<path fill=\"none\" stroke=\"black\" d=\"M73.93,-435.37C91.72,-424.73 122.18,-406.51 143.28,-393.89\"/>\n<polygon fill=\"black\" stroke=\"black\" points=\"145.17,-396.84 151.96,-388.7 141.58,-390.83 145.17,-396.84\"/>\n</g>\n<!-- 140185112790016 -->\n<g id=\"node13\" class=\"node\">\n<title>140185112790016</title>\n<polygon fill=\"lightblue\" stroke=\"black\" points=\"105,-526 10,-526 10,-496 105,-496 105,-526\"/>\n<text text-anchor=\"middle\" x=\"57.5\" y=\"-514\" font-family=\"monospace\" font-size=\"10.00\">layers.0.bias</text>\n<text text-anchor=\"middle\" x=\"57.5\" y=\"-503\" font-family=\"monospace\" font-size=\"10.00\"> (50)</text>\n</g>\n<!-- 140185112790016&#45;&gt;140184990374256 -->\n<g id=\"edge11\" class=\"edge\">\n<title>140185112790016&#45;&gt;140184990374256</title>\n<path fill=\"none\" stroke=\"black\" d=\"M57.94,-495.8C58.23,-486.7 58.6,-474.79 58.91,-464.9\"/>\n<polygon fill=\"black\" stroke=\"black\" points=\"62.41,-464.95 59.22,-454.84 55.41,-464.73 62.41,-464.95\"/>\n</g>\n<!-- 140184990375504 -->\n<g id=\"node14\" class=\"node\">\n<title>140184990375504</title>\n<polygon fill=\"lightgrey\" stroke=\"black\" points=\"209,-454.5 132,-454.5 132,-435.5 209,-435.5 209,-454.5\"/>\n<text text-anchor=\"middle\" x=\"170.5\" y=\"-442.5\" font-family=\"monospace\" font-size=\"10.00\">TBackward0</text>\n</g>\n<!-- 140184990375504&#45;&gt;140184990375792 -->\n<g id=\"edge12\" class=\"edge\">\n<title>140184990375504&#45;&gt;140184990375792</title>\n<path fill=\"none\" stroke=\"black\" d=\"M169.96,-435.37C169.38,-426.07 168.44,-410.98 167.68,-398.9\"/>\n<polygon fill=\"black\" stroke=\"black\" points=\"171.17,-398.67 167.06,-388.91 164.19,-399.1 171.17,-398.67\"/>\n</g>\n<!-- 140184990372384 -->\n<g id=\"node15\" class=\"node\">\n<title>140184990372384</title>\n<polygon fill=\"lightgrey\" stroke=\"black\" points=\"224,-520.5 123,-520.5 123,-501.5 224,-501.5 224,-520.5\"/>\n<text text-anchor=\"middle\" x=\"173.5\" y=\"-508.5\" font-family=\"monospace\" font-size=\"10.00\">AccumulateGrad</text>\n</g>\n<!-- 140184990372384&#45;&gt;140184990375504 -->\n<g id=\"edge13\" class=\"edge\">\n<title>140184990372384&#45;&gt;140184990375504</title>\n<path fill=\"none\" stroke=\"black\" d=\"M173.1,-501.37C172.66,-492.07 171.95,-476.98 171.39,-464.9\"/>\n<polygon fill=\"black\" stroke=\"black\" points=\"174.88,-464.73 170.92,-454.91 167.89,-465.06 174.88,-464.73\"/>\n</g>\n<!-- 140185112790096 -->\n<g id=\"node16\" class=\"node\">\n<title>140185112790096</title>\n<polygon fill=\"lightblue\" stroke=\"black\" points=\"227,-592 120,-592 120,-562 227,-562 227,-592\"/>\n<text text-anchor=\"middle\" x=\"173.5\" y=\"-580\" font-family=\"monospace\" font-size=\"10.00\">layers.0.weight</text>\n<text text-anchor=\"middle\" x=\"173.5\" y=\"-569\" font-family=\"monospace\" font-size=\"10.00\"> (50, 1000)</text>\n</g>\n<!-- 140185112790096&#45;&gt;140184990372384 -->\n<g id=\"edge14\" class=\"edge\">\n<title>140185112790096&#45;&gt;140184990372384</title>\n<path fill=\"none\" stroke=\"black\" d=\"M173.5,-561.8C173.5,-552.7 173.5,-540.79 173.5,-530.9\"/>\n<polygon fill=\"black\" stroke=\"black\" points=\"177,-530.84 173.5,-520.84 170,-530.84 177,-530.84\"/>\n</g>\n<!-- 140185037767248 -->\n<g id=\"node17\" class=\"node\">\n<title>140185037767248</title>\n<polygon fill=\"lightgrey\" stroke=\"black\" points=\"309,-322.5 232,-322.5 232,-303.5 309,-303.5 309,-322.5\"/>\n<text text-anchor=\"middle\" x=\"270.5\" y=\"-310.5\" font-family=\"monospace\" font-size=\"10.00\">TBackward0</text>\n</g>\n<!-- 140185037767248&#45;&gt;140185037767296 -->\n<g id=\"edge15\" class=\"edge\">\n<title>140185037767248&#45;&gt;140185037767296</title>\n<path fill=\"none\" stroke=\"black\" d=\"M259.71,-303.37C246.83,-293.06 225.06,-275.65 209.37,-263.09\"/>\n<polygon fill=\"black\" stroke=\"black\" points=\"211.37,-260.21 201.37,-256.7 207,-265.68 211.37,-260.21\"/>\n</g>\n<!-- 140184990374736 -->\n<g id=\"node18\" class=\"node\">\n<title>140184990374736</title>\n<polygon fill=\"lightgrey\" stroke=\"black\" points=\"336,-388.5 235,-388.5 235,-369.5 336,-369.5 336,-388.5\"/>\n<text text-anchor=\"middle\" x=\"285.5\" y=\"-376.5\" font-family=\"monospace\" font-size=\"10.00\">AccumulateGrad</text>\n</g>\n<!-- 140184990374736&#45;&gt;140185037767248 -->\n<g id=\"edge16\" class=\"edge\">\n<title>140184990374736&#45;&gt;140185037767248</title>\n<path fill=\"none\" stroke=\"black\" d=\"M283.48,-369.37C281.3,-360.07 277.76,-344.98 274.93,-332.9\"/>\n<polygon fill=\"black\" stroke=\"black\" points=\"278.28,-331.84 272.59,-322.91 271.46,-333.44 278.28,-331.84\"/>\n</g>\n<!-- 140185112790176 -->\n<g id=\"node19\" class=\"node\">\n<title>140185112790176</title>\n<polygon fill=\"lightblue\" stroke=\"black\" points=\"339,-460 232,-460 232,-430 339,-430 339,-460\"/>\n<text text-anchor=\"middle\" x=\"285.5\" y=\"-448\" font-family=\"monospace\" font-size=\"10.00\">layers.2.weight</text>\n<text text-anchor=\"middle\" x=\"285.5\" y=\"-437\" font-family=\"monospace\" font-size=\"10.00\"> (50, 50)</text>\n</g>\n<!-- 140185112790176&#45;&gt;140184990374736 -->\n<g id=\"edge17\" class=\"edge\">\n<title>140185112790176&#45;&gt;140184990374736</title>\n<path fill=\"none\" stroke=\"black\" d=\"M285.5,-429.8C285.5,-420.7 285.5,-408.79 285.5,-398.9\"/>\n<polygon fill=\"black\" stroke=\"black\" points=\"289,-398.84 285.5,-388.84 282,-398.84 289,-398.84\"/>\n</g>\n<!-- 140185037769936 -->\n<g id=\"node20\" class=\"node\">\n<title>140185037769936</title>\n<polygon fill=\"lightgrey\" stroke=\"black\" points=\"364,-196 287,-196 287,-177 364,-177 364,-196\"/>\n<text text-anchor=\"middle\" x=\"325.5\" y=\"-184\" font-family=\"monospace\" font-size=\"10.00\">TBackward0</text>\n</g>\n<!-- 140185037769936&#45;&gt;140185037767056 -->\n<g id=\"edge18\" class=\"edge\">\n<title>140185037769936&#45;&gt;140185037767056</title>\n<path fill=\"none\" stroke=\"black\" d=\"M303.81,-176.98C281.7,-168.3 247.18,-154.75 222.05,-144.88\"/>\n<polygon fill=\"black\" stroke=\"black\" points=\"223.17,-141.57 212.58,-141.17 220.61,-148.08 223.17,-141.57\"/>\n</g>\n<!-- 140185037766960 -->\n<g id=\"node21\" class=\"node\">\n<title>140185037766960</title>\n<polygon fill=\"lightgrey\" stroke=\"black\" points=\"407,-256.5 306,-256.5 306,-237.5 407,-237.5 407,-256.5\"/>\n<text text-anchor=\"middle\" x=\"356.5\" y=\"-244.5\" font-family=\"monospace\" font-size=\"10.00\">AccumulateGrad</text>\n</g>\n<!-- 140185037766960&#45;&gt;140185037769936 -->\n<g id=\"edge19\" class=\"edge\">\n<title>140185037766960&#45;&gt;140185037769936</title>\n<path fill=\"none\" stroke=\"black\" d=\"M351.93,-237.37C347.44,-228.9 340.47,-215.74 334.81,-205.07\"/>\n<polygon fill=\"black\" stroke=\"black\" points=\"337.87,-203.36 330.09,-196.17 331.68,-206.64 337.87,-203.36\"/>\n</g>\n<!-- 140185112790336 -->\n<g id=\"node22\" class=\"node\">\n<title>140185112790336</title>\n<polygon fill=\"lightblue\" stroke=\"black\" points=\"434,-328 327,-328 327,-298 434,-298 434,-328\"/>\n<text text-anchor=\"middle\" x=\"380.5\" y=\"-316\" font-family=\"monospace\" font-size=\"10.00\">layers.4.weight</text>\n<text text-anchor=\"middle\" x=\"380.5\" y=\"-305\" font-family=\"monospace\" font-size=\"10.00\"> (1, 50)</text>\n</g>\n<!-- 140185112790336&#45;&gt;140185037766960 -->\n<g id=\"edge20\" class=\"edge\">\n<title>140185112790336&#45;&gt;140185037766960</title>\n<path fill=\"none\" stroke=\"black\" d=\"M375.17,-297.8C371.69,-288.5 367.1,-276.27 363.35,-266.26\"/>\n<polygon fill=\"black\" stroke=\"black\" points=\"366.61,-264.98 359.82,-256.84 360.05,-267.44 366.61,-264.98\"/>\n</g>\n</g>\n</svg>\n"
          },
          "metadata": {},
          "execution_count": 16
        }
      ],
      "source": [
        "# Visualize a model\n",
        "\n",
        "# Requires graphviz!\n",
        "\n",
        "# !brew install graphviz\n",
        "# !pip install torchviz\n",
        "from IPython.display import SVG\n",
        "from torchviz import make_dot\n",
        "\n",
        "dataiter = iter(valid_loader)\n",
        "X_0, _ = next(dataiter) # load the first mini-batch\n",
        "y_0 = model(X_0.float().to(device))\n",
        "make_dot(y_0.mean(), params=dict(model.named_parameters()))"
      ]
    },
    {
      "cell_type": "code",
      "execution_count": null,
      "metadata": {
        "ExecuteTime": {
          "end_time": "2022-03-25T07:45:31.681104Z",
          "start_time": "2022-03-25T07:45:31.655072Z"
        },
        "id": "R-J99HyPnT0l",
        "colab": {
          "base_uri": "https://localhost:8080/"
        },
        "outputId": "58431ed0-624b-47ec-8048-8dd014db8aa4"
      },
      "outputs": [
        {
          "output_type": "stream",
          "name": "stdout",
          "text": [
            "epoch : 1, train loss : 0.5308, valid loss : 0.5452, valid acc : 0.73%\n",
            "epoch : 2, train loss : 0.3403, valid loss : 0.4627, valid acc : 0.82%\n",
            "epoch : 3, train loss : 0.1623, valid loss : 0.4398, valid acc : 0.82%\n",
            "epoch : 4, train loss : 0.0555, valid loss : 0.4457, valid acc : 0.78%\n",
            "epoch : 5, train loss : 0.0201, valid loss : 0.5049, valid acc : 0.78%\n",
            "epoch : 6, train loss : 0.0110, valid loss : 0.5076, valid acc : 0.84%\n",
            "epoch : 7, train loss : 0.0050, valid loss : 0.5483, valid acc : 0.81%\n",
            "epoch : 8, train loss : 0.0030, valid loss : 0.5813, valid acc : 0.79%\n",
            "epoch : 9, train loss : 0.0023, valid loss : 0.6068, valid acc : 0.79%\n",
            "epoch : 10, train loss : 0.0015, valid loss : 0.6195, valid acc : 0.81%\n",
            "test accuracy: 0.8831168831168831\n"
          ]
        }
      ],
      "source": [
        "from tqdm import tqdm\n",
        "from sklearn.metrics import accuracy_score\n",
        "# fit the model\n",
        "model = MLP().to(device)\n",
        "optimizer = torch.optim.Adam(model.parameters(), lr=0.001)\n",
        "loss_fn = nn.BCEWithLogitsLoss() # a binary cross entropy loss combined with a sigmoid activation\n",
        "\n",
        "mean_train_losses = []\n",
        "mean_valid_losses = []\n",
        "valid_acc_list = []\n",
        "epochs = 10\n",
        "best_score = 0\n",
        "\n",
        "for epoch in range(epochs):\n",
        "    # switch the model to train mode\n",
        "    model.train()\n",
        "    \n",
        "    train_losses = []\n",
        "    valid_losses = []\n",
        "    for i, (Xs, labels) in enumerate(train_loader):\n",
        "        \n",
        "        optimizer.zero_grad()\n",
        "        \n",
        "        outputs = model(Xs.float().to(device))\n",
        "        loss = loss_fn(outputs, labels.float().unsqueeze(1).to(device)) # shape (32,) -> (32,1)\n",
        "        loss.backward()\n",
        "        optimizer.step()\n",
        "        \n",
        "        train_losses.append(loss.item())\n",
        "            \n",
        "    model.eval()\n",
        "    pred_labels = []\n",
        "    true_labels = []\n",
        "    with torch.no_grad():\n",
        "        for i, (Xs, labels) in enumerate(valid_loader):\n",
        "            outputs = model(Xs.float().to(device))\n",
        "            loss = loss_fn(outputs, labels.float().unsqueeze(1).to(device))\n",
        "            \n",
        "            valid_losses.append(loss.item())\n",
        "            \n",
        "            predicted = [1 if d > 0.5 else 0 for d in outputs.data.squeeze()]\n",
        "            pred_labels.extend(predicted)\n",
        "            true_labels.extend(list(labels))\n",
        "            \n",
        "    mean_train_losses.append(np.mean(train_losses))\n",
        "    mean_valid_losses.append(np.mean(valid_losses))\n",
        "    \n",
        "    accuracy = accuracy_score(true_labels, pred_labels)\n",
        "    if accuracy > best_score:\n",
        "      torch.save(model, 'best.pt')\n",
        "      best_score = accuracy\n",
        "    valid_acc_list.append(accuracy)\n",
        "    print('epoch : {}, train loss : {:.4f}, valid loss : {:.4f}, valid acc : {:.2f}%'\\\n",
        "         .format(epoch+1, np.mean(train_losses), np.mean(valid_losses), accuracy))\n",
        "\n",
        "model = torch.load('best.pt')\n",
        "model.eval()\n",
        "\n",
        "pred_labels = []\n",
        "true_labels = []\n",
        "for i, (Xs, labels) in enumerate(test_loader):\n",
        "    outputs = model(Xs.float().to(device))\n",
        "    \n",
        "    pred = [1 if d > 0.5 else 0 for d in outputs.data.squeeze()]\n",
        "    pred_labels.extend(pred)\n",
        "    true_labels.extend(list(labels))\n",
        "\n",
        "print('test accuracy:', accuracy_score(true_labels, pred_labels))"
      ]
    },
    {
      "cell_type": "code",
      "execution_count": null,
      "metadata": {
        "ExecuteTime": {
          "end_time": "2022-03-25T07:45:40.681579Z",
          "start_time": "2022-03-25T07:45:40.660150Z"
        },
        "colab": {
          "base_uri": "https://localhost:8080/"
        },
        "id": "3OfEQTVRnT0l",
        "outputId": "a091226e-d85e-4d4b-f7a7-d7c91f759d35"
      },
      "outputs": [
        {
          "output_type": "stream",
          "name": "stdout",
          "text": [
            "layers.0.weight\n",
            "torch.Size([50, 1000])\n",
            "Parameter containing:\n",
            "tensor([[-0.0313,  0.0266, -0.0020,  ..., -0.0467,  0.0287,  0.0031],\n",
            "        [ 0.0186, -0.0277, -0.0185,  ..., -0.0051,  0.0051, -0.0362],\n",
            "        [-0.0098,  0.0002, -0.0030,  ...,  0.0145, -0.0185, -0.0028],\n",
            "        ...,\n",
            "        [-0.0015,  0.0322,  0.0147,  ...,  0.0175, -0.0184,  0.0251],\n",
            "        [-0.0108, -0.0203, -0.0275,  ..., -0.0010,  0.0120,  0.0045],\n",
            "        [-0.0104, -0.0272,  0.0007,  ...,  0.0184,  0.0017,  0.0057]],\n",
            "       device='cuda:0', requires_grad=True)\n",
            "layers.0.bias\n",
            "torch.Size([50])\n",
            "Parameter containing:\n",
            "tensor([ 0.0438, -0.0409,  0.0031, -0.0211,  0.0248,  0.0010, -0.0138,  0.0295,\n",
            "        -0.0268,  0.0084,  0.0152,  0.0035, -0.0029, -0.0036,  0.0207, -0.0053,\n",
            "         0.0430, -0.0031, -0.0258,  0.0145, -0.0088,  0.0044,  0.0111,  0.0149,\n",
            "         0.0457,  0.0071,  0.0126,  0.0245, -0.0150, -0.0022,  0.0140,  0.0058,\n",
            "         0.0377,  0.0013, -0.0083,  0.0151, -0.0214,  0.0043,  0.0281,  0.0094,\n",
            "         0.0305,  0.0412,  0.0226,  0.0397,  0.0013,  0.0204, -0.0011,  0.0229,\n",
            "        -0.0290, -0.0060], device='cuda:0', requires_grad=True)\n",
            "layers.2.weight\n",
            "torch.Size([50, 50])\n",
            "Parameter containing:\n",
            "tensor([[ 0.0121, -0.0961,  0.1286,  ...,  0.1278,  0.0821, -0.0136],\n",
            "        [ 0.1215, -0.1279, -0.0980,  ...,  0.1259, -0.0739, -0.0675],\n",
            "        [ 0.0375, -0.1081,  0.0747,  ..., -0.0451,  0.0715, -0.0588],\n",
            "        ...,\n",
            "        [ 0.1177,  0.1250,  0.0689,  ..., -0.0022,  0.1318, -0.1145],\n",
            "        [-0.0461,  0.0047,  0.0573,  ...,  0.0631,  0.0803, -0.0173],\n",
            "        [ 0.0978,  0.0172,  0.0770,  ..., -0.0325, -0.1230, -0.0286]],\n",
            "       device='cuda:0', requires_grad=True)\n",
            "layers.2.bias\n",
            "torch.Size([50])\n",
            "Parameter containing:\n",
            "tensor([ 0.0726, -0.0454,  0.0450, -0.1048,  0.1040,  0.1209, -0.1337, -0.0127,\n",
            "         0.0363, -0.1014, -0.0790,  0.1160, -0.0091, -0.1189,  0.0504,  0.1395,\n",
            "        -0.0475, -0.0619,  0.0281, -0.1258,  0.0419,  0.0164,  0.0350,  0.1197,\n",
            "        -0.0834,  0.0646, -0.0356,  0.0817,  0.0326,  0.0012, -0.0819,  0.0408,\n",
            "        -0.0256,  0.0299,  0.0418,  0.0635,  0.0899, -0.1119, -0.0298, -0.0469,\n",
            "         0.0184, -0.0493,  0.1208, -0.0775, -0.0682,  0.0731,  0.0719,  0.0091,\n",
            "        -0.1262, -0.0487], device='cuda:0', requires_grad=True)\n",
            "layers.4.weight\n",
            "torch.Size([1, 50])\n",
            "Parameter containing:\n",
            "tensor([[-0.1663,  0.1190, -0.0601, -0.0865, -0.1697,  0.1519, -0.0779, -0.0253,\n",
            "          0.0528,  0.1723, -0.1828, -0.0016, -0.1376, -0.0899,  0.0816, -0.1089,\n",
            "         -0.0970,  0.0452,  0.0303, -0.1487, -0.1319, -0.0821, -0.0638, -0.0912,\n",
            "         -0.1358, -0.0647,  0.0621, -0.0958,  0.1641, -0.1446, -0.0428, -0.0972,\n",
            "         -0.0704,  0.1294, -0.0504, -0.0682, -0.2298,  0.0629,  0.0727, -0.0269,\n",
            "          0.0993, -0.1140,  0.1430, -0.1362, -0.1111, -0.0898, -0.1359, -0.1478,\n",
            "         -0.0054, -0.0206]], device='cuda:0', requires_grad=True)\n",
            "layers.4.bias\n",
            "torch.Size([1])\n",
            "Parameter containing:\n",
            "tensor([-0.0926], device='cuda:0', requires_grad=True)\n"
          ]
        }
      ],
      "source": [
        "# these are the learned coefficients\n",
        "for name, param in model.named_parameters():\n",
        "  print(name)\n",
        "  print(param.shape)\n",
        "  print(param)"
      ]
    },
    {
      "cell_type": "code",
      "execution_count": null,
      "metadata": {
        "ExecuteTime": {
          "end_time": "2022-03-25T07:45:47.387664Z",
          "start_time": "2022-03-25T07:45:47.355449Z"
        },
        "colab": {
          "base_uri": "https://localhost:8080/",
          "height": 282
        },
        "id": "bFtpRRZ8nT0l",
        "outputId": "1074d84b-c3e2-4544-9391-e33ecbb2b50e"
      },
      "outputs": [
        {
          "output_type": "execute_result",
          "data": {
            "text/plain": [
              "<matplotlib.legend.Legend at 0x7f7f564f6eb0>"
            ]
          },
          "metadata": {},
          "execution_count": 44
        },
        {
          "output_type": "display_data",
          "data": {
            "text/plain": [
              "<Figure size 432x288 with 1 Axes>"
            ],
            "image/png": "[encoded data removed]"
          },
          "metadata": {
            "needs_background": "light"
          }
        }
      ],
      "source": [
        "# Plot performance by epoch\n",
        "%matplotlib inline\n",
        "plt.plot(list(range(1, 11)), mean_train_losses)\n",
        "plt.plot(list(range(1, 11)), mean_valid_losses)\n",
        "plt.legend(['train', 'val'], loc='best')\n"
      ]
    },
    {
      "cell_type": "markdown",
      "metadata": {
        "id": "OIpav_nAnT0m"
      },
      "source": [
        "**Regression**"
      ]
    },
    {
      "cell_type": "code",
      "execution_count": null,
      "metadata": {
        "ExecuteTime": {
          "end_time": "2022-03-25T08:13:22.229978Z",
          "start_time": "2022-03-25T08:13:20.100434Z"
        },
        "colab": {
          "base_uri": "https://localhost:8080/"
        },
        "id": "a7rE2HRUnT0m",
        "outputId": "56fad4a7-687f-40c0-dde5-531806c0204d"
      },
      "outputs": [
        {
          "output_type": "stream",
          "name": "stdout",
          "text": [
            "epoch : 1, train loss : 21.9946, valid loss : 11.0985, valid r2 : -4.44%\n",
            "epoch : 2, train loss : 9.2290, valid loss : 6.0304, valid r2 : -2.03%\n",
            "epoch : 3, train loss : 6.2686, valid loss : 6.3276, valid r2 : -2.07%\n",
            "epoch : 4, train loss : 5.0958, valid loss : 6.2827, valid r2 : -2.10%\n",
            "epoch : 5, train loss : 3.9949, valid loss : 5.9435, valid r2 : -2.01%\n",
            "epoch : 6, train loss : 3.3215, valid loss : 5.8471, valid r2 : -1.96%\n",
            "epoch : 7, train loss : 2.9058, valid loss : 5.9171, valid r2 : -2.08%\n",
            "epoch : 8, train loss : 2.4726, valid loss : 5.9532, valid r2 : -2.10%\n",
            "epoch : 9, train loss : 2.0799, valid loss : 6.0677, valid r2 : -2.23%\n",
            "epoch : 10, train loss : 1.5552, valid loss : 6.0949, valid r2 : -2.26%\n",
            "epoch : 11, train loss : 1.2635, valid loss : 6.5474, valid r2 : -2.60%\n",
            "epoch : 12, train loss : 1.0287, valid loss : 6.8476, valid r2 : -2.79%\n",
            "epoch : 13, train loss : 0.8495, valid loss : 6.4119, valid r2 : -2.50%\n",
            "epoch : 14, train loss : 0.6306, valid loss : 6.3615, valid r2 : -2.44%\n",
            "epoch : 15, train loss : 0.4829, valid loss : 6.7682, valid r2 : -2.74%\n",
            "test r2: -38.80924611072575\n"
          ]
        }
      ],
      "source": [
        "from sklearn.metrics import r2_score\n",
        "\n",
        "# Regression model with R-squared\n",
        "Yreg = df['log_cite_count']\n",
        "\n",
        "# prepare regression dataset\n",
        "tsize = math.ceil(0.1 * len(Y))\n",
        "X_train, X_valid, y_train, y_valid = train_test_split(X.toarray(), np.array(Yreg), test_size=tsize)\n",
        "X_train, X_test, y_train, y_test = train_test_split(X_train, y_train, test_size=tsize)\n",
        "\n",
        "train_dataset = ScCasesDataset(X_train, y_train)\n",
        "valid_dataset = ScCasesDataset(X_valid, y_valid)\n",
        "test_dataset = ScCasesDataset(X_test, y_test)\n",
        "train_loader = DataLoader(dataset=train_dataset, batch_size=32, shuffle=True)\n",
        "valid_loader = DataLoader(dataset=valid_dataset, batch_size=32, shuffle=False)\n",
        "test_loader = DataLoader(dataset=test_dataset, batch_size=32, shuffle=False)\n",
        "\n",
        "model = MLP().to(device) # create a model for regression\n",
        "optimizer = torch.optim.Adam(model.parameters(), lr=0.001)\n",
        "loss_fn = nn.MSELoss() # we use Mean Square Error for regression\n",
        "\n",
        "mean_train_losses = []\n",
        "mean_valid_losses = []\n",
        "valid_r2_list = []\n",
        "epochs = 15\n",
        "best_score = 0\n",
        "\n",
        "for epoch in range(epochs):\n",
        "    # switch the model to train mode\n",
        "    model.train()\n",
        "    \n",
        "    train_losses = []\n",
        "    valid_losses = []\n",
        "    for i, (Xs, labels) in enumerate(train_loader):\n",
        "        \n",
        "        optimizer.zero_grad()\n",
        "        \n",
        "        outputs = model(Xs.float().to(device))\n",
        "        loss = loss_fn(outputs, labels.float().unsqueeze(1).to(device)) # shape (32,) -> (32,1)\n",
        "        loss.backward()\n",
        "        optimizer.step()\n",
        "        \n",
        "        train_losses.append(loss.item())\n",
        "            \n",
        "    model.eval()\n",
        "    pred_labels = []\n",
        "    true_labels = []\n",
        "    with torch.no_grad():\n",
        "        for i, (Xs, labels) in enumerate(valid_loader):\n",
        "            outputs = model(Xs.float().to(device))\n",
        "            loss = loss_fn(outputs, labels.float().unsqueeze(1).to(device))\n",
        "            \n",
        "            valid_losses.append(loss.item())\n",
        "            \n",
        "            predicted = outputs.data.squeeze()\n",
        "            pred_labels.extend(list(predicted.cpu()))\n",
        "            true_labels.extend(list(labels.cpu()))\n",
        "            \n",
        "    mean_train_losses.append(np.mean(train_losses))\n",
        "    mean_valid_losses.append(np.mean(valid_losses))\n",
        "    \n",
        "    r2 = r2_score(true_labels, pred_labels)\n",
        "    if r2 > best_score:\n",
        "      torch.save(model, 'best.pt')\n",
        "      best_score = r2\n",
        "    valid_r2_list.append(r2)\n",
        "    print('epoch : {}, train loss : {:.4f}, valid loss : {:.4f}, valid r2 : {:.2f}%'\\\n",
        "         .format(epoch+1, np.mean(train_losses), np.mean(valid_losses), r2))\n",
        "    \n",
        "model = torch.load('best.pt')\n",
        "model.eval()\n",
        "\n",
        "pred_labels = []\n",
        "true_labels = []\n",
        "for i, (Xs, labels) in enumerate(test_loader):\n",
        "    outputs = model(Xs.float().to(device))\n",
        "    \n",
        "    pred = outputs.data.squeeze()\n",
        "    pred_labels.extend(list(pred.cpu()))\n",
        "    true_labels.extend(list(labels.cpu()))\n",
        "\n",
        "print('test r2:', r2_score(true_labels, pred_labels))"
      ]
    },
    {
      "cell_type": "code",
      "execution_count": null,
      "metadata": {
        "ExecuteTime": {
          "end_time": "2022-03-25T08:14:07.226418Z",
          "start_time": "2022-03-25T08:14:07.130001Z"
        },
        "colab": {
          "base_uri": "https://localhost:8080/",
          "height": 282
        },
        "id": "lmFXJIchnT0m",
        "outputId": "3ff71d7a-eee9-430a-d739-0de0be95f27a"
      },
      "outputs": [
        {
          "output_type": "execute_result",
          "data": {
            "text/plain": [
              "[<matplotlib.lines.Line2D at 0x7f7f65c83130>]"
            ]
          },
          "metadata": {},
          "execution_count": 50
        },
        {
          "output_type": "display_data",
          "data": {
            "text/plain": [
              "<Figure size 432x288 with 1 Axes>"
            ],
            "image/png": "[encoded data removed]"
          },
          "metadata": {
            "needs_background": "light"
          }
        }
      ],
      "source": [
        "%matplotlib inline\n",
        "\n",
        "# Plot performance by epoch\n",
        "plt.plot(list(range(1, 16)), valid_r2_list)\n"
      ]
    },
    {
      "cell_type": "code",
      "execution_count": null,
      "metadata": {
        "id": "GOApzJFfnT0n"
      },
      "outputs": [],
      "source": []
    }
  ],
  "metadata": {
    "kernelspec": {
      "display_name": "Python 3 (ipykernel)",
      "language": "python",
      "name": "python3"
    },
    "language_info": {
      "codemirror_mode": {
        "name": "ipython",
        "version": 3
      },
      "file_extension": ".py",
      "mimetype": "text/x-python",
      "name": "python",
      "nbconvert_exporter": "python",
      "pygments_lexer": "ipython3",
      "version": "3.7.11"
    },
    "toc": {
      "base_numbering": 1,
      "nav_menu": {},
      "number_sections": true,
      "sideBar": true,
      "skip_h1_title": false,
      "title_cell": "Table of Contents",
      "title_sidebar": "Contents",
      "toc_cell": false,
      "toc_position": {},
      "toc_section_display": true,
      "toc_window_display": false
    },
    "colab": {
      "provenance": []
    },
    "accelerator": "GPU",
    "gpuClass": "standard"
  },
  "nbformat": 4,
  "nbformat_minor": 0
}