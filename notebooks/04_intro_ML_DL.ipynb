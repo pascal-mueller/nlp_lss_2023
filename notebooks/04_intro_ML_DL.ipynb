{
  "cells": [
    {
      "cell_type": "markdown",
      "metadata": {
        "id": "FwzH6UGrnT0a"
      },
      "source": [
        "# Week 04. Machine Learning with Text Data"
      ]
    },
    {
      "cell_type": "markdown",
      "metadata": {
        "id": "OzP-x4nLnT0b"
      },
      "source": [
        "Natural Language Processing for Law and Social Science<br>\n",
        "Elliott Ash, ETH Zurich"
      ]
    },
    {
      "cell_type": "code",
      "execution_count": 1,
      "metadata": {
        "id": "fVmw48JCnT0b"
      },
      "outputs": [],
      "source": [
        "# set random seed\n",
        "import numpy as np\n",
        "np.random.seed(4)"
      ]
    },
    {
      "cell_type": "code",
      "source": [
        "# If you are using Google Colab, here's the code to load sc_cases_cleaned.pkl from local. \n",
        "from google.colab import files\n",
        "uploaded = files.upload()"
      ],
      "metadata": {
        "colab": {
          "base_uri": "https://localhost:8080/",
          "height": 75
        },
        "id": "IqxhFRi7nYO7",
        "outputId": "3c0f0a78-e9f6-4b22-d696-b86ed1cbd5c7"
      },
      "execution_count": 2,
      "outputs": [
        {
          "output_type": "display_data",
          "data": {
            "text/plain": [
              "<IPython.core.display.HTML object>"
            ],
            "text/html": [
              "\n",
              "     <input type=\"file\" id=\"files-105f42aa-0514-4505-ae84-5ef44d45ad16\" name=\"files[]\" multiple disabled\n",
              "        style=\"border:none\" />\n",
              "     <output id=\"result-105f42aa-0514-4505-ae84-5ef44d45ad16\">\n",
              "      Upload widget is only available when the cell has been executed in the\n",
              "      current browser session. Please rerun this cell to enable.\n",
              "      </output>\n",
              "      <script>// Copyright 2017 Google LLC\n",
              "//\n",
              "// Licensed under the Apache License, Version 2.0 (the \"License\");\n",
              "// you may not use this file except in compliance with the License.\n",
              "// You may obtain a copy of the License at\n",
              "//\n",
              "//      http://www.apache.org/licenses/LICENSE-2.0\n",
              "//\n",
              "// Unless required by applicable law or agreed to in writing, software\n",
              "// distributed under the License is distributed on an \"AS IS\" BASIS,\n",
              "// WITHOUT WARRANTIES OR CONDITIONS OF ANY KIND, either express or implied.\n",
              "// See the License for the specific language governing permissions and\n",
              "// limitations under the License.\n",
              "\n",
              "/**\n",
              " * @fileoverview Helpers for google.colab Python module.\n",
              " */\n",
              "(function(scope) {\n",
              "function span(text, styleAttributes = {}) {\n",
              "  const element = document.createElement('span');\n",
              "  element.textContent = text;\n",
              "  for (const key of Object.keys(styleAttributes)) {\n",
              "    element.style[key] = styleAttributes[key];\n",
              "  }\n",
              "  return element;\n",
              "}\n",
              "\n",
              "// Max number of bytes which will be uploaded at a time.\n",
              "const MAX_PAYLOAD_SIZE = 100 * 1024;\n",
              "\n",
              "function _uploadFiles(inputId, outputId) {\n",
              "  const steps = uploadFilesStep(inputId, outputId);\n",
              "  const outputElement = document.getElementById(outputId);\n",
              "  // Cache steps on the outputElement to make it available for the next call\n",
              "  // to uploadFilesContinue from Python.\n",
              "  outputElement.steps = steps;\n",
              "\n",
              "  return _uploadFilesContinue(outputId);\n",
              "}\n",
              "\n",
              "// This is roughly an async generator (not supported in the browser yet),\n",
              "// where there are multiple asynchronous steps and the Python side is going\n",
              "// to poll for completion of each step.\n",
              "// This uses a Promise to block the python side on completion of each step,\n",
              "// then passes the result of the previous step as the input to the next step.\n",
              "function _uploadFilesContinue(outputId) {\n",
              "  const outputElement = document.getElementById(outputId);\n",
              "  const steps = outputElement.steps;\n",
              "\n",
              "  const next = steps.next(outputElement.lastPromiseValue);\n",
              "  return Promise.resolve(next.value.promise).then((value) => {\n",
              "    // Cache the last promise value to make it available to the next\n",
              "    // step of the generator.\n",
              "    outputElement.lastPromiseValue = value;\n",
              "    return next.value.response;\n",
              "  });\n",
              "}\n",
              "\n",
              "/**\n",
              " * Generator function which is called between each async step of the upload\n",
              " * process.\n",
              " * @param {string} inputId Element ID of the input file picker element.\n",
              " * @param {string} outputId Element ID of the output display.\n",
              " * @return {!Iterable<!Object>} Iterable of next steps.\n",
              " */\n",
              "function* uploadFilesStep(inputId, outputId) {\n",
              "  const inputElement = document.getElementById(inputId);\n",
              "  inputElement.disabled = false;\n",
              "\n",
              "  const outputElement = document.getElementById(outputId);\n",
              "  outputElement.innerHTML = '';\n",
              "\n",
              "  const pickedPromise = new Promise((resolve) => {\n",
              "    inputElement.addEventListener('change', (e) => {\n",
              "      resolve(e.target.files);\n",
              "    });\n",
              "  });\n",
              "\n",
              "  const cancel = document.createElement('button');\n",
              "  inputElement.parentElement.appendChild(cancel);\n",
              "  cancel.textContent = 'Cancel upload';\n",
              "  const cancelPromise = new Promise((resolve) => {\n",
              "    cancel.onclick = () => {\n",
              "      resolve(null);\n",
              "    };\n",
              "  });\n",
              "\n",
              "  // Wait for the user to pick the files.\n",
              "  const files = yield {\n",
              "    promise: Promise.race([pickedPromise, cancelPromise]),\n",
              "    response: {\n",
              "      action: 'starting',\n",
              "    }\n",
              "  };\n",
              "\n",
              "  cancel.remove();\n",
              "\n",
              "  // Disable the input element since further picks are not allowed.\n",
              "  inputElement.disabled = true;\n",
              "\n",
              "  if (!files) {\n",
              "    return {\n",
              "      response: {\n",
              "        action: 'complete',\n",
              "      }\n",
              "    };\n",
              "  }\n",
              "\n",
              "  for (const file of files) {\n",
              "    const li = document.createElement('li');\n",
              "    li.append(span(file.name, {fontWeight: 'bold'}));\n",
              "    li.append(span(\n",
              "        `(${file.type || 'n/a'}) - ${file.size} bytes, ` +\n",
              "        `last modified: ${\n",
              "            file.lastModifiedDate ? file.lastModifiedDate.toLocaleDateString() :\n",
              "                                    'n/a'} - `));\n",
              "    const percent = span('0% done');\n",
              "    li.appendChild(percent);\n",
              "\n",
              "    outputElement.appendChild(li);\n",
              "\n",
              "    const fileDataPromise = new Promise((resolve) => {\n",
              "      const reader = new FileReader();\n",
              "      reader.onload = (e) => {\n",
              "        resolve(e.target.result);\n",
              "      };\n",
              "      reader.readAsArrayBuffer(file);\n",
              "    });\n",
              "    // Wait for the data to be ready.\n",
              "    let fileData = yield {\n",
              "      promise: fileDataPromise,\n",
              "      response: {\n",
              "        action: 'continue',\n",
              "      }\n",
              "    };\n",
              "\n",
              "    // Use a chunked sending to avoid message size limits. See b/62115660.\n",
              "    let position = 0;\n",
              "    do {\n",
              "      const length = Math.min(fileData.byteLength - position, MAX_PAYLOAD_SIZE);\n",
              "      const chunk = new Uint8Array(fileData, position, length);\n",
              "      position += length;\n",
              "\n",
              "      const base64 = btoa(String.fromCharCode.apply(null, chunk));\n",
              "      yield {\n",
              "        response: {\n",
              "          action: 'append',\n",
              "          file: file.name,\n",
              "          data: base64,\n",
              "        },\n",
              "      };\n",
              "\n",
              "      let percentDone = fileData.byteLength === 0 ?\n",
              "          100 :\n",
              "          Math.round((position / fileData.byteLength) * 100);\n",
              "      percent.textContent = `${percentDone}% done`;\n",
              "\n",
              "    } while (position < fileData.byteLength);\n",
              "  }\n",
              "\n",
              "  // All done.\n",
              "  yield {\n",
              "    response: {\n",
              "      action: 'complete',\n",
              "    }\n",
              "  };\n",
              "}\n",
              "\n",
              "scope.google = scope.google || {};\n",
              "scope.google.colab = scope.google.colab || {};\n",
              "scope.google.colab._files = {\n",
              "  _uploadFiles,\n",
              "  _uploadFilesContinue,\n",
              "};\n",
              "})(self);\n",
              "</script> "
            ]
          },
          "metadata": {}
        },
        {
          "output_type": "stream",
          "name": "stdout",
          "text": [
            "Saving sc_cases_cleaned.pkl to sc_cases_cleaned.pkl\n"
          ]
        }
      ]
    },
    {
      "cell_type": "code",
      "execution_count": 3,
      "metadata": {
        "colab": {
          "base_uri": "https://localhost:8080/",
          "height": 652
        },
        "id": "0YkouoDYnT0b",
        "outputId": "f35fb5d3-14f0-4b23-94fc-fc11c75a629c"
      },
      "outputs": [
        {
          "output_type": "execute_result",
          "data": {
            "text/plain": [
              "                                           case_name opinion_type  \\\n",
              "0                ERICK CORNELL CLAY v. UNITED STATES     majority   \n",
              "1  HILLSIDE DAIRY INC., A&A DAIRY, L&S DAIRY, AND...     majority   \n",
              "2    CHARLES RUSSELL RHINES v. DOUGLAS WEBER, WARDEN     majority   \n",
              "3        STATE OF ALASKA v. UNITED STATES OF AMERICA     majority   \n",
              "4  REGINALD A. WILKINSON, DIRECTOR, OHIO DEPARTME...     majority   \n",
              "\n",
              "  date_standard authorship  x_republican  \\\n",
              "0    2003-03-04   GINSBURG           0.0   \n",
              "1    2003-06-09    STEVENS           1.0   \n",
              "2    2005-03-30   O'CONNOR           1.0   \n",
              "3    2005-06-06    KENNEDY           1.0   \n",
              "4    2005-06-13    KENNEDY           1.0   \n",
              "\n",
              "                                          maj_judges  \\\n",
              "0  ['BREYER, STEPHEN', 'GINSBURG, RUTH', 'KENNEDY...   \n",
              "1  ['BREYER, STEPHEN', 'GINSBURG, RUTH', 'KENNEDY...   \n",
              "2  ['BREYER, STEPHEN', 'GINSBURG, RUTH', 'KENNEDY...   \n",
              "3  ['BREYER, STEPHEN', 'GINSBURG, RUTH', 'KENNEDY...   \n",
              "4  ['BREYER, STEPHEN', 'GINSBURG, RUTH', 'KENNEDY...   \n",
              "\n",
              "                                      dissent_judges  topic_id  cite_count  \\\n",
              "0                                                 []       1.0      2926.0   \n",
              "1                               ['THOMAS, CLARENCE']       8.0       117.0   \n",
              "2                                                 []       1.0     23364.0   \n",
              "3  ['REHNQUIST, WILLIAM', 'SCALIA, ANTONIN', 'THO...      10.0        84.0   \n",
              "4                                                 []       4.0      4230.0   \n",
              "\n",
              "                                        opinion_text  year  log_cite_count  \n",
              "0  JUSTICE GINSBURG delivered the opinion of the ...  2003        7.981392  \n",
              "1  Justice Stevens delivered the opinion of the C...  2003        4.762174  \n",
              "2  Justice O'Connor delivered the opinion of the ...  2005       10.058952  \n",
              "3  Justice Kennedy delivered the opinion of the C...  2005        4.430817  \n",
              "4  Justice Kennedy delivered the opinion of the C...  2005        8.349957  "
            ],
            "text/html": [
              "\n",
              "  <div id=\"df-2ba5101c-8e3e-4666-928b-e89d650df383\">\n",
              "    <div class=\"colab-df-container\">\n",
              "      <div>\n",
              "<style scoped>\n",
              "    .dataframe tbody tr th:only-of-type {\n",
              "        vertical-align: middle;\n",
              "    }\n",
              "\n",
              "    .dataframe tbody tr th {\n",
              "        vertical-align: top;\n",
              "    }\n",
              "\n",
              "    .dataframe thead th {\n",
              "        text-align: right;\n",
              "    }\n",
              "</style>\n",
              "<table border=\"1\" class=\"dataframe\">\n",
              "  <thead>\n",
              "    <tr style=\"text-align: right;\">\n",
              "      <th></th>\n",
              "      <th>case_name</th>\n",
              "      <th>opinion_type</th>\n",
              "      <th>date_standard</th>\n",
              "      <th>authorship</th>\n",
              "      <th>x_republican</th>\n",
              "      <th>maj_judges</th>\n",
              "      <th>dissent_judges</th>\n",
              "      <th>topic_id</th>\n",
              "      <th>cite_count</th>\n",
              "      <th>opinion_text</th>\n",
              "      <th>year</th>\n",
              "      <th>log_cite_count</th>\n",
              "    </tr>\n",
              "  </thead>\n",
              "  <tbody>\n",
              "    <tr>\n",
              "      <th>0</th>\n",
              "      <td>ERICK CORNELL CLAY v. UNITED STATES</td>\n",
              "      <td>majority</td>\n",
              "      <td>2003-03-04</td>\n",
              "      <td>GINSBURG</td>\n",
              "      <td>0.0</td>\n",
              "      <td>['BREYER, STEPHEN', 'GINSBURG, RUTH', 'KENNEDY...</td>\n",
              "      <td>[]</td>\n",
              "      <td>1.0</td>\n",
              "      <td>2926.0</td>\n",
              "      <td>JUSTICE GINSBURG delivered the opinion of the ...</td>\n",
              "      <td>2003</td>\n",
              "      <td>7.981392</td>\n",
              "    </tr>\n",
              "    <tr>\n",
              "      <th>1</th>\n",
              "      <td>HILLSIDE DAIRY INC., A&amp;A DAIRY, L&amp;S DAIRY, AND...</td>\n",
              "      <td>majority</td>\n",
              "      <td>2003-06-09</td>\n",
              "      <td>STEVENS</td>\n",
              "      <td>1.0</td>\n",
              "      <td>['BREYER, STEPHEN', 'GINSBURG, RUTH', 'KENNEDY...</td>\n",
              "      <td>['THOMAS, CLARENCE']</td>\n",
              "      <td>8.0</td>\n",
              "      <td>117.0</td>\n",
              "      <td>Justice Stevens delivered the opinion of the C...</td>\n",
              "      <td>2003</td>\n",
              "      <td>4.762174</td>\n",
              "    </tr>\n",
              "    <tr>\n",
              "      <th>2</th>\n",
              "      <td>CHARLES RUSSELL RHINES v. DOUGLAS WEBER, WARDEN</td>\n",
              "      <td>majority</td>\n",
              "      <td>2005-03-30</td>\n",
              "      <td>O'CONNOR</td>\n",
              "      <td>1.0</td>\n",
              "      <td>['BREYER, STEPHEN', 'GINSBURG, RUTH', 'KENNEDY...</td>\n",
              "      <td>[]</td>\n",
              "      <td>1.0</td>\n",
              "      <td>23364.0</td>\n",
              "      <td>Justice O'Connor delivered the opinion of the ...</td>\n",
              "      <td>2005</td>\n",
              "      <td>10.058952</td>\n",
              "    </tr>\n",
              "    <tr>\n",
              "      <th>3</th>\n",
              "      <td>STATE OF ALASKA v. UNITED STATES OF AMERICA</td>\n",
              "      <td>majority</td>\n",
              "      <td>2005-06-06</td>\n",
              "      <td>KENNEDY</td>\n",
              "      <td>1.0</td>\n",
              "      <td>['BREYER, STEPHEN', 'GINSBURG, RUTH', 'KENNEDY...</td>\n",
              "      <td>['REHNQUIST, WILLIAM', 'SCALIA, ANTONIN', 'THO...</td>\n",
              "      <td>10.0</td>\n",
              "      <td>84.0</td>\n",
              "      <td>Justice Kennedy delivered the opinion of the C...</td>\n",
              "      <td>2005</td>\n",
              "      <td>4.430817</td>\n",
              "    </tr>\n",
              "    <tr>\n",
              "      <th>4</th>\n",
              "      <td>REGINALD A. WILKINSON, DIRECTOR, OHIO DEPARTME...</td>\n",
              "      <td>majority</td>\n",
              "      <td>2005-06-13</td>\n",
              "      <td>KENNEDY</td>\n",
              "      <td>1.0</td>\n",
              "      <td>['BREYER, STEPHEN', 'GINSBURG, RUTH', 'KENNEDY...</td>\n",
              "      <td>[]</td>\n",
              "      <td>4.0</td>\n",
              "      <td>4230.0</td>\n",
              "      <td>Justice Kennedy delivered the opinion of the C...</td>\n",
              "      <td>2005</td>\n",
              "      <td>8.349957</td>\n",
              "    </tr>\n",
              "  </tbody>\n",
              "</table>\n",
              "</div>\n",
              "      <button class=\"colab-df-convert\" onclick=\"convertToInteractive('df-2ba5101c-8e3e-4666-928b-e89d650df383')\"\n",
              "              title=\"Convert this dataframe to an interactive table.\"\n",
              "              style=\"display:none;\">\n",
              "        \n",
              "  <svg xmlns=\"http://www.w3.org/2000/svg\" height=\"24px\"viewBox=\"0 0 24 24\"\n",
              "       width=\"24px\">\n",
              "    <path d=\"M0 0h24v24H0V0z\" fill=\"none\"/>\n",
              "    <path d=\"M18.56 5.44l.94 2.06.94-2.06 2.06-.94-2.06-.94-.94-2.06-.94 2.06-2.06.94zm-11 1L8.5 8.5l.94-2.06 2.06-.94-2.06-.94L8.5 2.5l-.94 2.06-2.06.94zm10 10l.94 2.06.94-2.06 2.06-.94-2.06-.94-.94-2.06-.94 2.06-2.06.94z\"/><path d=\"M17.41 7.96l-1.37-1.37c-.4-.4-.92-.59-1.43-.59-.52 0-1.04.2-1.43.59L10.3 9.45l-7.72 7.72c-.78.78-.78 2.05 0 2.83L4 21.41c.39.39.9.59 1.41.59.51 0 1.02-.2 1.41-.59l7.78-7.78 2.81-2.81c.8-.78.8-2.07 0-2.86zM5.41 20L4 18.59l7.72-7.72 1.47 1.35L5.41 20z\"/>\n",
              "  </svg>\n",
              "      </button>\n",
              "      \n",
              "  <style>\n",
              "    .colab-df-container {\n",
              "      display:flex;\n",
              "      flex-wrap:wrap;\n",
              "      gap: 12px;\n",
              "    }\n",
              "\n",
              "    .colab-df-convert {\n",
              "      background-color: #E8F0FE;\n",
              "      border: none;\n",
              "      border-radius: 50%;\n",
              "      cursor: pointer;\n",
              "      display: none;\n",
              "      fill: #1967D2;\n",
              "      height: 32px;\n",
              "      padding: 0 0 0 0;\n",
              "      width: 32px;\n",
              "    }\n",
              "\n",
              "    .colab-df-convert:hover {\n",
              "      background-color: #E2EBFA;\n",
              "      box-shadow: 0px 1px 2px rgba(60, 64, 67, 0.3), 0px 1px 3px 1px rgba(60, 64, 67, 0.15);\n",
              "      fill: #174EA6;\n",
              "    }\n",
              "\n",
              "    [theme=dark] .colab-df-convert {\n",
              "      background-color: #3B4455;\n",
              "      fill: #D2E3FC;\n",
              "    }\n",
              "\n",
              "    [theme=dark] .colab-df-convert:hover {\n",
              "      background-color: #434B5C;\n",
              "      box-shadow: 0px 1px 3px 1px rgba(0, 0, 0, 0.15);\n",
              "      filter: drop-shadow(0px 1px 2px rgba(0, 0, 0, 0.3));\n",
              "      fill: #FFFFFF;\n",
              "    }\n",
              "  </style>\n",
              "\n",
              "      <script>\n",
              "        const buttonEl =\n",
              "          document.querySelector('#df-2ba5101c-8e3e-4666-928b-e89d650df383 button.colab-df-convert');\n",
              "        buttonEl.style.display =\n",
              "          google.colab.kernel.accessAllowed ? 'block' : 'none';\n",
              "\n",
              "        async function convertToInteractive(key) {\n",
              "          const element = document.querySelector('#df-2ba5101c-8e3e-4666-928b-e89d650df383');\n",
              "          const dataTable =\n",
              "            await google.colab.kernel.invokeFunction('convertToInteractive',\n",
              "                                                     [key], {});\n",
              "          if (!dataTable) return;\n",
              "\n",
              "          const docLinkHtml = 'Like what you see? Visit the ' +\n",
              "            '<a target=\"_blank\" href=https://colab.research.google.com/notebooks/data_table.ipynb>data table notebook</a>'\n",
              "            + ' to learn more about interactive tables.';\n",
              "          element.innerHTML = '';\n",
              "          dataTable['output_type'] = 'display_data';\n",
              "          await google.colab.output.renderOutput(dataTable, element);\n",
              "          const docLink = document.createElement('div');\n",
              "          docLink.innerHTML = docLinkHtml;\n",
              "          element.appendChild(docLink);\n",
              "        }\n",
              "      </script>\n",
              "    </div>\n",
              "  </div>\n",
              "  "
            ]
          },
          "metadata": {},
          "execution_count": 3
        }
      ],
      "source": [
        "# set up\n",
        "import warnings; warnings.simplefilter('ignore')\n",
        "%matplotlib notebook\n",
        "import pandas as pd\n",
        "df = pd.read_pickle('sc_cases_cleaned.pkl',compression='gzip')\n",
        "df=df.reset_index(drop=True)\n",
        "df.head()"
      ]
    },
    {
      "cell_type": "code",
      "execution_count": 5,
      "metadata": {
        "scrolled": true,
        "colab": {
          "base_uri": "https://localhost:8080/",
          "height": 225
        },
        "id": "lfZAaFWJnT0c",
        "outputId": "39ed2e48-a84c-4488-80a6-7ce78f7981e2"
      },
      "outputs": [
        {
          "output_type": "execute_result",
          "data": {
            "text/plain": [
              "SCALIA       94\n",
              "GINSBURG     89\n",
              "THOMAS       87\n",
              "KENNEDY      86\n",
              "BREYER       85\n",
              "STEVENS      79\n",
              "SOUTER       77\n",
              "O'CONNOR     52\n",
              "REHNQUIST    49\n",
              "ROBERTS      38\n",
              "ALITO        32\n",
              "Name: authorship, dtype: int64"
            ]
          },
          "metadata": {},
          "execution_count": 5
        }
      ],
      "source": [
        "df = df.assign(authorship_id=(df['authorship']).astype('category').cat.codes)\n",
        "df['authorship'].value_counts() "
      ]
    },
    {
      "cell_type": "code",
      "execution_count": 37,
      "metadata": {
        "colab": {
          "base_uri": "https://localhost:8080/",
          "height": 316
        },
        "id": "QAl9gQbJnT0c",
        "outputId": "2b0f5774-2148-44d6-b6c7-feec257d839e"
      },
      "outputs": [
        {
          "output_type": "execute_result",
          "data": {
            "text/plain": [
              "array([[<AxesSubplot:title={'center':'year'}>,\n",
              "        <AxesSubplot:title={'center':'log_cite_count'}>]], dtype=object)"
            ]
          },
          "metadata": {},
          "execution_count": 37
        },
        {
          "output_type": "display_data",
          "data": {
            "text/plain": [
              "<Figure size 432x288 with 2 Axes>"
            ],
            "image/png": "[encoded data removed]"
          },
          "metadata": {
            "needs_background": "light"
          }
        }
      ],
      "source": [
        "import matplotlib.pyplot as plt\n",
        "%matplotlib inline\n",
        "df[['year','log_cite_count']].hist()"
      ]
    },
    {
      "cell_type": "code",
      "execution_count": 23,
      "metadata": {
        "colab": {
          "base_uri": "https://localhost:8080/"
        },
        "id": "RcxPM_vHnT0c",
        "outputId": "dd954715-ef57-4b76-b9e2-99571450198e"
      },
      "outputs": [
        {
          "output_type": "stream",
          "name": "stdout",
          "text": [
            "['act' 'congress' 'district' 'state']\n"
          ]
        },
        {
          "output_type": "execute_result",
          "data": {
            "text/plain": [
              "<768x4 sparse matrix of type '<class 'numpy.int64'>'\n",
              "\twith 2534 stored elements in Compressed Sparse Row format>"
            ]
          },
          "metadata": {},
          "execution_count": 23
        }
      ],
      "source": [
        "from sklearn.feature_extraction.text import CountVectorizer\n",
        "vectorizer = CountVectorizer(min_df=0.01, # at min 1% of docs\n",
        "                        max_df=.9,  \n",
        "                        max_features=4,\n",
        "                        stop_words='english',\n",
        "                        ngram_range=(1,3))\n",
        "X = vectorizer.fit_transform(df['opinion_text'])\n",
        "words = vectorizer.get_feature_names_out()\n",
        "print(words)\n",
        "X"
      ]
    },
    {
      "cell_type": "code",
      "execution_count": 32,
      "metadata": {
        "colab": {
          "base_uri": "https://localhost:8080/",
          "height": 1000
        },
        "id": "LW189T-SnT0c",
        "outputId": "fa5bbe03-97fd-426e-bbbb-3257dc6e73cf"
      },
      "outputs": [
        {
          "output_type": "execute_result",
          "data": {
            "text/plain": [
              "                                             case_name opinion_type  \\\n",
              "0                  ERICK CORNELL CLAY v. UNITED STATES     majority   \n",
              "1    HILLSIDE DAIRY INC., A&A DAIRY, L&S DAIRY, AND...     majority   \n",
              "2      CHARLES RUSSELL RHINES v. DOUGLAS WEBER, WARDEN     majority   \n",
              "3          STATE OF ALASKA v. UNITED STATES OF AMERICA     majority   \n",
              "4    REGINALD A. WILKINSON, DIRECTOR, OHIO DEPARTME...     majority   \n",
              "..                                                 ...          ...   \n",
              "763  MICHAEL F. EASLEY, * GOVERNOR OF NORTH CAROLIN...     majority   \n",
              "764  GAIL ATWATER, et al. v. CITY OF LAGO VISTA et al.     majority   \n",
              "765  JAMES ALEXANDER, DIRECTOR, ALABAMA DEPARTMENT ...     majority   \n",
              "766  UNITED STATES v. OAKLAND CANNABIS BUYERS' COOP...     majority   \n",
              "767                     WILBERT K. ROGERS v. TENNESSEE     majority   \n",
              "\n",
              "    date_standard authorship  x_republican  \\\n",
              "0      2003-03-04   GINSBURG           0.0   \n",
              "1      2003-06-09    STEVENS           1.0   \n",
              "2      2005-03-30   O'CONNOR           1.0   \n",
              "3      2005-06-06    KENNEDY           1.0   \n",
              "4      2005-06-13    KENNEDY           1.0   \n",
              "..            ...        ...           ...   \n",
              "763    2001-04-18     BREYER           0.0   \n",
              "764    2001-04-24     SOUTER           1.0   \n",
              "765    2001-04-24     SCALIA           1.0   \n",
              "766    2001-05-14     THOMAS           1.0   \n",
              "767    2001-05-14   O'CONNOR           1.0   \n",
              "\n",
              "                                            maj_judges  \\\n",
              "0    ['BREYER, STEPHEN', 'GINSBURG, RUTH', 'KENNEDY...   \n",
              "1    ['BREYER, STEPHEN', 'GINSBURG, RUTH', 'KENNEDY...   \n",
              "2    ['BREYER, STEPHEN', 'GINSBURG, RUTH', 'KENNEDY...   \n",
              "3    ['BREYER, STEPHEN', 'GINSBURG, RUTH', 'KENNEDY...   \n",
              "4    ['BREYER, STEPHEN', 'GINSBURG, RUTH', 'KENNEDY...   \n",
              "..                                                 ...   \n",
              "763  ['BREYER, STEPHEN', 'GINSBURG, RUTH', \"O'CONNO...   \n",
              "764  ['KENNEDY, ANTHONY', 'REHNQUIST, WILLIAM', 'SC...   \n",
              "765  ['KENNEDY, ANTHONY', \"O'CONNOR, SANDRA\", 'REHN...   \n",
              "766  ['BREYER, STEPHEN', 'GINSBURG, RUTH', 'KENNEDY...   \n",
              "767  ['GINSBURG, RUTH', 'KENNEDY, ANTHONY', \"O'CONN...   \n",
              "\n",
              "                                        dissent_judges  topic_id  cite_count  \\\n",
              "0                                                   []       1.0      2926.0   \n",
              "1                                 ['THOMAS, CLARENCE']       8.0       117.0   \n",
              "2                                                   []       1.0     23364.0   \n",
              "3    ['REHNQUIST, WILLIAM', 'SCALIA, ANTONIN', 'THO...      10.0        84.0   \n",
              "4                                                   []       4.0      4230.0   \n",
              "..                                                 ...       ...         ...   \n",
              "763  ['KENNEDY, ANTHONY', 'REHNQUIST, WILLIAM', 'SC...       2.0      1236.0   \n",
              "764  ['BREYER, STEPHEN', 'GINSBURG, RUTH', \"O'CONNO...       1.0      3120.0   \n",
              "765  ['BREYER, STEPHEN', 'GINSBURG, RUTH', 'SOUTER,...       9.0      4986.0   \n",
              "766                                                 []       1.0       736.0   \n",
              "767  ['BREYER, STEPHEN', 'SCALIA, ANTONIN', 'STEVEN...       4.0      2100.0   \n",
              "\n",
              "                                          opinion_text  year  log_cite_count  \\\n",
              "0    JUSTICE GINSBURG delivered the opinion of the ...  2003        7.981392   \n",
              "1    Justice Stevens delivered the opinion of the C...  2003        4.762174   \n",
              "2    Justice O'Connor delivered the opinion of the ...  2005       10.058952   \n",
              "3    Justice Kennedy delivered the opinion of the C...  2005        4.430817   \n",
              "4    Justice Kennedy delivered the opinion of the C...  2005        8.349957   \n",
              "..                                                 ...   ...             ...   \n",
              "763  JUSTICE BREYER delivered the opinion of the Co...  2001        7.119636   \n",
              "764  JUSTICE SOUTER delivered the opinion of the Co...  2001        8.045588   \n",
              "765  JUSTICE SCALIA delivered the opinion of the Co...  2001        8.514389   \n",
              "766  JUSTICE THOMAS delivered the opinion of the Co...  2001        6.601230   \n",
              "767  JUSTICE O'CONNOR delivered the opinion of the ...  2001        7.649693   \n",
              "\n",
              "     authorship_id     x_act  x_congress  x_district   x_state  \n",
              "0                2  0.193548    0.225806    0.161290  0.419355  \n",
              "1                9  0.261905    0.095238    0.047619  0.595238  \n",
              "2                4  0.012821    0.025641    0.461538  0.500000  \n",
              "3                3  0.322581    0.129032    0.000000  0.548387  \n",
              "4                3  0.019231    0.000000    0.596154  0.384615  \n",
              "..             ...       ...         ...         ...       ...  \n",
              "763              1  0.000000    0.000000    0.928994  0.071006  \n",
              "764              8  0.292308    0.046154    0.092308  0.569231  \n",
              "765              7  0.279070    0.465116    0.093023  0.162791  \n",
              "766             10  0.312500    0.260417    0.427083  0.000000  \n",
              "767              4  0.324324    0.000000    0.000000  0.675676  \n",
              "\n",
              "[768 rows x 17 columns]"
            ],
            "text/html": [
              "\n",
              "  <div id=\"df-89d4a83f-e529-4f57-b202-aa39e0694d56\">\n",
              "    <div class=\"colab-df-container\">\n",
              "      <div>\n",
              "<style scoped>\n",
              "    .dataframe tbody tr th:only-of-type {\n",
              "        vertical-align: middle;\n",
              "    }\n",
              "\n",
              "    .dataframe tbody tr th {\n",
              "        vertical-align: top;\n",
              "    }\n",
              "\n",
              "    .dataframe thead th {\n",
              "        text-align: right;\n",
              "    }\n",
              "</style>\n",
              "<table border=\"1\" class=\"dataframe\">\n",
              "  <thead>\n",
              "    <tr style=\"text-align: right;\">\n",
              "      <th></th>\n",
              "      <th>case_name</th>\n",
              "      <th>opinion_type</th>\n",
              "      <th>date_standard</th>\n",
              "      <th>authorship</th>\n",
              "      <th>x_republican</th>\n",
              "      <th>maj_judges</th>\n",
              "      <th>dissent_judges</th>\n",
              "      <th>topic_id</th>\n",
              "      <th>cite_count</th>\n",
              "      <th>opinion_text</th>\n",
              "      <th>year</th>\n",
              "      <th>log_cite_count</th>\n",
              "      <th>authorship_id</th>\n",
              "      <th>x_act</th>\n",
              "      <th>x_congress</th>\n",
              "      <th>x_district</th>\n",
              "      <th>x_state</th>\n",
              "    </tr>\n",
              "  </thead>\n",
              "  <tbody>\n",
              "    <tr>\n",
              "      <th>0</th>\n",
              "      <td>ERICK CORNELL CLAY v. UNITED STATES</td>\n",
              "      <td>majority</td>\n",
              "      <td>2003-03-04</td>\n",
              "      <td>GINSBURG</td>\n",
              "      <td>0.0</td>\n",
              "      <td>['BREYER, STEPHEN', 'GINSBURG, RUTH', 'KENNEDY...</td>\n",
              "      <td>[]</td>\n",
              "      <td>1.0</td>\n",
              "      <td>2926.0</td>\n",
              "      <td>JUSTICE GINSBURG delivered the opinion of the ...</td>\n",
              "      <td>2003</td>\n",
              "      <td>7.981392</td>\n",
              "      <td>2</td>\n",
              "      <td>0.193548</td>\n",
              "      <td>0.225806</td>\n",
              "      <td>0.161290</td>\n",
              "      <td>0.419355</td>\n",
              "    </tr>\n",
              "    <tr>\n",
              "      <th>1</th>\n",
              "      <td>HILLSIDE DAIRY INC., A&amp;A DAIRY, L&amp;S DAIRY, AND...</td>\n",
              "      <td>majority</td>\n",
              "      <td>2003-06-09</td>\n",
              "      <td>STEVENS</td>\n",
              "      <td>1.0</td>\n",
              "      <td>['BREYER, STEPHEN', 'GINSBURG, RUTH', 'KENNEDY...</td>\n",
              "      <td>['THOMAS, CLARENCE']</td>\n",
              "      <td>8.0</td>\n",
              "      <td>117.0</td>\n",
              "      <td>Justice Stevens delivered the opinion of the C...</td>\n",
              "      <td>2003</td>\n",
              "      <td>4.762174</td>\n",
              "      <td>9</td>\n",
              "      <td>0.261905</td>\n",
              "      <td>0.095238</td>\n",
              "      <td>0.047619</td>\n",
              "      <td>0.595238</td>\n",
              "    </tr>\n",
              "    <tr>\n",
              "      <th>2</th>\n",
              "      <td>CHARLES RUSSELL RHINES v. DOUGLAS WEBER, WARDEN</td>\n",
              "      <td>majority</td>\n",
              "      <td>2005-03-30</td>\n",
              "      <td>O'CONNOR</td>\n",
              "      <td>1.0</td>\n",
              "      <td>['BREYER, STEPHEN', 'GINSBURG, RUTH', 'KENNEDY...</td>\n",
              "      <td>[]</td>\n",
              "      <td>1.0</td>\n",
              "      <td>23364.0</td>\n",
              "      <td>Justice O'Connor delivered the opinion of the ...</td>\n",
              "      <td>2005</td>\n",
              "      <td>10.058952</td>\n",
              "      <td>4</td>\n",
              "      <td>0.012821</td>\n",
              "      <td>0.025641</td>\n",
              "      <td>0.461538</td>\n",
              "      <td>0.500000</td>\n",
              "    </tr>\n",
              "    <tr>\n",
              "      <th>3</th>\n",
              "      <td>STATE OF ALASKA v. UNITED STATES OF AMERICA</td>\n",
              "      <td>majority</td>\n",
              "      <td>2005-06-06</td>\n",
              "      <td>KENNEDY</td>\n",
              "      <td>1.0</td>\n",
              "      <td>['BREYER, STEPHEN', 'GINSBURG, RUTH', 'KENNEDY...</td>\n",
              "      <td>['REHNQUIST, WILLIAM', 'SCALIA, ANTONIN', 'THO...</td>\n",
              "      <td>10.0</td>\n",
              "      <td>84.0</td>\n",
              "      <td>Justice Kennedy delivered the opinion of the C...</td>\n",
              "      <td>2005</td>\n",
              "      <td>4.430817</td>\n",
              "      <td>3</td>\n",
              "      <td>0.322581</td>\n",
              "      <td>0.129032</td>\n",
              "      <td>0.000000</td>\n",
              "      <td>0.548387</td>\n",
              "    </tr>\n",
              "    <tr>\n",
              "      <th>4</th>\n",
              "      <td>REGINALD A. WILKINSON, DIRECTOR, OHIO DEPARTME...</td>\n",
              "      <td>majority</td>\n",
              "      <td>2005-06-13</td>\n",
              "      <td>KENNEDY</td>\n",
              "      <td>1.0</td>\n",
              "      <td>['BREYER, STEPHEN', 'GINSBURG, RUTH', 'KENNEDY...</td>\n",
              "      <td>[]</td>\n",
              "      <td>4.0</td>\n",
              "      <td>4230.0</td>\n",
              "      <td>Justice Kennedy delivered the opinion of the C...</td>\n",
              "      <td>2005</td>\n",
              "      <td>8.349957</td>\n",
              "      <td>3</td>\n",
              "      <td>0.019231</td>\n",
              "      <td>0.000000</td>\n",
              "      <td>0.596154</td>\n",
              "      <td>0.384615</td>\n",
              "    </tr>\n",
              "    <tr>\n",
              "      <th>...</th>\n",
              "      <td>...</td>\n",
              "      <td>...</td>\n",
              "      <td>...</td>\n",
              "      <td>...</td>\n",
              "      <td>...</td>\n",
              "      <td>...</td>\n",
              "      <td>...</td>\n",
              "      <td>...</td>\n",
              "      <td>...</td>\n",
              "      <td>...</td>\n",
              "      <td>...</td>\n",
              "      <td>...</td>\n",
              "      <td>...</td>\n",
              "      <td>...</td>\n",
              "      <td>...</td>\n",
              "      <td>...</td>\n",
              "      <td>...</td>\n",
              "    </tr>\n",
              "    <tr>\n",
              "      <th>763</th>\n",
              "      <td>MICHAEL F. EASLEY, * GOVERNOR OF NORTH CAROLIN...</td>\n",
              "      <td>majority</td>\n",
              "      <td>2001-04-18</td>\n",
              "      <td>BREYER</td>\n",
              "      <td>0.0</td>\n",
              "      <td>['BREYER, STEPHEN', 'GINSBURG, RUTH', \"O'CONNO...</td>\n",
              "      <td>['KENNEDY, ANTHONY', 'REHNQUIST, WILLIAM', 'SC...</td>\n",
              "      <td>2.0</td>\n",
              "      <td>1236.0</td>\n",
              "      <td>JUSTICE BREYER delivered the opinion of the Co...</td>\n",
              "      <td>2001</td>\n",
              "      <td>7.119636</td>\n",
              "      <td>1</td>\n",
              "      <td>0.000000</td>\n",
              "      <td>0.000000</td>\n",
              "      <td>0.928994</td>\n",
              "      <td>0.071006</td>\n",
              "    </tr>\n",
              "    <tr>\n",
              "      <th>764</th>\n",
              "      <td>GAIL ATWATER, et al. v. CITY OF LAGO VISTA et al.</td>\n",
              "      <td>majority</td>\n",
              "      <td>2001-04-24</td>\n",
              "      <td>SOUTER</td>\n",
              "      <td>1.0</td>\n",
              "      <td>['KENNEDY, ANTHONY', 'REHNQUIST, WILLIAM', 'SC...</td>\n",
              "      <td>['BREYER, STEPHEN', 'GINSBURG, RUTH', \"O'CONNO...</td>\n",
              "      <td>1.0</td>\n",
              "      <td>3120.0</td>\n",
              "      <td>JUSTICE SOUTER delivered the opinion of the Co...</td>\n",
              "      <td>2001</td>\n",
              "      <td>8.045588</td>\n",
              "      <td>8</td>\n",
              "      <td>0.292308</td>\n",
              "      <td>0.046154</td>\n",
              "      <td>0.092308</td>\n",
              "      <td>0.569231</td>\n",
              "    </tr>\n",
              "    <tr>\n",
              "      <th>765</th>\n",
              "      <td>JAMES ALEXANDER, DIRECTOR, ALABAMA DEPARTMENT ...</td>\n",
              "      <td>majority</td>\n",
              "      <td>2001-04-24</td>\n",
              "      <td>SCALIA</td>\n",
              "      <td>1.0</td>\n",
              "      <td>['KENNEDY, ANTHONY', \"O'CONNOR, SANDRA\", 'REHN...</td>\n",
              "      <td>['BREYER, STEPHEN', 'GINSBURG, RUTH', 'SOUTER,...</td>\n",
              "      <td>9.0</td>\n",
              "      <td>4986.0</td>\n",
              "      <td>JUSTICE SCALIA delivered the opinion of the Co...</td>\n",
              "      <td>2001</td>\n",
              "      <td>8.514389</td>\n",
              "      <td>7</td>\n",
              "      <td>0.279070</td>\n",
              "      <td>0.465116</td>\n",
              "      <td>0.093023</td>\n",
              "      <td>0.162791</td>\n",
              "    </tr>\n",
              "    <tr>\n",
              "      <th>766</th>\n",
              "      <td>UNITED STATES v. OAKLAND CANNABIS BUYERS' COOP...</td>\n",
              "      <td>majority</td>\n",
              "      <td>2001-05-14</td>\n",
              "      <td>THOMAS</td>\n",
              "      <td>1.0</td>\n",
              "      <td>['BREYER, STEPHEN', 'GINSBURG, RUTH', 'KENNEDY...</td>\n",
              "      <td>[]</td>\n",
              "      <td>1.0</td>\n",
              "      <td>736.0</td>\n",
              "      <td>JUSTICE THOMAS delivered the opinion of the Co...</td>\n",
              "      <td>2001</td>\n",
              "      <td>6.601230</td>\n",
              "      <td>10</td>\n",
              "      <td>0.312500</td>\n",
              "      <td>0.260417</td>\n",
              "      <td>0.427083</td>\n",
              "      <td>0.000000</td>\n",
              "    </tr>\n",
              "    <tr>\n",
              "      <th>767</th>\n",
              "      <td>WILBERT K. ROGERS v. TENNESSEE</td>\n",
              "      <td>majority</td>\n",
              "      <td>2001-05-14</td>\n",
              "      <td>O'CONNOR</td>\n",
              "      <td>1.0</td>\n",
              "      <td>['GINSBURG, RUTH', 'KENNEDY, ANTHONY', \"O'CONN...</td>\n",
              "      <td>['BREYER, STEPHEN', 'SCALIA, ANTONIN', 'STEVEN...</td>\n",
              "      <td>4.0</td>\n",
              "      <td>2100.0</td>\n",
              "      <td>JUSTICE O'CONNOR delivered the opinion of the ...</td>\n",
              "      <td>2001</td>\n",
              "      <td>7.649693</td>\n",
              "      <td>4</td>\n",
              "      <td>0.324324</td>\n",
              "      <td>0.000000</td>\n",
              "      <td>0.000000</td>\n",
              "      <td>0.675676</td>\n",
              "    </tr>\n",
              "  </tbody>\n",
              "</table>\n",
              "<p>768 rows × 17 columns</p>\n",
              "</div>\n",
              "      <button class=\"colab-df-convert\" onclick=\"convertToInteractive('df-89d4a83f-e529-4f57-b202-aa39e0694d56')\"\n",
              "              title=\"Convert this dataframe to an interactive table.\"\n",
              "              style=\"display:none;\">\n",
              "        \n",
              "  <svg xmlns=\"http://www.w3.org/2000/svg\" height=\"24px\"viewBox=\"0 0 24 24\"\n",
              "       width=\"24px\">\n",
              "    <path d=\"M0 0h24v24H0V0z\" fill=\"none\"/>\n",
              "    <path d=\"M18.56 5.44l.94 2.06.94-2.06 2.06-.94-2.06-.94-.94-2.06-.94 2.06-2.06.94zm-11 1L8.5 8.5l.94-2.06 2.06-.94-2.06-.94L8.5 2.5l-.94 2.06-2.06.94zm10 10l.94 2.06.94-2.06 2.06-.94-2.06-.94-.94-2.06-.94 2.06-2.06.94z\"/><path d=\"M17.41 7.96l-1.37-1.37c-.4-.4-.92-.59-1.43-.59-.52 0-1.04.2-1.43.59L10.3 9.45l-7.72 7.72c-.78.78-.78 2.05 0 2.83L4 21.41c.39.39.9.59 1.41.59.51 0 1.02-.2 1.41-.59l7.78-7.78 2.81-2.81c.8-.78.8-2.07 0-2.86zM5.41 20L4 18.59l7.72-7.72 1.47 1.35L5.41 20z\"/>\n",
              "  </svg>\n",
              "      </button>\n",
              "      \n",
              "  <style>\n",
              "    .colab-df-container {\n",
              "      display:flex;\n",
              "      flex-wrap:wrap;\n",
              "      gap: 12px;\n",
              "    }\n",
              "\n",
              "    .colab-df-convert {\n",
              "      background-color: #E8F0FE;\n",
              "      border: none;\n",
              "      border-radius: 50%;\n",
              "      cursor: pointer;\n",
              "      display: none;\n",
              "      fill: #1967D2;\n",
              "      height: 32px;\n",
              "      padding: 0 0 0 0;\n",
              "      width: 32px;\n",
              "    }\n",
              "\n",
              "    .colab-df-convert:hover {\n",
              "      background-color: #E2EBFA;\n",
              "      box-shadow: 0px 1px 2px rgba(60, 64, 67, 0.3), 0px 1px 3px 1px rgba(60, 64, 67, 0.15);\n",
              "      fill: #174EA6;\n",
              "    }\n",
              "\n",
              "    [theme=dark] .colab-df-convert {\n",
              "      background-color: #3B4455;\n",
              "      fill: #D2E3FC;\n",
              "    }\n",
              "\n",
              "    [theme=dark] .colab-df-convert:hover {\n",
              "      background-color: #434B5C;\n",
              "      box-shadow: 0px 1px 3px 1px rgba(0, 0, 0, 0.15);\n",
              "      filter: drop-shadow(0px 1px 2px rgba(0, 0, 0, 0.3));\n",
              "      fill: #FFFFFF;\n",
              "    }\n",
              "  </style>\n",
              "\n",
              "      <script>\n",
              "        const buttonEl =\n",
              "          document.querySelector('#df-89d4a83f-e529-4f57-b202-aa39e0694d56 button.colab-df-convert');\n",
              "        buttonEl.style.display =\n",
              "          google.colab.kernel.accessAllowed ? 'block' : 'none';\n",
              "\n",
              "        async function convertToInteractive(key) {\n",
              "          const element = document.querySelector('#df-89d4a83f-e529-4f57-b202-aa39e0694d56');\n",
              "          const dataTable =\n",
              "            await google.colab.kernel.invokeFunction('convertToInteractive',\n",
              "                                                     [key], {});\n",
              "          if (!dataTable) return;\n",
              "\n",
              "          const docLinkHtml = 'Like what you see? Visit the ' +\n",
              "            '<a target=\"_blank\" href=https://colab.research.google.com/notebooks/data_table.ipynb>data table notebook</a>'\n",
              "            + ' to learn more about interactive tables.';\n",
              "          element.innerHTML = '';\n",
              "          dataTable['output_type'] = 'display_data';\n",
              "          await google.colab.output.renderOutput(dataTable, element);\n",
              "          const docLink = document.createElement('div');\n",
              "          docLink.innerHTML = docLinkHtml;\n",
              "          element.appendChild(docLink);\n",
              "        }\n",
              "      </script>\n",
              "    </div>\n",
              "  </div>\n",
              "  "
            ]
          },
          "metadata": {},
          "execution_count": 32
        }
      ],
      "source": [
        "# X = X.todense()\n",
        "X = X / X.sum(axis=1) # counts to frequencies\n",
        "for i, word in enumerate(words):\n",
        "    column = X[:,i]\n",
        "    df['x_'+word] = column\n",
        "df"
      ]
    },
    {
      "cell_type": "code",
      "execution_count": 33,
      "metadata": {
        "colab": {
          "base_uri": "https://localhost:8080/"
        },
        "id": "GD2fRTtFnT0d",
        "outputId": "e3434395-6a4c-4114-eb46-9a4f7c39b5e8"
      },
      "outputs": [
        {
          "output_type": "execute_result",
          "data": {
            "text/plain": [
              "log_cite_count    1.000000\n",
              "x_state           0.153254\n",
              "x_district        0.111862\n",
              "x_congress       -0.137626\n",
              "x_act            -0.237354\n",
              "Name: log_cite_count, dtype: float64"
            ]
          },
          "metadata": {},
          "execution_count": 33
        }
      ],
      "source": [
        "# inspecting data\n",
        "import numpy as np\n",
        "features = ['x_'+x for x in words]\n",
        "cites_features = ['log_cite_count'] + features\n",
        "df2 = df[cites_features]\n",
        "corr_matrix = df2.corr()\n",
        "corr_matrix['log_cite_count'].sort_values(ascending=False)"
      ]
    },
    {
      "cell_type": "code",
      "execution_count": 40,
      "metadata": {
        "colab": {
          "base_uri": "https://localhost:8080/",
          "height": 728
        },
        "id": "7YomXp92nT0d",
        "outputId": "294105b9-f8db-4cf3-be54-2e4712925b04"
      },
      "outputs": [
        {
          "output_type": "execute_result",
          "data": {
            "text/plain": [
              "array([[<AxesSubplot:xlabel='log_cite_count', ylabel='log_cite_count'>,\n",
              "        <AxesSubplot:xlabel='x_act', ylabel='log_cite_count'>,\n",
              "        <AxesSubplot:xlabel='x_congress', ylabel='log_cite_count'>,\n",
              "        <AxesSubplot:xlabel='x_district', ylabel='log_cite_count'>,\n",
              "        <AxesSubplot:xlabel='x_state', ylabel='log_cite_count'>],\n",
              "       [<AxesSubplot:xlabel='log_cite_count', ylabel='x_act'>,\n",
              "        <AxesSubplot:xlabel='x_act', ylabel='x_act'>,\n",
              "        <AxesSubplot:xlabel='x_congress', ylabel='x_act'>,\n",
              "        <AxesSubplot:xlabel='x_district', ylabel='x_act'>,\n",
              "        <AxesSubplot:xlabel='x_state', ylabel='x_act'>],\n",
              "       [<AxesSubplot:xlabel='log_cite_count', ylabel='x_congress'>,\n",
              "        <AxesSubplot:xlabel='x_act', ylabel='x_congress'>,\n",
              "        <AxesSubplot:xlabel='x_congress', ylabel='x_congress'>,\n",
              "        <AxesSubplot:xlabel='x_district', ylabel='x_congress'>,\n",
              "        <AxesSubplot:xlabel='x_state', ylabel='x_congress'>],\n",
              "       [<AxesSubplot:xlabel='log_cite_count', ylabel='x_district'>,\n",
              "        <AxesSubplot:xlabel='x_act', ylabel='x_district'>,\n",
              "        <AxesSubplot:xlabel='x_congress', ylabel='x_district'>,\n",
              "        <AxesSubplot:xlabel='x_district', ylabel='x_district'>,\n",
              "        <AxesSubplot:xlabel='x_state', ylabel='x_district'>],\n",
              "       [<AxesSubplot:xlabel='log_cite_count', ylabel='x_state'>,\n",
              "        <AxesSubplot:xlabel='x_act', ylabel='x_state'>,\n",
              "        <AxesSubplot:xlabel='x_congress', ylabel='x_state'>,\n",
              "        <AxesSubplot:xlabel='x_district', ylabel='x_state'>,\n",
              "        <AxesSubplot:xlabel='x_state', ylabel='x_state'>]], dtype=object)"
            ]
          },
          "metadata": {},
          "execution_count": 40
        },
        {
          "output_type": "display_data",
          "data": {
            "text/plain": [
              "<Figure size 432x288 with 25 Axes>"
            ],
            "image/png": "[encoded data removed]"
          },
          "metadata": {
            "needs_background": "light"
          }
        }
      ],
      "source": [
        "from pandas.plotting import scatter_matrix\n",
        "scatter_matrix(df2)"
      ]
    },
    {
      "cell_type": "code",
      "execution_count": 41,
      "metadata": {
        "colab": {
          "base_uri": "https://localhost:8080/",
          "height": 297
        },
        "id": "JvnH02scnT0d",
        "outputId": "24faadb5-ceff-49b6-e1ad-1a583f2f28d6"
      },
      "outputs": [
        {
          "output_type": "execute_result",
          "data": {
            "text/plain": [
              "<AxesSubplot:xlabel='x_act', ylabel='log_cite_count'>"
            ]
          },
          "metadata": {},
          "execution_count": 41
        },
        {
          "output_type": "display_data",
          "data": {
            "text/plain": [
              "<Figure size 432x288 with 1 Axes>"
            ],
            "image/png": "[encoded data removed]"
          },
          "metadata": {
            "needs_background": "light"
          }
        }
      ],
      "source": [
        "df2.plot(kind='scatter', x='x_act', y='log_cite_count')"
      ]
    },
    {
      "cell_type": "markdown",
      "metadata": {
        "id": "7kkT6__KnT0d"
      },
      "source": [
        "# Regression"
      ]
    },
    {
      "cell_type": "code",
      "execution_count": 42,
      "metadata": {
        "id": "Lv8skDLcnT0d"
      },
      "outputs": [],
      "source": [
        "# create a test set \n",
        "from sklearn.model_selection import train_test_split\n",
        "train, test = train_test_split(df2, test_size=0.2)"
      ]
    },
    {
      "cell_type": "code",
      "execution_count": 43,
      "metadata": {
        "colab": {
          "base_uri": "https://localhost:8080/",
          "height": 206
        },
        "id": "6XIVUtbWnT0d",
        "outputId": "eca13c6e-0128-4c34-b06c-fec7edee2b94"
      },
      "outputs": [
        {
          "output_type": "execute_result",
          "data": {
            "text/plain": [
              "        x_act  x_congress  x_district   x_state\n",
              "596  0.173913    0.369565    0.152174  0.304348\n",
              "90   0.022388    0.000000    0.149254  0.828358\n",
              "734  0.774194    0.096774    0.096774  0.032258\n",
              "694  0.282051    0.256410    0.128205  0.333333\n",
              "517  0.016949    0.000000    0.000000  0.983051"
            ],
            "text/html": [
              "\n",
              "  <div id=\"df-d9c1a302-397c-47ef-ae1b-191c0c9445fd\">\n",
              "    <div class=\"colab-df-container\">\n",
              "      <div>\n",
              "<style scoped>\n",
              "    .dataframe tbody tr th:only-of-type {\n",
              "        vertical-align: middle;\n",
              "    }\n",
              "\n",
              "    .dataframe tbody tr th {\n",
              "        vertical-align: top;\n",
              "    }\n",
              "\n",
              "    .dataframe thead th {\n",
              "        text-align: right;\n",
              "    }\n",
              "</style>\n",
              "<table border=\"1\" class=\"dataframe\">\n",
              "  <thead>\n",
              "    <tr style=\"text-align: right;\">\n",
              "      <th></th>\n",
              "      <th>x_act</th>\n",
              "      <th>x_congress</th>\n",
              "      <th>x_district</th>\n",
              "      <th>x_state</th>\n",
              "    </tr>\n",
              "  </thead>\n",
              "  <tbody>\n",
              "    <tr>\n",
              "      <th>596</th>\n",
              "      <td>0.173913</td>\n",
              "      <td>0.369565</td>\n",
              "      <td>0.152174</td>\n",
              "      <td>0.304348</td>\n",
              "    </tr>\n",
              "    <tr>\n",
              "      <th>90</th>\n",
              "      <td>0.022388</td>\n",
              "      <td>0.000000</td>\n",
              "      <td>0.149254</td>\n",
              "      <td>0.828358</td>\n",
              "    </tr>\n",
              "    <tr>\n",
              "      <th>734</th>\n",
              "      <td>0.774194</td>\n",
              "      <td>0.096774</td>\n",
              "      <td>0.096774</td>\n",
              "      <td>0.032258</td>\n",
              "    </tr>\n",
              "    <tr>\n",
              "      <th>694</th>\n",
              "      <td>0.282051</td>\n",
              "      <td>0.256410</td>\n",
              "      <td>0.128205</td>\n",
              "      <td>0.333333</td>\n",
              "    </tr>\n",
              "    <tr>\n",
              "      <th>517</th>\n",
              "      <td>0.016949</td>\n",
              "      <td>0.000000</td>\n",
              "      <td>0.000000</td>\n",
              "      <td>0.983051</td>\n",
              "    </tr>\n",
              "  </tbody>\n",
              "</table>\n",
              "</div>\n",
              "      <button class=\"colab-df-convert\" onclick=\"convertToInteractive('df-d9c1a302-397c-47ef-ae1b-191c0c9445fd')\"\n",
              "              title=\"Convert this dataframe to an interactive table.\"\n",
              "              style=\"display:none;\">\n",
              "        \n",
              "  <svg xmlns=\"http://www.w3.org/2000/svg\" height=\"24px\"viewBox=\"0 0 24 24\"\n",
              "       width=\"24px\">\n",
              "    <path d=\"M0 0h24v24H0V0z\" fill=\"none\"/>\n",
              "    <path d=\"M18.56 5.44l.94 2.06.94-2.06 2.06-.94-2.06-.94-.94-2.06-.94 2.06-2.06.94zm-11 1L8.5 8.5l.94-2.06 2.06-.94-2.06-.94L8.5 2.5l-.94 2.06-2.06.94zm10 10l.94 2.06.94-2.06 2.06-.94-2.06-.94-.94-2.06-.94 2.06-2.06.94z\"/><path d=\"M17.41 7.96l-1.37-1.37c-.4-.4-.92-.59-1.43-.59-.52 0-1.04.2-1.43.59L10.3 9.45l-7.72 7.72c-.78.78-.78 2.05 0 2.83L4 21.41c.39.39.9.59 1.41.59.51 0 1.02-.2 1.41-.59l7.78-7.78 2.81-2.81c.8-.78.8-2.07 0-2.86zM5.41 20L4 18.59l7.72-7.72 1.47 1.35L5.41 20z\"/>\n",
              "  </svg>\n",
              "      </button>\n",
              "      \n",
              "  <style>\n",
              "    .colab-df-container {\n",
              "      display:flex;\n",
              "      flex-wrap:wrap;\n",
              "      gap: 12px;\n",
              "    }\n",
              "\n",
              "    .colab-df-convert {\n",
              "      background-color: #E8F0FE;\n",
              "      border: none;\n",
              "      border-radius: 50%;\n",
              "      cursor: pointer;\n",
              "      display: none;\n",
              "      fill: #1967D2;\n",
              "      height: 32px;\n",
              "      padding: 0 0 0 0;\n",
              "      width: 32px;\n",
              "    }\n",
              "\n",
              "    .colab-df-convert:hover {\n",
              "      background-color: #E2EBFA;\n",
              "      box-shadow: 0px 1px 2px rgba(60, 64, 67, 0.3), 0px 1px 3px 1px rgba(60, 64, 67, 0.15);\n",
              "      fill: #174EA6;\n",
              "    }\n",
              "\n",
              "    [theme=dark] .colab-df-convert {\n",
              "      background-color: #3B4455;\n",
              "      fill: #D2E3FC;\n",
              "    }\n",
              "\n",
              "    [theme=dark] .colab-df-convert:hover {\n",
              "      background-color: #434B5C;\n",
              "      box-shadow: 0px 1px 3px 1px rgba(0, 0, 0, 0.15);\n",
              "      filter: drop-shadow(0px 1px 2px rgba(0, 0, 0, 0.3));\n",
              "      fill: #FFFFFF;\n",
              "    }\n",
              "  </style>\n",
              "\n",
              "      <script>\n",
              "        const buttonEl =\n",
              "          document.querySelector('#df-d9c1a302-397c-47ef-ae1b-191c0c9445fd button.colab-df-convert');\n",
              "        buttonEl.style.display =\n",
              "          google.colab.kernel.accessAllowed ? 'block' : 'none';\n",
              "\n",
              "        async function convertToInteractive(key) {\n",
              "          const element = document.querySelector('#df-d9c1a302-397c-47ef-ae1b-191c0c9445fd');\n",
              "          const dataTable =\n",
              "            await google.colab.kernel.invokeFunction('convertToInteractive',\n",
              "                                                     [key], {});\n",
              "          if (!dataTable) return;\n",
              "\n",
              "          const docLinkHtml = 'Like what you see? Visit the ' +\n",
              "            '<a target=\"_blank\" href=https://colab.research.google.com/notebooks/data_table.ipynb>data table notebook</a>'\n",
              "            + ' to learn more about interactive tables.';\n",
              "          element.innerHTML = '';\n",
              "          dataTable['output_type'] = 'display_data';\n",
              "          await google.colab.output.renderOutput(dataTable, element);\n",
              "          const docLink = document.createElement('div');\n",
              "          docLink.innerHTML = docLinkHtml;\n",
              "          element.appendChild(docLink);\n",
              "        }\n",
              "      </script>\n",
              "    </div>\n",
              "  </div>\n",
              "  "
            ]
          },
          "metadata": {},
          "execution_count": 43
        }
      ],
      "source": [
        "Xtrain = train[features]\n",
        "Ytrain = train['log_cite_count']\n",
        "Xtrain.head()"
      ]
    },
    {
      "cell_type": "code",
      "execution_count": 44,
      "metadata": {
        "colab": {
          "base_uri": "https://localhost:8080/"
        },
        "id": "WrkNsUJ1nT0e",
        "outputId": "fabc158b-af33-47e8-fd4a-d5caf2a89dd8"
      },
      "outputs": [
        {
          "output_type": "execute_result",
          "data": {
            "text/plain": [
              "596    8.449771\n",
              "90     8.477620\n",
              "734    6.648985\n",
              "694    5.236442\n",
              "517    3.583519\n",
              "Name: log_cite_count, dtype: float64"
            ]
          },
          "metadata": {},
          "execution_count": 44
        }
      ],
      "source": [
        "Ytrain.head()"
      ]
    },
    {
      "cell_type": "code",
      "execution_count": 45,
      "metadata": {
        "colab": {
          "base_uri": "https://localhost:8080/"
        },
        "id": "ltwSEHgYnT0e",
        "outputId": "2413ef9a-5f67-45eb-8c78-10abbe913a59"
      },
      "outputs": [
        {
          "output_type": "execute_result",
          "data": {
            "text/plain": [
              "array([-1.05443811, -0.27079188,  0.87434979,  0.45088019])"
            ]
          },
          "metadata": {},
          "execution_count": 45
        }
      ],
      "source": [
        "# our first machine learning model\n",
        "from sklearn.linear_model import LinearRegression\n",
        "lin_reg = LinearRegression()\n",
        "\n",
        "lin_reg.fit(Xtrain, Ytrain)\n",
        "lin_reg.coef_ "
      ]
    },
    {
      "cell_type": "code",
      "execution_count": 46,
      "metadata": {
        "colab": {
          "base_uri": "https://localhost:8080/"
        },
        "id": "YSUaR4iYnT0e",
        "outputId": "c594e03f-5dbd-4b87-b280-80d3c179bfb9"
      },
      "outputs": [
        {
          "output_type": "execute_result",
          "data": {
            "text/plain": [
              "2.1599649495666817"
            ]
          },
          "metadata": {},
          "execution_count": 46
        }
      ],
      "source": [
        "# in-sample performance\n",
        "from sklearn.metrics import mean_squared_error\n",
        "Ytrain_pred = lin_reg.predict(Xtrain)        \n",
        "train_mse = mean_squared_error(Ytrain,Ytrain_pred)\n",
        "train_mse"
      ]
    },
    {
      "cell_type": "code",
      "execution_count": 47,
      "metadata": {
        "colab": {
          "base_uri": "https://localhost:8080/"
        },
        "id": "-m7bVZS2nT0e",
        "outputId": "9a5ebcc4-7c87-49d9-f008-a51ecfd22368"
      },
      "outputs": [
        {
          "output_type": "execute_result",
          "data": {
            "text/plain": [
              "2.1030016631048745"
            ]
          },
          "metadata": {},
          "execution_count": 47
        }
      ],
      "source": [
        "# out-of-sample performance\n",
        "Xtest = test[features]\n",
        "Ytest = test['log_cite_count']\n",
        "Ytest_pred = lin_reg.predict(Xtest)        \n",
        "test_mse = mean_squared_error(Ytest,Ytest_pred)\n",
        "test_mse"
      ]
    },
    {
      "cell_type": "code",
      "execution_count": 48,
      "metadata": {
        "colab": {
          "base_uri": "https://localhost:8080/",
          "height": 457
        },
        "id": "cwjZ6ngknT0e",
        "outputId": "0824561e-3af6-40c9-e721-d4466c4ae11d"
      },
      "outputs": [
        {
          "output_type": "execute_result",
          "data": {
            "text/plain": [
              "<seaborn.axisgrid.JointGrid at 0x7fbbbc297790>"
            ]
          },
          "metadata": {},
          "execution_count": 48
        },
        {
          "output_type": "display_data",
          "data": {
            "text/plain": [
              "<Figure size 432x432 with 3 Axes>"
            ],
            "image/png": "[encoded data removed]"
          },
          "metadata": {
            "needs_background": "light"
          }
        }
      ],
      "source": [
        "import seaborn as sns\n",
        "\n",
        "p = sns.jointplot(x=Ytest, y=Ytest_pred, kind='reg')\n",
        "p.set_axis_labels('Log Citations', 'Predicted Log Citations', fontsize=10)\n"
      ]
    },
    {
      "cell_type": "markdown",
      "metadata": {
        "id": "yIoryTa4nT0e"
      },
      "source": [
        "# Pipelines and Cross-Validation"
      ]
    },
    {
      "cell_type": "code",
      "execution_count": 49,
      "metadata": {
        "id": "hHA8sKRwnT0e"
      },
      "outputs": [],
      "source": [
        "# missing values\n",
        "df['authorship_id'].fillna(0,inplace=True)"
      ]
    },
    {
      "cell_type": "code",
      "execution_count": 50,
      "metadata": {
        "id": "VTC5-1OlnT0e"
      },
      "outputs": [],
      "source": [
        "# Scaling\n",
        "from sklearn.preprocessing import StandardScaler\n",
        "scaler = StandardScaler()\n",
        "X = scaler.fit_transform(df2)\n",
        "df2 = pd.DataFrame(X,columns=df2.columns)"
      ]
    },
    {
      "cell_type": "code",
      "execution_count": 51,
      "metadata": {
        "colab": {
          "base_uri": "https://localhost:8080/"
        },
        "id": "vCXY3qFmnT0f",
        "outputId": "68f7cea4-4b3a-498c-81f1-8a6b51e09467"
      },
      "outputs": [
        {
          "output_type": "execute_result",
          "data": {
            "text/plain": [
              "array([[ 0.4273395 , -0.10042156,  0.26583686, -0.25620003,  0.08875597],\n",
              "       [-1.69574977,  0.2303693 , -0.38976878, -0.73332927,  0.62993863],\n",
              "       [ 1.7975002 , -0.97500173, -0.73922735,  1.00407587,  0.33689649],\n",
              "       ...,\n",
              "       [ 0.778854  ,  0.31343437,  1.46745168, -0.54274748, -0.70067715],\n",
              "       [-0.48288351,  0.47521029,  0.43962056,  0.85945227, -1.20157476],\n",
              "       [ 0.20858247,  0.53243068, -0.86797524, -0.93320774,  0.87744045]])"
            ]
          },
          "metadata": {},
          "execution_count": 51
        }
      ],
      "source": [
        "X"
      ]
    },
    {
      "cell_type": "code",
      "execution_count": 53,
      "metadata": {
        "colab": {
          "base_uri": "https://localhost:8080/"
        },
        "id": "A7Qazd0GnT0f",
        "outputId": "79301c4f-e4a5-4eaa-f101-66d9d4200512"
      },
      "outputs": [
        {
          "output_type": "stream",
          "name": "stdout",
          "text": [
            "(768,)\n",
            "(768, 1)\n"
          ]
        }
      ],
      "source": [
        "# Encoding categorical variables\n",
        "from sklearn.preprocessing import OneHotEncoder\n",
        "encoder = OneHotEncoder()\n",
        "judge = df['authorship_id']\n",
        "print(judge.values.shape)\n",
        "print(judge.values.reshape(-1,1).shape)\n",
        "judge_fes = encoder.fit_transform(judge.values.reshape(-1,1))\n",
        "judge_ids = ['j_'+str(x) for x in range(len(judge.unique()))]\n",
        "judge_fes = pd.DataFrame(judge_fes.todense(),columns=judge_ids)\n",
        "df = pd.concat([df,judge_fes],axis=1)\n",
        "train, test = train_test_split(df, test_size=0.2)"
      ]
    },
    {
      "cell_type": "code",
      "execution_count": 55,
      "metadata": {
        "colab": {
          "base_uri": "https://localhost:8080/"
        },
        "id": "iNKP_krqnT0f",
        "outputId": "d4f1ca3c-9fa6-4ab1-a9f6-9fd91bea7582"
      },
      "outputs": [
        {
          "output_type": "stream",
          "name": "stdout",
          "text": [
            "0.08779109432773417 0.022789022811549944\n"
          ]
        }
      ],
      "source": [
        "# Cross-validation\n",
        "from sklearn.ensemble import RandomForestRegressor\n",
        "forest_reg = RandomForestRegressor()\n",
        "\n",
        "from sklearn.model_selection import cross_val_score\n",
        "scores = cross_val_score(forest_reg,\n",
        "                         df[features],\n",
        "                         df['x_republican'],\n",
        "                         cv=3,\n",
        "                         n_jobs=-1)\n",
        "\n",
        "# the default score for random forest reg is negative MSE.\n",
        "print(np.abs(scores.mean()),scores.std())"
      ]
    },
    {
      "cell_type": "code",
      "execution_count": 56,
      "metadata": {
        "colab": {
          "base_uri": "https://localhost:8080/"
        },
        "id": "ZUGo2jCXnT0f",
        "outputId": "07f438dd-2605-4106-9525-f07ecc204673"
      },
      "outputs": [
        {
          "output_type": "stream",
          "name": "stdout",
          "text": [
            "{'bootstrap': True, 'max_features': 2, 'n_estimators': 30}\n",
            "0.09341235411244335\n"
          ]
        }
      ],
      "source": [
        "# Grid Search\n",
        "from sklearn.model_selection import GridSearchCV\n",
        "param_grid = {'n_estimators': [3, 10, 30],\n",
        "              'max_features': [2, 4],\n",
        "              'bootstrap': [True, False]}\n",
        "\n",
        "grid_search = GridSearchCV(forest_reg, \n",
        "                           param_grid, \n",
        "                           cv=3)              \n",
        "grid_search.fit(df[features],df['x_republican'])\n",
        "\n",
        "print(grid_search.best_params_)\n",
        "print(np.abs(grid_search.best_score_))"
      ]
    },
    {
      "cell_type": "code",
      "execution_count": 59,
      "metadata": {
        "colab": {
          "base_uri": "https://localhost:8080/"
        },
        "id": "GS_GbiSlnT0f",
        "outputId": "73515115-f08a-4500-941a-98f025b2ca0f"
      },
      "outputs": [
        {
          "output_type": "stream",
          "name": "stdout",
          "text": [
            "{'n_estimators': 30, 'max_features': 2, 'bootstrap': True}\n",
            "0.08245484631700421\n"
          ]
        }
      ],
      "source": [
        "from sklearn.model_selection import RandomizedSearchCV\n",
        "rand_search = RandomizedSearchCV(forest_reg, param_grid, cv=3)              \n",
        "rand_search.fit(df[features],df['x_republican'])\n",
        "\n",
        "print(rand_search.best_params_)\n",
        "print(np.abs(rand_search.best_score_))"
      ]
    },
    {
      "cell_type": "code",
      "execution_count": 61,
      "metadata": {
        "id": "qiIX7B5VnT0f"
      },
      "outputs": [],
      "source": [
        "# Saving and loading\n",
        "import joblib\n",
        "joblib.dump(forest_reg,'forest_reg.pkl') # will overwrite local files\n",
        "forest_reg = joblib.load('forest_reg.pkl')"
      ]
    },
    {
      "cell_type": "code",
      "execution_count": 62,
      "metadata": {
        "id": "XLEby_2enT0f"
      },
      "outputs": [],
      "source": [
        "from sklearn.pipeline import Pipeline\n",
        "from sklearn.feature_extraction.text import TfidfTransformer\n",
        "\n",
        "pipeline = Pipeline([\n",
        "    ('vect', CountVectorizer()),\n",
        "    ('tfidf', TfidfTransformer()),\n",
        "    ('forest_reg', RandomForestRegressor()),\n",
        "])\n",
        "\n",
        "parameters = {\n",
        "    'vect__max_df': (0.5, 0.75, 1.0),\n",
        "    'vect__max_features': (2, 4, 8, 16),\n",
        "    'forest_reg__n_estimators': [3, 10, 30],\n",
        "    'forest_reg__max_features': [2, 4],\n",
        "    'forest_reg__bootstrap': [True, False]}"
      ]
    },
    {
      "cell_type": "code",
      "execution_count": 63,
      "metadata": {
        "colab": {
          "base_uri": "https://localhost:8080/"
        },
        "id": "XSlxQVTbnT0f",
        "outputId": "36468ce6-ef8d-4e1d-81ad-f079d5ae7e12"
      },
      "outputs": [
        {
          "output_type": "stream",
          "name": "stdout",
          "text": [
            "Performing grid search...\n",
            "pipeline: ['vect', 'tfidf', 'forest_reg']\n",
            "parameters:\n",
            "{'forest_reg__bootstrap': [True, False],\n",
            " 'forest_reg__max_features': [2, 4],\n",
            " 'forest_reg__n_estimators': [3, 10, 30],\n",
            " 'vect__max_df': (0.5, 0.75, 1.0),\n",
            " 'vect__max_features': (2, 4, 8, 16)}\n",
            "Fitting 5 folds for each of 144 candidates, totalling 720 fits\n",
            "done in 2514.982s\n",
            "\n",
            "Best score: 0.176\n",
            "Best parameters set:\n",
            "\tforest_reg__bootstrap: True\n",
            "\tforest_reg__max_features: 2\n",
            "\tforest_reg__n_estimators: 30\n",
            "\tvect__max_df: 0.75\n",
            "\tvect__max_features: 16\n"
          ]
        }
      ],
      "source": [
        "from pprint import pprint\n",
        "from time import time\n",
        "\n",
        "if __name__ == \"__main__\":\n",
        "    # multiprocessing requires the fork to happen in a __main__ protected\n",
        "    # block\n",
        "\n",
        "    # find the best parameters for both the feature extraction and the\n",
        "    # classifier\n",
        "    grid_search = GridSearchCV(pipeline, parameters, n_jobs=-1, verbose=1)\n",
        "\n",
        "    print(\"Performing grid search...\")\n",
        "    print(\"pipeline:\", [name for name, _ in pipeline.steps])\n",
        "    print(\"parameters:\")\n",
        "    pprint(parameters)\n",
        "    t0 = time()\n",
        "    grid_search.fit(df.opinion_text, df.log_cite_count)\n",
        "    print(\"done in %0.3fs\" % (time() - t0))\n",
        "    print()\n",
        "\n",
        "    print(\"Best score: %0.3f\" % grid_search.best_score_)\n",
        "    print(\"Best parameters set:\")\n",
        "    best_parameters = grid_search.best_estimator_.get_params()\n",
        "    for param_name in sorted(parameters.keys()):\n",
        "        print(\"\\t%s: %r\" % (param_name, best_parameters[param_name]))"
      ]
    },
    {
      "cell_type": "markdown",
      "metadata": {
        "id": "q14Q6zolnT0g"
      },
      "source": [
        "## Nested Cross-Validation"
      ]
    },
    {
      "cell_type": "code",
      "execution_count": 64,
      "metadata": {
        "colab": {
          "base_uri": "https://localhost:8080/"
        },
        "id": "jiiES2J4nT0g",
        "outputId": "0b8c41ef-935e-412e-d239-df2207b5ae62"
      },
      "outputs": [
        {
          "output_type": "stream",
          "name": "stdout",
          "text": [
            "Average difference of 0.014238 with std. dev. of 0.021509.\n"
          ]
        }
      ],
      "source": [
        "import numpy as np\n",
        "from sklearn.model_selection import KFold\n",
        "n = 30\n",
        "\n",
        "forest_reg = RandomForestRegressor()\n",
        "non_nested_scores = np.zeros(n)\n",
        "nested_scores = np.zeros(n)\n",
        "\n",
        "\n",
        "param_grid = {'n_estimators': [3, 10, 30],\n",
        "              'max_features': [2, 4],\n",
        "              'bootstrap': [True, False]}\n",
        "\n",
        "for i in range(n):\n",
        "\n",
        "    # Choose cross-validation techniques for the inner and outer loops,\n",
        "\n",
        "    inner_cv = KFold(n_splits=4, shuffle=True, random_state=i)\n",
        "    outer_cv = KFold(n_splits=4, shuffle=True, random_state=i)\n",
        "\n",
        "    # Non_nested parameter search and scoring\n",
        "    grid_search = GridSearchCV(estimator=forest_reg, param_grid=param_grid, cv=inner_cv)\n",
        "    grid_search.fit(Xtrain, Ytrain)\n",
        "    non_nested_scores[i] = grid_search.best_score_\n",
        "\n",
        "    # Nested CV with parameter optimization\n",
        "    nested_score = cross_val_score(grid_search, X=Xtrain, y=Ytrain, cv=outer_cv)\n",
        "    nested_scores[i] = nested_score.mean()\n",
        "\n",
        "score_difference = non_nested_scores - nested_scores\n",
        "print(\"Average difference of {:6f} with std. dev. of {:6f}.\"\n",
        "      .format(score_difference.mean(), score_difference.std()))\n"
      ]
    },
    {
      "cell_type": "markdown",
      "metadata": {
        "id": "UEhJpFcunT0g"
      },
      "source": [
        "# Regularization"
      ]
    },
    {
      "cell_type": "code",
      "execution_count": 65,
      "metadata": {
        "colab": {
          "base_uri": "https://localhost:8080/"
        },
        "id": "ch1MyV_AnT0g",
        "outputId": "9d0da374-9731-4204-afa0-de1eb590d083"
      },
      "outputs": [
        {
          "output_type": "execute_result",
          "data": {
            "text/plain": [
              "0.4100209587834282"
            ]
          },
          "metadata": {},
          "execution_count": 65
        }
      ],
      "source": [
        "from sklearn.model_selection import cross_val_score\n",
        "import numpy as np\n",
        "from sklearn.linear_model import LinearRegression\n",
        "\n",
        "m = 100\n",
        "x = 6 * np.random.rand(m,1) - 3\n",
        "y = 0.5 * x ** 2 + x + 2 + np.random.randn(m,1)\n",
        "y = y.ravel()\n",
        "\n",
        "from sklearn.preprocessing import PolynomialFeatures\n",
        "poly_2 = PolynomialFeatures(degree=2) # also adds interactions\n",
        "X_poly_2 = poly_2.fit_transform(x)\n",
        "\n",
        "\n",
        "poly_300 = PolynomialFeatures(degree=300) \n",
        "X_poly_300 = poly_300.fit_transform(x)\n",
        "\n",
        "\n",
        "lin_reg = LinearRegression()\n",
        "cross_val_score(lin_reg, x, y, cv=3, n_jobs=3).mean()"
      ]
    },
    {
      "cell_type": "code",
      "execution_count": 66,
      "metadata": {
        "colab": {
          "base_uri": "https://localhost:8080/"
        },
        "id": "2T8Lcu7UnT0g",
        "outputId": "7899a073-8404-466c-c2df-3c953b453cb5"
      },
      "outputs": [
        {
          "output_type": "execute_result",
          "data": {
            "text/plain": [
              "0.8765265541770128"
            ]
          },
          "metadata": {},
          "execution_count": 66
        }
      ],
      "source": [
        "cross_val_score(lin_reg, X_poly_2, y, cv=3, n_jobs=3).mean()"
      ]
    },
    {
      "cell_type": "code",
      "execution_count": 67,
      "metadata": {
        "colab": {
          "base_uri": "https://localhost:8080/"
        },
        "id": "noeptlbUnT0g",
        "outputId": "fa8a17da-ab60-40a7-abd8-b97fe65d3038"
      },
      "outputs": [
        {
          "output_type": "execute_result",
          "data": {
            "text/plain": [
              "-2212507309162538.0"
            ]
          },
          "metadata": {},
          "execution_count": 67
        }
      ],
      "source": [
        "cross_val_score(lin_reg, X_poly_300, y, cv=3, n_jobs=3).mean()"
      ]
    },
    {
      "cell_type": "code",
      "execution_count": 68,
      "metadata": {
        "colab": {
          "base_uri": "https://localhost:8080/"
        },
        "id": "BCczP2l0nT0g",
        "outputId": "511b56b1-fc67-47dc-ceb1-d3962afd060d"
      },
      "outputs": [
        {
          "output_type": "execute_result",
          "data": {
            "text/plain": [
              "0.3529145517634959"
            ]
          },
          "metadata": {},
          "execution_count": 68
        }
      ],
      "source": [
        "# Lasso\n",
        "from sklearn.linear_model import Lasso\n",
        "lasso_reg = Lasso(alpha=0.1)\n",
        "cross_val_score(lasso_reg,x,y).mean()"
      ]
    },
    {
      "cell_type": "code",
      "execution_count": 69,
      "metadata": {
        "colab": {
          "base_uri": "https://localhost:8080/"
        },
        "id": "0ZqqnV2enT0g",
        "outputId": "33fbd40f-540b-4d73-8fdf-7ff310289f60"
      },
      "outputs": [
        {
          "output_type": "execute_result",
          "data": {
            "text/plain": [
              "0.3496477086077504"
            ]
          },
          "metadata": {},
          "execution_count": 69
        }
      ],
      "source": [
        "# Ridge\n",
        "from sklearn.linear_model import Ridge, SGDRegressor\n",
        "ridge_reg = Ridge(alpha=1)\n",
        "cross_val_score(ridge_reg,x,y).mean()"
      ]
    },
    {
      "cell_type": "code",
      "execution_count": 70,
      "metadata": {
        "colab": {
          "base_uri": "https://localhost:8080/"
        },
        "id": "lcFtCIj_nT0h",
        "outputId": "177eb97e-7dc0-4b42-f4fd-18fffd5ad493"
      },
      "outputs": [
        {
          "output_type": "execute_result",
          "data": {
            "text/plain": [
              "(0.1, 0.0001)"
            ]
          },
          "metadata": {},
          "execution_count": 70
        }
      ],
      "source": [
        "###\n",
        "# Elastic Net\n",
        "###\n",
        "from sklearn.linear_model import ElasticNetCV\n",
        "enet_reg = ElasticNetCV(alphas=[.0001, .001, .01,.1,1], \n",
        "                        l1_ratio=[.0001, .001, .01,.1,.5,.9, .99, 1])\n",
        "enet_reg.fit(x,y)\n",
        "enet_reg.alpha_, enet_reg.l1_ratio_"
      ]
    },
    {
      "cell_type": "code",
      "execution_count": 71,
      "metadata": {
        "colab": {
          "base_uri": "https://localhost:8080/"
        },
        "id": "UwsU4-ManT0h",
        "outputId": "0e7225be-2f99-462a-a8c3-542a4d618375"
      },
      "outputs": [
        {
          "output_type": "execute_result",
          "data": {
            "text/plain": [
              "0.3555344339965723"
            ]
          },
          "metadata": {},
          "execution_count": 71
        }
      ],
      "source": [
        "cross_val_score(enet_reg,x,y).mean()"
      ]
    },
    {
      "cell_type": "code",
      "execution_count": 72,
      "metadata": {
        "colab": {
          "base_uri": "https://localhost:8080/"
        },
        "id": "l65Yg-2rnT0h",
        "outputId": "feab00b3-4620-4ab3-f0d5-77213419e47c"
      },
      "outputs": [
        {
          "output_type": "stream",
          "name": "stdout",
          "text": [
            "5 non-zero of 5 coefficients.\n"
          ]
        },
        {
          "output_type": "execute_result",
          "data": {
            "text/plain": [
              "0.009194244568332843"
            ]
          },
          "metadata": {},
          "execution_count": 72
        }
      ],
      "source": [
        "scaler = StandardScaler()\n",
        "Xscale = scaler.fit_transform(X)\n",
        "from sklearn.linear_model import ElasticNet\n",
        "enet_reg = ElasticNet(alpha=.1, l1_ratio=.0001)\n",
        "enet_reg.fit(Xscale,df['x_republican'])\n",
        "nonzero = enet_reg.coef_ != 0\n",
        "print(nonzero.sum(),'non-zero of',len(enet_reg.coef_),'coefficients.')\n",
        "X_enet = X[:,nonzero]\n",
        "X_enet\n",
        "cross_val_score(enet_reg,X_enet,df['x_republican'],n_jobs=-1).mean()"
      ]
    },
    {
      "cell_type": "markdown",
      "metadata": {
        "id": "2KybLo0HnT0h"
      },
      "source": [
        "# Classification"
      ]
    },
    {
      "cell_type": "code",
      "execution_count": 114,
      "metadata": {
        "colab": {
          "base_uri": "https://localhost:8080/",
          "height": 317
        },
        "id": "MBIu0s7LnT0h",
        "outputId": "2e960530-32c2-4d0b-9ca1-67df07042268"
      },
      "outputs": [
        {
          "output_type": "execute_result",
          "data": {
            "text/plain": [
              "   x_republican     x_000      x_10     x_100     x_101     x_102     x_103  \\\n",
              "0           0.0  0.000000  0.000000  0.000000  0.001709  0.001709  0.001709   \n",
              "1           1.0  0.000000  0.002639  0.000000  0.002639  0.000000  0.000000   \n",
              "2           1.0  0.000000  0.000000  0.000000  0.000000  0.014706  0.000000   \n",
              "3           1.0  0.000000  0.003652  0.001461  0.000000  0.000000  0.000730   \n",
              "4           1.0  0.001003  0.002006  0.001003  0.000000  0.000000  0.004012   \n",
              "\n",
              "      x_104  x_104 ct     x_105  ...  x_violated  x_violation   x_water  \\\n",
              "0  0.001709  0.001709  0.001709  ...    0.000000     0.003419  0.000000   \n",
              "1  0.005277  0.002639  0.000000  ...    0.002639     0.000000  0.000000   \n",
              "2  0.000000  0.000000  0.000000  ...    0.000000     0.001634  0.000000   \n",
              "3  0.000000  0.000000  0.006574  ...    0.000000     0.000000  0.013879   \n",
              "4  0.000000  0.000000  0.001003  ...    0.002006     0.002006  0.000000   \n",
              "\n",
              "      x_way    x_west   x_words    x_work    x_year   x_years  x_york  \n",
              "0  0.001709  0.000000  0.011966  0.000000  0.017094  0.000000     0.0  \n",
              "1  0.000000  0.005277  0.002639  0.000000  0.000000  0.000000     0.0  \n",
              "2  0.001634  0.000000  0.000000  0.000000  0.013072  0.001634     0.0  \n",
              "3  0.002922  0.000000  0.000000  0.000000  0.000730  0.002922     0.0  \n",
              "4  0.000000  0.000000  0.000000  0.001003  0.003009  0.001003     0.0  \n",
              "\n",
              "[5 rows x 501 columns]"
            ],
            "text/html": [
              "\n",
              "  <div id=\"df-b2694a2b-a832-4250-9c34-3c9977afd16c\">\n",
              "    <div class=\"colab-df-container\">\n",
              "      <div>\n",
              "<style scoped>\n",
              "    .dataframe tbody tr th:only-of-type {\n",
              "        vertical-align: middle;\n",
              "    }\n",
              "\n",
              "    .dataframe tbody tr th {\n",
              "        vertical-align: top;\n",
              "    }\n",
              "\n",
              "    .dataframe thead th {\n",
              "        text-align: right;\n",
              "    }\n",
              "</style>\n",
              "<table border=\"1\" class=\"dataframe\">\n",
              "  <thead>\n",
              "    <tr style=\"text-align: right;\">\n",
              "      <th></th>\n",
              "      <th>x_republican</th>\n",
              "      <th>x_000</th>\n",
              "      <th>x_10</th>\n",
              "      <th>x_100</th>\n",
              "      <th>x_101</th>\n",
              "      <th>x_102</th>\n",
              "      <th>x_103</th>\n",
              "      <th>x_104</th>\n",
              "      <th>x_104 ct</th>\n",
              "      <th>x_105</th>\n",
              "      <th>...</th>\n",
              "      <th>x_violated</th>\n",
              "      <th>x_violation</th>\n",
              "      <th>x_water</th>\n",
              "      <th>x_way</th>\n",
              "      <th>x_west</th>\n",
              "      <th>x_words</th>\n",
              "      <th>x_work</th>\n",
              "      <th>x_year</th>\n",
              "      <th>x_years</th>\n",
              "      <th>x_york</th>\n",
              "    </tr>\n",
              "  </thead>\n",
              "  <tbody>\n",
              "    <tr>\n",
              "      <th>0</th>\n",
              "      <td>0.0</td>\n",
              "      <td>0.000000</td>\n",
              "      <td>0.000000</td>\n",
              "      <td>0.000000</td>\n",
              "      <td>0.001709</td>\n",
              "      <td>0.001709</td>\n",
              "      <td>0.001709</td>\n",
              "      <td>0.001709</td>\n",
              "      <td>0.001709</td>\n",
              "      <td>0.001709</td>\n",
              "      <td>...</td>\n",
              "      <td>0.000000</td>\n",
              "      <td>0.003419</td>\n",
              "      <td>0.000000</td>\n",
              "      <td>0.001709</td>\n",
              "      <td>0.000000</td>\n",
              "      <td>0.011966</td>\n",
              "      <td>0.000000</td>\n",
              "      <td>0.017094</td>\n",
              "      <td>0.000000</td>\n",
              "      <td>0.0</td>\n",
              "    </tr>\n",
              "    <tr>\n",
              "      <th>1</th>\n",
              "      <td>1.0</td>\n",
              "      <td>0.000000</td>\n",
              "      <td>0.002639</td>\n",
              "      <td>0.000000</td>\n",
              "      <td>0.002639</td>\n",
              "      <td>0.000000</td>\n",
              "      <td>0.000000</td>\n",
              "      <td>0.005277</td>\n",
              "      <td>0.002639</td>\n",
              "      <td>0.000000</td>\n",
              "      <td>...</td>\n",
              "      <td>0.002639</td>\n",
              "      <td>0.000000</td>\n",
              "      <td>0.000000</td>\n",
              "      <td>0.000000</td>\n",
              "      <td>0.005277</td>\n",
              "      <td>0.002639</td>\n",
              "      <td>0.000000</td>\n",
              "      <td>0.000000</td>\n",
              "      <td>0.000000</td>\n",
              "      <td>0.0</td>\n",
              "    </tr>\n",
              "    <tr>\n",
              "      <th>2</th>\n",
              "      <td>1.0</td>\n",
              "      <td>0.000000</td>\n",
              "      <td>0.000000</td>\n",
              "      <td>0.000000</td>\n",
              "      <td>0.000000</td>\n",
              "      <td>0.014706</td>\n",
              "      <td>0.000000</td>\n",
              "      <td>0.000000</td>\n",
              "      <td>0.000000</td>\n",
              "      <td>0.000000</td>\n",
              "      <td>...</td>\n",
              "      <td>0.000000</td>\n",
              "      <td>0.001634</td>\n",
              "      <td>0.000000</td>\n",
              "      <td>0.001634</td>\n",
              "      <td>0.000000</td>\n",
              "      <td>0.000000</td>\n",
              "      <td>0.000000</td>\n",
              "      <td>0.013072</td>\n",
              "      <td>0.001634</td>\n",
              "      <td>0.0</td>\n",
              "    </tr>\n",
              "    <tr>\n",
              "      <th>3</th>\n",
              "      <td>1.0</td>\n",
              "      <td>0.000000</td>\n",
              "      <td>0.003652</td>\n",
              "      <td>0.001461</td>\n",
              "      <td>0.000000</td>\n",
              "      <td>0.000000</td>\n",
              "      <td>0.000730</td>\n",
              "      <td>0.000000</td>\n",
              "      <td>0.000000</td>\n",
              "      <td>0.006574</td>\n",
              "      <td>...</td>\n",
              "      <td>0.000000</td>\n",
              "      <td>0.000000</td>\n",
              "      <td>0.013879</td>\n",
              "      <td>0.002922</td>\n",
              "      <td>0.000000</td>\n",
              "      <td>0.000000</td>\n",
              "      <td>0.000000</td>\n",
              "      <td>0.000730</td>\n",
              "      <td>0.002922</td>\n",
              "      <td>0.0</td>\n",
              "    </tr>\n",
              "    <tr>\n",
              "      <th>4</th>\n",
              "      <td>1.0</td>\n",
              "      <td>0.001003</td>\n",
              "      <td>0.002006</td>\n",
              "      <td>0.001003</td>\n",
              "      <td>0.000000</td>\n",
              "      <td>0.000000</td>\n",
              "      <td>0.004012</td>\n",
              "      <td>0.000000</td>\n",
              "      <td>0.000000</td>\n",
              "      <td>0.001003</td>\n",
              "      <td>...</td>\n",
              "      <td>0.002006</td>\n",
              "      <td>0.002006</td>\n",
              "      <td>0.000000</td>\n",
              "      <td>0.000000</td>\n",
              "      <td>0.000000</td>\n",
              "      <td>0.000000</td>\n",
              "      <td>0.001003</td>\n",
              "      <td>0.003009</td>\n",
              "      <td>0.001003</td>\n",
              "      <td>0.0</td>\n",
              "    </tr>\n",
              "  </tbody>\n",
              "</table>\n",
              "<p>5 rows × 501 columns</p>\n",
              "</div>\n",
              "      <button class=\"colab-df-convert\" onclick=\"convertToInteractive('df-b2694a2b-a832-4250-9c34-3c9977afd16c')\"\n",
              "              title=\"Convert this dataframe to an interactive table.\"\n",
              "              style=\"display:none;\">\n",
              "        \n",
              "  <svg xmlns=\"http://www.w3.org/2000/svg\" height=\"24px\"viewBox=\"0 0 24 24\"\n",
              "       width=\"24px\">\n",
              "    <path d=\"M0 0h24v24H0V0z\" fill=\"none\"/>\n",
              "    <path d=\"M18.56 5.44l.94 2.06.94-2.06 2.06-.94-2.06-.94-.94-2.06-.94 2.06-2.06.94zm-11 1L8.5 8.5l.94-2.06 2.06-.94-2.06-.94L8.5 2.5l-.94 2.06-2.06.94zm10 10l.94 2.06.94-2.06 2.06-.94-2.06-.94-.94-2.06-.94 2.06-2.06.94z\"/><path d=\"M17.41 7.96l-1.37-1.37c-.4-.4-.92-.59-1.43-.59-.52 0-1.04.2-1.43.59L10.3 9.45l-7.72 7.72c-.78.78-.78 2.05 0 2.83L4 21.41c.39.39.9.59 1.41.59.51 0 1.02-.2 1.41-.59l7.78-7.78 2.81-2.81c.8-.78.8-2.07 0-2.86zM5.41 20L4 18.59l7.72-7.72 1.47 1.35L5.41 20z\"/>\n",
              "  </svg>\n",
              "      </button>\n",
              "      \n",
              "  <style>\n",
              "    .colab-df-container {\n",
              "      display:flex;\n",
              "      flex-wrap:wrap;\n",
              "      gap: 12px;\n",
              "    }\n",
              "\n",
              "    .colab-df-convert {\n",
              "      background-color: #E8F0FE;\n",
              "      border: none;\n",
              "      border-radius: 50%;\n",
              "      cursor: pointer;\n",
              "      display: none;\n",
              "      fill: #1967D2;\n",
              "      height: 32px;\n",
              "      padding: 0 0 0 0;\n",
              "      width: 32px;\n",
              "    }\n",
              "\n",
              "    .colab-df-convert:hover {\n",
              "      background-color: #E2EBFA;\n",
              "      box-shadow: 0px 1px 2px rgba(60, 64, 67, 0.3), 0px 1px 3px 1px rgba(60, 64, 67, 0.15);\n",
              "      fill: #174EA6;\n",
              "    }\n",
              "\n",
              "    [theme=dark] .colab-df-convert {\n",
              "      background-color: #3B4455;\n",
              "      fill: #D2E3FC;\n",
              "    }\n",
              "\n",
              "    [theme=dark] .colab-df-convert:hover {\n",
              "      background-color: #434B5C;\n",
              "      box-shadow: 0px 1px 3px 1px rgba(0, 0, 0, 0.15);\n",
              "      filter: drop-shadow(0px 1px 2px rgba(0, 0, 0, 0.3));\n",
              "      fill: #FFFFFF;\n",
              "    }\n",
              "  </style>\n",
              "\n",
              "      <script>\n",
              "        const buttonEl =\n",
              "          document.querySelector('#df-b2694a2b-a832-4250-9c34-3c9977afd16c button.colab-df-convert');\n",
              "        buttonEl.style.display =\n",
              "          google.colab.kernel.accessAllowed ? 'block' : 'none';\n",
              "\n",
              "        async function convertToInteractive(key) {\n",
              "          const element = document.querySelector('#df-b2694a2b-a832-4250-9c34-3c9977afd16c');\n",
              "          const dataTable =\n",
              "            await google.colab.kernel.invokeFunction('convertToInteractive',\n",
              "                                                     [key], {});\n",
              "          if (!dataTable) return;\n",
              "\n",
              "          const docLinkHtml = 'Like what you see? Visit the ' +\n",
              "            '<a target=\"_blank\" href=https://colab.research.google.com/notebooks/data_table.ipynb>data table notebook</a>'\n",
              "            + ' to learn more about interactive tables.';\n",
              "          element.innerHTML = '';\n",
              "          dataTable['output_type'] = 'display_data';\n",
              "          await google.colab.output.renderOutput(dataTable, element);\n",
              "          const docLink = document.createElement('div');\n",
              "          docLink.innerHTML = docLinkHtml;\n",
              "          element.appendChild(docLink);\n",
              "        }\n",
              "      </script>\n",
              "    </div>\n",
              "  </div>\n",
              "  "
            ]
          },
          "metadata": {},
          "execution_count": 114
        }
      ],
      "source": [
        "# Make a small data set\n",
        "df = pd.read_pickle('sc_cases_cleaned.pkl',compression='gzip')\n",
        "df=df.reset_index(drop=True)\n",
        "\n",
        "from sklearn.feature_extraction.text import CountVectorizer\n",
        "vectorizer500 = CountVectorizer(min_df=0.01, # at min 1% of docs\n",
        "                        max_df=.9,  \n",
        "                        max_features=500,\n",
        "                        stop_words='english',\n",
        "                        ngram_range=(1,3))\n",
        "X500 = vectorizer500.fit_transform(df['opinion_text']).todense()\n",
        "X500 = X500 / X500.sum(axis=1) # counts to frequencies\n",
        "vocab = vectorizer500.get_feature_names_out()\n",
        "for i, word in enumerate(vocab):\n",
        "    column = X500[:,i]\n",
        "    df['x_'+word] = column\n",
        "\n",
        "\n",
        "features = [x for x in df.columns if x.startswith('x_') and x!=\"x_republican\"]\n",
        "keepcols = ['x_republican'] + features\n",
        "df1 = df[keepcols]\n",
        "y = df1['x_republican']\n",
        "# set up train/test split\n",
        "from sklearn.model_selection import train_test_split\n",
        "train, test = train_test_split(df1, test_size=0.2)\n",
        "features = [x for x in df1.columns if x.startswith('x_') and x!=\"x_republican\"]\n",
        "df1.head()"
      ]
    },
    {
      "cell_type": "code",
      "execution_count": 120,
      "metadata": {
        "scrolled": true,
        "colab": {
          "base_uri": "https://localhost:8080/"
        },
        "id": "znOrMF5snT0h",
        "outputId": "c717a6b2-7ecf-4ce0-b4a6-c49dece7c99a"
      },
      "outputs": [
        {
          "output_type": "execute_result",
          "data": {
            "text/plain": [
              "0.8051948051948052"
            ]
          },
          "metadata": {},
          "execution_count": 120
        }
      ],
      "source": [
        "# Binary Classifier\n",
        "from sklearn.linear_model import SGDClassifier\n",
        "sgd_clf = SGDClassifier(max_iter=10) \n",
        "sgd_clf.fit(train[features], train['x_republican'])\n",
        "sgd_clf.score(test[features],test['x_republican']) # accuracy on held-out data"
      ]
    },
    {
      "cell_type": "code",
      "execution_count": 121,
      "metadata": {
        "scrolled": true,
        "colab": {
          "base_uri": "https://localhost:8080/"
        },
        "id": "rBihcxW_nT0h",
        "outputId": "80c7049c-3fe0-4a4b-d405-3561c18998f1"
      },
      "outputs": [
        {
          "output_type": "execute_result",
          "data": {
            "text/plain": [
              "0.7734375"
            ]
          },
          "metadata": {},
          "execution_count": 121
        }
      ],
      "source": [
        "# compare to picking largest category\n",
        "df1['x_republican'].mean()"
      ]
    },
    {
      "cell_type": "code",
      "execution_count": 122,
      "metadata": {
        "id": "fuIwGlphnT0h"
      },
      "outputs": [],
      "source": [
        "from multiprocessing import cpu_count\n",
        "nthreads = cpu_count() - 1\n",
        "\n",
        "# Form cross-validated prdictions for all data points\n",
        "from sklearn.model_selection import cross_val_predict\n",
        "df1['x_republican_sgd'] = cross_val_predict(sgd_clf,\n",
        "                                         df1[features],\n",
        "                                         df1['x_republican'],\n",
        "                                         cv=3,\n",
        "                                         n_jobs=nthreads)"
      ]
    },
    {
      "cell_type": "markdown",
      "metadata": {
        "id": "HnvNY0uJnT0h"
      },
      "source": [
        "After applying a classifier to a data set with known labels `0` and `1`:\n",
        "\n",
        "<div class=\"alert alert-block alert-warning\">\n",
        "\n",
        "<div style=\"font-size: 150%;\"><i class=\"fa fa-info-circle\"></i>&nbsp;Definition</div>\n",
        "<ul>\n",
        "\n",
        "<li><strong>TP (true positives)</strong>: labels which were predicted as <code>1</code> and actually are <code>1</code>. <br/><br/>\n",
        "\n",
        "\n",
        "<li><strong>TN (true negatives)</strong>: labels which were predicted as <code>0</code> and actually are <code>0</code>.<br/><br/>\n",
        "\n",
        "\n",
        "<li><strong>FP (false positives)</strong>: labels which were predicted as <code>1</code> and actually are <code>0</code>.<br/><br/>\n",
        "\n",
        "\n",
        "<li><strong>FN (false negatives)</strong>: labels which were predicted as <code>0</code> and actually are <code>1</code>.<br/><br/>\n",
        "\n",
        "</ul>\n",
        "\n",
        "To memorize this: \n",
        "\n",
        "<ul>\n",
        "\n",
        "<li>The second word \"positives\"/\"negatives\" refers to the prediction computed by the classifier.\n",
        "<li>The first word \"true\"/\"false\" expresses if the classification was correct or not.\n",
        "\n",
        "</ul>\n",
        "\n",
        "This is the so called <strong>Confusion Matrix</strong>:\n",
        "\n",
        "<table style=\"border: 1px; font-family: 'Source Code Pro', monocco, Consolas, monocco, monospace;\n",
        "              font-size:110%;\">\n",
        "    <tbody >\n",
        "        <tr>\n",
        "            <td style=\"padding: 10px; background:#f8f8f8;\"> </td>\n",
        "            <td style=\"padding: 10px; background:#f8f8f8;\">Predicted N</td>\n",
        "            <td style=\"padding: 10px; background:#f8f8f8;\">Predicted P</td>\n",
        "        </tr>\n",
        "        <tr>\n",
        "            <td style=\"padding: 10px; background:#f8f8f8;\">Actual N</td>\n",
        "            <td style=\"padding: 10px; background:#fcfcfc; text-align:center; font-weight: bold\">TN         </td>\n",
        "            <td style=\"padding: 10px; background:#fcfcfc; text-align:center; font-weight: bold\">FP         </td>\n",
        "        </tr>\n",
        "        <tr>\n",
        "            <td style=\"padding: 10px; background:#f8f8f8;\">Actual P</td>\n",
        "            <td style=\"padding: 10px; background:#fcfcfc; text-align:center; font-weight: bold\">FN         </td>\n",
        "            <td style=\"padding: 10px; background:#fcfcfc; text-align:center; font-weight: bold\">TP         </td>\n",
        "        </tr>\n",
        "    </tbody>\n",
        "</table>\n",
        "\n",
        "</div>\n",
        "\n",
        "\n",
        "\n",
        "- So the total number of predictions can be expressed as `TP` + `FP` + `FN` + `TN`.\n",
        "\n",
        "\n",
        "- The number of correct predictions is `TP` + `TN`.\n",
        "\n",
        "\n",
        "- `TP` + `FN` is the number of positive examples in our data set, \n",
        "\n",
        "\n",
        "- `FP` + `TN` is the number of negative examples.\n",
        "\n",
        "- **precision** is computed as <code>TP / (TP + FP)</code>.\n",
        "\n",
        "\n",
        "- **recall** is computed as <code>TP / (TP + FN)</code>.\n",
        "\n",
        "- The **F1 score** is computed as <code>F1 = 2 * (precision * recall) / (precision + recall)</code>.\n",
        "\n",
        "\n",
        "<div class=\"alert alert-block alert-warning\">\n",
        "<div style=\"font-size: 150%;\"><i class=\"fa fa-info-circle\"></i>&nbsp;Definition</div>\n",
        "\n",
        "This allows us to define <strong>accuracy</strong> as (<code>TP</code> + <code>TN</code>) / (<code>TP</code> + <code>FP</code> + <code>FN</code> + <code>TN</code>).\n",
        "\n",
        "</div>"
      ]
    },
    {
      "cell_type": "code",
      "execution_count": 123,
      "metadata": {
        "colab": {
          "base_uri": "https://localhost:8080/",
          "height": 296
        },
        "id": "2YUWPEPZnT0i",
        "outputId": "354f2452-1415-44a9-fd76-cabd269295d3"
      },
      "outputs": [
        {
          "output_type": "execute_result",
          "data": {
            "text/plain": [
              "<sklearn.metrics._plot.confusion_matrix.ConfusionMatrixDisplay at 0x7fbbbd4becd0>"
            ]
          },
          "metadata": {},
          "execution_count": 123
        },
        {
          "output_type": "display_data",
          "data": {
            "text/plain": [
              "<Figure size 432x288 with 2 Axes>"
            ],
            "image/png": "[encoded data removed]"
          },
          "metadata": {
            "needs_background": "light"
          }
        }
      ],
      "source": [
        "# Construct confusion matrix\n",
        "from sklearn.metrics import confusion_matrix, ConfusionMatrixDisplay\n",
        "cm = confusion_matrix(df1['x_republican'], df1['x_republican_sgd'])\n",
        "display = ConfusionMatrixDisplay(cm)\n",
        "display.plot()"
      ]
    },
    {
      "cell_type": "code",
      "execution_count": 124,
      "metadata": {
        "colab": {
          "base_uri": "https://localhost:8080/"
        },
        "id": "Nw4syyvnnT0i",
        "outputId": "7cda3a1c-2fd2-45e4-cfc2-09c5171a4b6b"
      },
      "outputs": [
        {
          "output_type": "stream",
          "name": "stdout",
          "text": [
            "Precision: 0.7734375\n",
            "Recall: 1.0\n"
          ]
        }
      ],
      "source": [
        "# Precision and Recall\n",
        "from sklearn.metrics import precision_score, recall_score\n",
        "print('Precision:',precision_score(df1['x_republican'], df1['x_republican_sgd']))\n",
        "print('Recall:',recall_score(df1['x_republican'], df1['x_republican_sgd']))"
      ]
    },
    {
      "cell_type": "code",
      "execution_count": 125,
      "metadata": {
        "colab": {
          "base_uri": "https://localhost:8080/"
        },
        "id": "Naxh6c2BnT0i",
        "outputId": "56e4d95b-d3f4-49ef-8467-2e675a515ff7"
      },
      "outputs": [
        {
          "output_type": "execute_result",
          "data": {
            "text/plain": [
              "0.8722466960352423"
            ]
          },
          "metadata": {},
          "execution_count": 125
        }
      ],
      "source": [
        "#F1 score\n",
        "from sklearn.metrics import f1_score\n",
        "f1_score(df1['x_republican'],df1['x_republican_sgd'])"
      ]
    },
    {
      "cell_type": "markdown",
      "metadata": {
        "id": "B-CCoBJDnT0i"
      },
      "source": [
        "### Precision/Recall Trade Off"
      ]
    },
    {
      "cell_type": "code",
      "execution_count": 127,
      "metadata": {
        "colab": {
          "base_uri": "https://localhost:8080/",
          "height": 352
        },
        "id": "_v83uq8nnT0i",
        "outputId": "d4b7b120-1ac2-4cfe-f9f3-8c78150c4627"
      },
      "outputs": [
        {
          "output_type": "execute_result",
          "data": {
            "text/plain": [
              "(array([  4.,  37., 136., 266., 223.,  76.,  19.,   5.,   1.,   1.]),\n",
              " array([0.33243687, 0.53551084, 0.73858481, 0.94165877, 1.14473274,\n",
              "        1.34780671, 1.55088067, 1.75395464, 1.95702861, 2.16010257,\n",
              "        2.36317654]),\n",
              " <BarContainer object of 10 artists>)"
            ]
          },
          "metadata": {},
          "execution_count": 127
        },
        {
          "output_type": "display_data",
          "data": {
            "text/plain": [
              "<Figure size 432x288 with 1 Axes>"
            ],
            "image/png": "[encoded data removed]"
          },
          "metadata": {
            "needs_background": "light"
          }
        }
      ],
      "source": [
        "# scores used by SGDClassifier\n",
        "import matplotlib.pyplot as plt\n",
        "\n",
        "y_scores = sgd_clf.decision_function(df[features])\n",
        "plt.hist(y_scores) # histogram of scores"
      ]
    },
    {
      "cell_type": "code",
      "execution_count": 128,
      "metadata": {
        "colab": {
          "base_uri": "https://localhost:8080/"
        },
        "id": "_uEV-rYMnT0i",
        "outputId": "54f855f0-25b8-4dc4-80e6-ca9ad28bf395"
      },
      "outputs": [
        {
          "output_type": "execute_result",
          "data": {
            "text/plain": [
              "1.0"
            ]
          },
          "metadata": {},
          "execution_count": 128
        }
      ],
      "source": [
        "# prediction using default threshold ... \n",
        "threshold = 0\n",
        "(y_scores > threshold).mean()"
      ]
    },
    {
      "cell_type": "code",
      "execution_count": 129,
      "metadata": {
        "colab": {
          "base_uri": "https://localhost:8080/"
        },
        "id": "J3x_ViIlnT0i",
        "outputId": "4b68f77d-489f-4338-f56e-59080e97da63"
      },
      "outputs": [
        {
          "output_type": "execute_result",
          "data": {
            "text/plain": [
              "1.0"
            ]
          },
          "metadata": {},
          "execution_count": 129
        }
      ],
      "source": [
        "# ... gives default model prediction\n",
        "ypred = sgd_clf.predict(df[features])\n",
        "ypred.mean()"
      ]
    },
    {
      "cell_type": "code",
      "execution_count": 130,
      "metadata": {
        "colab": {
          "base_uri": "https://localhost:8080/"
        },
        "id": "_cU4XODvnT0i",
        "outputId": "0bbea8a1-d8e5-464f-dab1-ad2ae41ee6dc"
      },
      "outputs": [
        {
          "output_type": "execute_result",
          "data": {
            "text/plain": [
              "0.6783854166666666"
            ]
          },
          "metadata": {},
          "execution_count": 130
        }
      ],
      "source": [
        "# increasing threshold means more zeros are predicted\n",
        "threshold = 1\n",
        "(y_scores > threshold).mean()"
      ]
    },
    {
      "cell_type": "code",
      "execution_count": 131,
      "metadata": {
        "colab": {
          "base_uri": "https://localhost:8080/",
          "height": 296
        },
        "id": "EzTmCaHTnT0i",
        "outputId": "9e905e52-2aa1-428a-966b-cb8d53080f7d"
      },
      "outputs": [
        {
          "output_type": "execute_result",
          "data": {
            "text/plain": [
              "<matplotlib.legend.Legend at 0x7fbb9d8737f0>"
            ]
          },
          "metadata": {},
          "execution_count": 131
        },
        {
          "output_type": "display_data",
          "data": {
            "text/plain": [
              "<Figure size 432x288 with 1 Axes>"
            ],
            "image/png": "[encoded data removed]"
          },
          "metadata": {
            "needs_background": "light"
          }
        }
      ],
      "source": [
        "# Visualizing the precision/recall tradeoff\n",
        "y_scores = cross_val_predict(sgd_clf,\n",
        "                             df1[features],\n",
        "                             df1['x_republican'],\n",
        "                             cv=3,\n",
        "                             method='decision_function',\n",
        "                             n_jobs=3)\n",
        "\n",
        "from sklearn.metrics import precision_recall_curve\n",
        "precisions, recalls, thresholds = precision_recall_curve(df1['x_republican'], y_scores)\n",
        "\n",
        "import matplotlib.pyplot as plt\n",
        "plt.plot(thresholds, precisions[:-1], label=\"Precision\")\n",
        "plt.plot(thresholds, recalls[:-1], label=\"Recall\")\n",
        "plt.xlabel('Threshold')\n",
        "plt.legend()"
      ]
    },
    {
      "cell_type": "code",
      "execution_count": 132,
      "metadata": {
        "colab": {
          "base_uri": "https://localhost:8080/",
          "height": 296
        },
        "id": "CAolWq6nnT0j",
        "outputId": "31e4b74f-0590-4ca3-f73d-3af79e563fe0"
      },
      "outputs": [
        {
          "output_type": "execute_result",
          "data": {
            "text/plain": [
              "Text(0, 0.5, 'Precision')"
            ]
          },
          "metadata": {},
          "execution_count": 132
        },
        {
          "output_type": "display_data",
          "data": {
            "text/plain": [
              "<Figure size 432x288 with 1 Axes>"
            ],
            "image/png": "[encoded data removed]"
          },
          "metadata": {
            "needs_background": "light"
          }
        }
      ],
      "source": [
        "# Plot precision vs recall\n",
        "plt.step(recalls, precisions)\n",
        "plt.xlabel('Recall')\n",
        "plt.ylabel('Precision')"
      ]
    },
    {
      "cell_type": "code",
      "execution_count": 133,
      "metadata": {
        "colab": {
          "base_uri": "https://localhost:8080/"
        },
        "id": "RnPKm5DnnT0j",
        "outputId": "a17124c4-bb52-43ac-e988-05ad6e8d02f9"
      },
      "outputs": [
        {
          "output_type": "stream",
          "name": "stdout",
          "text": [
            "Precision for Low Threshold: 0.7734375\n",
            "Precision for High Threshold: 0.8426966292134831\n",
            "Recall for Low Threshold: 1.0\n",
            "Recall for High Threshold: 0.8838383838383839\n"
          ]
        }
      ],
      "source": [
        "# Assessing other scoring thresholds\n",
        "ypred_lower = y_scores > -1\n",
        "ypred_higher = y_scores > 1\n",
        "\n",
        "print('Precision for Low Threshold:',precision_score(y, ypred_lower))\n",
        "print('Precision for High Threshold:',precision_score(y, ypred_higher))\n",
        "print('Recall for Low Threshold:',recall_score(y, ypred_lower))\n",
        "print('Recall for High Threshold:',recall_score(y, ypred_higher))"
      ]
    },
    {
      "cell_type": "code",
      "execution_count": 134,
      "metadata": {
        "colab": {
          "base_uri": "https://localhost:8080/",
          "height": 296
        },
        "id": "2Kcq891snT0j",
        "outputId": "e574308d-ac96-44b1-f7c3-e9b73aae466f"
      },
      "outputs": [
        {
          "output_type": "execute_result",
          "data": {
            "text/plain": [
              "Text(0, 0.5, 'True Positive Rate')"
            ]
          },
          "metadata": {},
          "execution_count": 134
        },
        {
          "output_type": "display_data",
          "data": {
            "text/plain": [
              "<Figure size 432x288 with 1 Axes>"
            ],
            "image/png": "[encoded data removed]"
          },
          "metadata": {
            "needs_background": "light"
          }
        }
      ],
      "source": [
        "# ROC Curve\n",
        "from sklearn.metrics import roc_curve\n",
        "fpr, tpr, thresholds = roc_curve(y, y_scores)\n",
        "plt.plot(fpr, tpr)\n",
        "plt.plot([0,1],[0,1],'k--')\n",
        "plt.xlabel('False Positive Rate')\n",
        "plt.ylabel('True Positive Rate')"
      ]
    },
    {
      "cell_type": "code",
      "execution_count": 135,
      "metadata": {
        "colab": {
          "base_uri": "https://localhost:8080/"
        },
        "id": "YvzS6HCdnT0j",
        "outputId": "ef2e32b9-5363-455b-f1dc-3e7a573e5965"
      },
      "outputs": [
        {
          "output_type": "execute_result",
          "data": {
            "text/plain": [
              "0.6859108324625566"
            ]
          },
          "metadata": {},
          "execution_count": 135
        }
      ],
      "source": [
        "# AUC\n",
        "from sklearn.metrics import roc_auc_score\n",
        "roc_auc_score(y, y_scores)"
      ]
    },
    {
      "cell_type": "code",
      "execution_count": 137,
      "metadata": {
        "colab": {
          "base_uri": "https://localhost:8080/",
          "height": 282
        },
        "id": "s8GS_zLFnT0j",
        "outputId": "8cc46596-c3ab-43ce-8a32-04c5437f45cf"
      },
      "outputs": [
        {
          "output_type": "execute_result",
          "data": {
            "text/plain": [
              "<matplotlib.legend.Legend at 0x7fbbb5d4c7f0>"
            ]
          },
          "metadata": {},
          "execution_count": 137
        },
        {
          "output_type": "display_data",
          "data": {
            "text/plain": [
              "<Figure size 432x288 with 1 Axes>"
            ],
            "image/png": "[encoded data removed]"
          },
          "metadata": {
            "needs_background": "light"
          }
        }
      ],
      "source": [
        "# Random Forests and predict_proba()\n",
        "from sklearn.ensemble import RandomForestClassifier\n",
        "rfc = RandomForestClassifier()\n",
        "X500 = np.array(X500)\n",
        "y_probas_rfc = cross_val_predict(rfc,\n",
        "                                 X500,\n",
        "                                 y,\n",
        "                                 cv=3,\n",
        "                                 method='predict_proba',\n",
        "                                 n_jobs=3)\n",
        "\n",
        "y_scores_rfc = y_probas_rfc[:,1]\n",
        "fpr_rfc, tpr_rfc, thresholds_rfc = roc_curve(y,y_scores_rfc) \n",
        "\n",
        "# compare precision/recall tradeoff for SGD and RF classifiers\n",
        "plt.plot(fpr, tpr, label=\"SGD\")\n",
        "plt.plot(fpr_rfc, tpr_rfc, label=\"RF\")\n",
        "plt.legend()"
      ]
    },
    {
      "cell_type": "code",
      "execution_count": 138,
      "metadata": {
        "colab": {
          "base_uri": "https://localhost:8080/"
        },
        "id": "yu9z7fJQnT0j",
        "outputId": "53acc303-5068-4ce1-d084-ab3751db757d"
      },
      "outputs": [
        {
          "output_type": "execute_result",
          "data": {
            "text/plain": [
              "0.9004170053020628"
            ]
          },
          "metadata": {},
          "execution_count": 138
        }
      ],
      "source": [
        "roc_auc_score(y,y_scores_rfc)"
      ]
    },
    {
      "cell_type": "markdown",
      "metadata": {
        "id": "QgrDNy-hnT0j"
      },
      "source": [
        "## Multinomial Classification"
      ]
    },
    {
      "cell_type": "code",
      "execution_count": 139,
      "metadata": {
        "colab": {
          "base_uri": "https://localhost:8080/"
        },
        "id": "NPkf_MI2nT0j",
        "outputId": "93bcd9e6-93df-4e4f-ad12-46ffdc6c2531"
      },
      "outputs": [
        {
          "output_type": "stream",
          "name": "stdout",
          "text": [
            "0.203125\n"
          ]
        },
        {
          "output_type": "execute_result",
          "data": {
            "text/plain": [
              "[('GINSBURG', 'GINSBURG'),\n",
              " ('STEVENS', 'STEVENS'),\n",
              " (\"O'CONNOR\", 'KENNEDY'),\n",
              " ('KENNEDY', 'SOUTER'),\n",
              " ('KENNEDY', 'KENNEDY'),\n",
              " ('SOUTER', 'SOUTER'),\n",
              " ('BREYER', 'BREYER'),\n",
              " ('GINSBURG', 'THOMAS')]"
            ]
          },
          "metadata": {},
          "execution_count": 139
        }
      ],
      "source": [
        "author = df['authorship']\n",
        "authpred = cross_val_predict(sgd_clf,\n",
        "                              X500,\n",
        "                              author,\n",
        "                              cv=7)\n",
        "print((authpred == author).mean())\n",
        "list(zip(author[:8],authpred[:8]))"
      ]
    },
    {
      "cell_type": "code",
      "execution_count": 140,
      "metadata": {
        "colab": {
          "base_uri": "https://localhost:8080/",
          "height": 275
        },
        "id": "4sbE8SygnT0j",
        "outputId": "8bcea3e3-c811-4bcc-c67a-82f11f66ad46"
      },
      "outputs": [
        {
          "output_type": "display_data",
          "data": {
            "text/plain": [
              "<Figure size 288x288 with 1 Axes>"
            ],
            "image/png": "[encoded data removed]"
          },
          "metadata": {
            "needs_background": "light"
          }
        }
      ],
      "source": [
        "# Multi-class confusion matrix\n",
        "conf_mx = confusion_matrix(author,authpred)\n",
        "conf_mx\n",
        "plt.matshow(conf_mx)\n",
        "plt.show()"
      ]
    },
    {
      "cell_type": "code",
      "execution_count": 141,
      "metadata": {
        "colab": {
          "base_uri": "https://localhost:8080/",
          "height": 292
        },
        "id": "kGQDlD4FnT0k",
        "outputId": "fbb7a46f-5ea8-4a88-f21e-5c91d8a4b2e0"
      },
      "outputs": [
        {
          "output_type": "execute_result",
          "data": {
            "text/plain": [
              "<matplotlib.image.AxesImage at 0x7fbbc187a580>"
            ]
          },
          "metadata": {},
          "execution_count": 141
        },
        {
          "output_type": "display_data",
          "data": {
            "text/plain": [
              "<Figure size 288x288 with 1 Axes>"
            ],
            "image/png": "[encoded data removed]"
          },
          "metadata": {
            "needs_background": "light"
          }
        }
      ],
      "source": [
        "# normalize colors\n",
        "conf_mx_norm = conf_mx / conf_mx.sum(axis=1, keepdims=True)\n",
        "plt.matshow(conf_mx_norm)"
      ]
    },
    {
      "cell_type": "markdown",
      "metadata": {
        "id": "a0zwti_6nT0k"
      },
      "source": [
        "## Multinomial Logistic"
      ]
    },
    {
      "cell_type": "code",
      "execution_count": 142,
      "metadata": {
        "colab": {
          "base_uri": "https://localhost:8080/"
        },
        "id": "SALdQhYcnT0k",
        "outputId": "6a550faf-431c-4293-a997-212d938005cd"
      },
      "outputs": [
        {
          "output_type": "execute_result",
          "data": {
            "text/plain": [
              "(0.09765625, 0.01390244564066577)"
            ]
          },
          "metadata": {},
          "execution_count": 142
        }
      ],
      "source": [
        "\n",
        "from sklearn.linear_model import LogisticRegression\n",
        "logistic = LogisticRegression(C=1, # default L2 penalty # .01, .1, 1, 2, 10\n",
        "                              class_weight='balanced')\n",
        "\n",
        "scores = cross_val_score(logistic,\n",
        "                         Xscale[:1000],\n",
        "                         author[:1000],\n",
        "                         cv=3,\n",
        "                         n_jobs=3)\n",
        "\n",
        "scores.mean(), scores.std()"
      ]
    },
    {
      "cell_type": "markdown",
      "metadata": {
        "id": "kATN_McjnT0k"
      },
      "source": [
        "# Ensemble Learning"
      ]
    },
    {
      "cell_type": "code",
      "execution_count": 143,
      "metadata": {
        "colab": {
          "base_uri": "https://localhost:8080/"
        },
        "id": "zoFwoaUznT0k",
        "outputId": "2b9a882c-a50a-45b4-f459-dc81f32199b8"
      },
      "outputs": [
        {
          "output_type": "execute_result",
          "data": {
            "text/plain": [
              "0.7981750275867923"
            ]
          },
          "metadata": {},
          "execution_count": 143
        }
      ],
      "source": [
        "Y = df1['x_republican'] > 0\n",
        "\n",
        "# Bagging classifier\n",
        "\n",
        "from sklearn.ensemble import BaggingClassifier\n",
        "from sklearn.tree import DecisionTreeClassifier\n",
        "\n",
        "bag_clf = BaggingClassifier(\n",
        "        DecisionTreeClassifier(), n_estimators=50,\n",
        "        max_samples=100, bootstrap=True, n_jobs=-1\n",
        "    )\n",
        "\n",
        "cross_val_score(bag_clf, X500, Y).mean()"
      ]
    },
    {
      "cell_type": "code",
      "execution_count": 144,
      "metadata": {
        "colab": {
          "base_uri": "https://localhost:8080/"
        },
        "id": "TxezAGm-nT0k",
        "outputId": "42ca486c-336f-4e97-d444-21effc726d0d"
      },
      "outputs": [
        {
          "output_type": "execute_result",
          "data": {
            "text/plain": [
              "array([[  2, 172],\n",
              "       [  0, 594]])"
            ]
          },
          "metadata": {},
          "execution_count": 144
        }
      ],
      "source": [
        "# random forest\n",
        "from sklearn.ensemble import RandomForestClassifier\n",
        "rnd_clf = RandomForestClassifier(n_estimators=500, \n",
        "                                 max_leaf_nodes=16, \n",
        "                                 n_jobs=-1)\n",
        "y_pred_rf = cross_val_predict(rnd_clf, X500, Y)                              \n",
        "confusion_matrix(Y,y_pred_rf)"
      ]
    },
    {
      "cell_type": "code",
      "execution_count": 147,
      "metadata": {
        "colab": {
          "base_uri": "https://localhost:8080/"
        },
        "id": "bFoYTSXjnT0k",
        "outputId": "0eaac099-dd8a-47e7-b951-94bb39702efa"
      },
      "outputs": [
        {
          "output_type": "execute_result",
          "data": {
            "text/plain": [
              "[(0.0029693369881508783, 'o'),\n",
              " (0.0022265739753957138, 'r'),\n",
              " (0.0012607091278753317, 'y'),\n",
              " (0.00034628666033669533, 'k')]"
            ]
          },
          "metadata": {},
          "execution_count": 147
        }
      ],
      "source": [
        "rnd_clf.fit(X500,Y)\n",
        "feature_importances = rnd_clf.feature_importances_\n",
        "sorted(zip(feature_importances, word), reverse=True)"
      ]
    },
    {
      "cell_type": "code",
      "execution_count": 146,
      "metadata": {
        "colab": {
          "base_uri": "https://localhost:8080/"
        },
        "id": "BQuy7B3DnT0k",
        "outputId": "a169ff79-0447-4ec3-8226-9952c67ca386"
      },
      "outputs": [
        {
          "output_type": "execute_result",
          "data": {
            "text/plain": [
              "0.8749681690858161"
            ]
          },
          "metadata": {},
          "execution_count": 146
        }
      ],
      "source": [
        "# XGBoost\n",
        "from xgboost import XGBClassifier, XGBRegressor\n",
        "dfX = pd.DataFrame(X500,columns=vocab)\n",
        "xgb_clf = XGBClassifier()\n",
        "cross_val_score(xgb_clf, dfX, Y).mean()"
      ]
    },
    {
      "cell_type": "code",
      "execution_count": 148,
      "metadata": {
        "colab": {
          "base_uri": "https://localhost:8080/"
        },
        "id": "iw7wCloHnT0k",
        "outputId": "52cd1f33-fc0a-4be4-d33a-7c03a2861cec"
      },
      "outputs": [
        {
          "output_type": "stream",
          "name": "stdout",
          "text": [
            "[15:31:19] WARNING: ../src/learner.cc:767: \n",
            "Parameters: { \"feature_names\" } are not used.\n",
            "\n"
          ]
        },
        {
          "output_type": "execute_result",
          "data": {
            "text/plain": [
              "[(0.033571474, 'analysis'),\n",
              " (0.031830106, 'new york'),\n",
              " (0.029660394, 'granted certiorari'),\n",
              " (0.026276007, 'sought'),\n",
              " (0.025258558, 'related'),\n",
              " (0.023935124, 'stated'),\n",
              " (0.023086436, 'internal quotation'),\n",
              " (0.021765428, 'require'),\n",
              " (0.021112507, 'light'),\n",
              " (0.021009019, 'added')]"
            ]
          },
          "metadata": {},
          "execution_count": 148
        }
      ],
      "source": [
        "xgb_reg = XGBRegressor(feature_names=vocab)\n",
        "xgb_reg.fit(dfX,Y)\n",
        "sorted(zip(xgb_reg.feature_importances_, vocab),reverse=True)[:10]"
      ]
    },
    {
      "cell_type": "code",
      "execution_count": 149,
      "metadata": {
        "colab": {
          "base_uri": "https://localhost:8080/",
          "height": 312
        },
        "id": "bOB2PJnrnT0k",
        "outputId": "b9f50942-a0ea-41a4-8cff-5e80bc70b572"
      },
      "outputs": [
        {
          "output_type": "execute_result",
          "data": {
            "text/plain": [
              "<AxesSubplot:title={'center':'Feature importance'}, xlabel='F score', ylabel='Features'>"
            ]
          },
          "metadata": {},
          "execution_count": 149
        },
        {
          "output_type": "display_data",
          "data": {
            "text/plain": [
              "<Figure size 432x288 with 1 Axes>"
            ],
            "image/png": "[encoded data removed]"
          },
          "metadata": {
            "needs_background": "light"
          }
        }
      ],
      "source": [
        "from xgboost import plot_importance\n",
        "plot_importance(xgb_reg, max_num_features=20)"
      ]
    },
    {
      "cell_type": "markdown",
      "metadata": {
        "id": "TrvGu2BQnT0l"
      },
      "source": [
        "## Keras MLP \n",
        "\n",
        "For more information about keras, have a look [here](https://keras.io/)."
      ]
    },
    {
      "cell_type": "markdown",
      "metadata": {
        "id": "HIs_CniwnT0l"
      },
      "source": [
        "**Classification**"
      ]
    },
    {
      "cell_type": "code",
      "execution_count": 172,
      "metadata": {
        "ExecuteTime": {
          "end_time": "2022-03-25T09:30:00.479430Z",
          "start_time": "2022-03-25T09:29:49.094413Z"
        },
        "colab": {
          "base_uri": "https://localhost:8080/"
        },
        "id": "4RU81N7YnT0l",
        "outputId": "7ac9b05d-5ce5-4741-b65b-54d376d0a599"
      },
      "outputs": [
        {
          "output_type": "execute_result",
          "data": {
            "text/plain": [
              "(768, 1000)"
            ]
          },
          "metadata": {},
          "execution_count": 172
        }
      ],
      "source": [
        "# setup\n",
        "%matplotlib notebook\n",
        "# set this to your working directory\n",
        "\n",
        "import pandas as pd\n",
        "import numpy as np\n",
        "import matplotlib.pyplot as plt\n",
        "\n",
        "df = pd.read_pickle('sc_cases_cleaned.pkl',compression='gzip')\n",
        "df=df.reset_index(drop=True)\n",
        "from sklearn.feature_extraction.text import CountVectorizer\n",
        "vectorizer = CountVectorizer(min_df=0.01, # at min 1% of docs\n",
        "                        max_df=.9,  \n",
        "                        max_features=1000,\n",
        "                        stop_words='english',\n",
        "                        ngram_range=(1,3))\n",
        "X = vectorizer.fit_transform(df['opinion_text'])\n",
        "pd.to_pickle(X,'X.pkl')\n",
        "vocab = vectorizer.get_feature_names_out()\n",
        "pd.to_pickle(vocab,'vocab.pkl')\n",
        "Y = df['x_republican']\n",
        "\n",
        "X.shape"
      ]
    },
    {
      "cell_type": "code",
      "execution_count": 174,
      "metadata": {
        "ExecuteTime": {
          "end_time": "2022-03-25T07:43:15.271017Z",
          "start_time": "2022-03-25T07:43:15.245241Z"
        },
        "colab": {
          "base_uri": "https://localhost:8080/",
          "height": 652
        },
        "id": "gsSVnO1ynT0l",
        "outputId": "0c98842c-fa3c-490e-ec53-266c3c57acf5"
      },
      "outputs": [
        {
          "output_type": "execute_result",
          "data": {
            "text/plain": [
              "                                           case_name opinion_type  \\\n",
              "0                ERICK CORNELL CLAY v. UNITED STATES     majority   \n",
              "1  HILLSIDE DAIRY INC., A&A DAIRY, L&S DAIRY, AND...     majority   \n",
              "2    CHARLES RUSSELL RHINES v. DOUGLAS WEBER, WARDEN     majority   \n",
              "3        STATE OF ALASKA v. UNITED STATES OF AMERICA     majority   \n",
              "4  REGINALD A. WILKINSON, DIRECTOR, OHIO DEPARTME...     majority   \n",
              "\n",
              "  date_standard authorship  x_republican  \\\n",
              "0    2003-03-04   GINSBURG           0.0   \n",
              "1    2003-06-09    STEVENS           1.0   \n",
              "2    2005-03-30   O'CONNOR           1.0   \n",
              "3    2005-06-06    KENNEDY           1.0   \n",
              "4    2005-06-13    KENNEDY           1.0   \n",
              "\n",
              "                                          maj_judges  \\\n",
              "0  ['BREYER, STEPHEN', 'GINSBURG, RUTH', 'KENNEDY...   \n",
              "1  ['BREYER, STEPHEN', 'GINSBURG, RUTH', 'KENNEDY...   \n",
              "2  ['BREYER, STEPHEN', 'GINSBURG, RUTH', 'KENNEDY...   \n",
              "3  ['BREYER, STEPHEN', 'GINSBURG, RUTH', 'KENNEDY...   \n",
              "4  ['BREYER, STEPHEN', 'GINSBURG, RUTH', 'KENNEDY...   \n",
              "\n",
              "                                      dissent_judges  topic_id  cite_count  \\\n",
              "0                                                 []       1.0      2926.0   \n",
              "1                               ['THOMAS, CLARENCE']       8.0       117.0   \n",
              "2                                                 []       1.0     23364.0   \n",
              "3  ['REHNQUIST, WILLIAM', 'SCALIA, ANTONIN', 'THO...      10.0        84.0   \n",
              "4                                                 []       4.0      4230.0   \n",
              "\n",
              "                                        opinion_text  year  log_cite_count  \n",
              "0  JUSTICE GINSBURG delivered the opinion of the ...  2003        7.981392  \n",
              "1  Justice Stevens delivered the opinion of the C...  2003        4.762174  \n",
              "2  Justice O'Connor delivered the opinion of the ...  2005       10.058952  \n",
              "3  Justice Kennedy delivered the opinion of the C...  2005        4.430817  \n",
              "4  Justice Kennedy delivered the opinion of the C...  2005        8.349957  "
            ],
            "text/html": [
              "\n",
              "  <div id=\"df-df13811e-3e4c-4699-b357-f4235fdc88ec\">\n",
              "    <div class=\"colab-df-container\">\n",
              "      <div>\n",
              "<style scoped>\n",
              "    .dataframe tbody tr th:only-of-type {\n",
              "        vertical-align: middle;\n",
              "    }\n",
              "\n",
              "    .dataframe tbody tr th {\n",
              "        vertical-align: top;\n",
              "    }\n",
              "\n",
              "    .dataframe thead th {\n",
              "        text-align: right;\n",
              "    }\n",
              "</style>\n",
              "<table border=\"1\" class=\"dataframe\">\n",
              "  <thead>\n",
              "    <tr style=\"text-align: right;\">\n",
              "      <th></th>\n",
              "      <th>case_name</th>\n",
              "      <th>opinion_type</th>\n",
              "      <th>date_standard</th>\n",
              "      <th>authorship</th>\n",
              "      <th>x_republican</th>\n",
              "      <th>maj_judges</th>\n",
              "      <th>dissent_judges</th>\n",
              "      <th>topic_id</th>\n",
              "      <th>cite_count</th>\n",
              "      <th>opinion_text</th>\n",
              "      <th>year</th>\n",
              "      <th>log_cite_count</th>\n",
              "    </tr>\n",
              "  </thead>\n",
              "  <tbody>\n",
              "    <tr>\n",
              "      <th>0</th>\n",
              "      <td>ERICK CORNELL CLAY v. UNITED STATES</td>\n",
              "      <td>majority</td>\n",
              "      <td>2003-03-04</td>\n",
              "      <td>GINSBURG</td>\n",
              "      <td>0.0</td>\n",
              "      <td>['BREYER, STEPHEN', 'GINSBURG, RUTH', 'KENNEDY...</td>\n",
              "      <td>[]</td>\n",
              "      <td>1.0</td>\n",
              "      <td>2926.0</td>\n",
              "      <td>JUSTICE GINSBURG delivered the opinion of the ...</td>\n",
              "      <td>2003</td>\n",
              "      <td>7.981392</td>\n",
              "    </tr>\n",
              "    <tr>\n",
              "      <th>1</th>\n",
              "      <td>HILLSIDE DAIRY INC., A&amp;A DAIRY, L&amp;S DAIRY, AND...</td>\n",
              "      <td>majority</td>\n",
              "      <td>2003-06-09</td>\n",
              "      <td>STEVENS</td>\n",
              "      <td>1.0</td>\n",
              "      <td>['BREYER, STEPHEN', 'GINSBURG, RUTH', 'KENNEDY...</td>\n",
              "      <td>['THOMAS, CLARENCE']</td>\n",
              "      <td>8.0</td>\n",
              "      <td>117.0</td>\n",
              "      <td>Justice Stevens delivered the opinion of the C...</td>\n",
              "      <td>2003</td>\n",
              "      <td>4.762174</td>\n",
              "    </tr>\n",
              "    <tr>\n",
              "      <th>2</th>\n",
              "      <td>CHARLES RUSSELL RHINES v. DOUGLAS WEBER, WARDEN</td>\n",
              "      <td>majority</td>\n",
              "      <td>2005-03-30</td>\n",
              "      <td>O'CONNOR</td>\n",
              "      <td>1.0</td>\n",
              "      <td>['BREYER, STEPHEN', 'GINSBURG, RUTH', 'KENNEDY...</td>\n",
              "      <td>[]</td>\n",
              "      <td>1.0</td>\n",
              "      <td>23364.0</td>\n",
              "      <td>Justice O'Connor delivered the opinion of the ...</td>\n",
              "      <td>2005</td>\n",
              "      <td>10.058952</td>\n",
              "    </tr>\n",
              "    <tr>\n",
              "      <th>3</th>\n",
              "      <td>STATE OF ALASKA v. UNITED STATES OF AMERICA</td>\n",
              "      <td>majority</td>\n",
              "      <td>2005-06-06</td>\n",
              "      <td>KENNEDY</td>\n",
              "      <td>1.0</td>\n",
              "      <td>['BREYER, STEPHEN', 'GINSBURG, RUTH', 'KENNEDY...</td>\n",
              "      <td>['REHNQUIST, WILLIAM', 'SCALIA, ANTONIN', 'THO...</td>\n",
              "      <td>10.0</td>\n",
              "      <td>84.0</td>\n",
              "      <td>Justice Kennedy delivered the opinion of the C...</td>\n",
              "      <td>2005</td>\n",
              "      <td>4.430817</td>\n",
              "    </tr>\n",
              "    <tr>\n",
              "      <th>4</th>\n",
              "      <td>REGINALD A. WILKINSON, DIRECTOR, OHIO DEPARTME...</td>\n",
              "      <td>majority</td>\n",
              "      <td>2005-06-13</td>\n",
              "      <td>KENNEDY</td>\n",
              "      <td>1.0</td>\n",
              "      <td>['BREYER, STEPHEN', 'GINSBURG, RUTH', 'KENNEDY...</td>\n",
              "      <td>[]</td>\n",
              "      <td>4.0</td>\n",
              "      <td>4230.0</td>\n",
              "      <td>Justice Kennedy delivered the opinion of the C...</td>\n",
              "      <td>2005</td>\n",
              "      <td>8.349957</td>\n",
              "    </tr>\n",
              "  </tbody>\n",
              "</table>\n",
              "</div>\n",
              "      <button class=\"colab-df-convert\" onclick=\"convertToInteractive('df-df13811e-3e4c-4699-b357-f4235fdc88ec')\"\n",
              "              title=\"Convert this dataframe to an interactive table.\"\n",
              "              style=\"display:none;\">\n",
              "        \n",
              "  <svg xmlns=\"http://www.w3.org/2000/svg\" height=\"24px\"viewBox=\"0 0 24 24\"\n",
              "       width=\"24px\">\n",
              "    <path d=\"M0 0h24v24H0V0z\" fill=\"none\"/>\n",
              "    <path d=\"M18.56 5.44l.94 2.06.94-2.06 2.06-.94-2.06-.94-.94-2.06-.94 2.06-2.06.94zm-11 1L8.5 8.5l.94-2.06 2.06-.94-2.06-.94L8.5 2.5l-.94 2.06-2.06.94zm10 10l.94 2.06.94-2.06 2.06-.94-2.06-.94-.94-2.06-.94 2.06-2.06.94z\"/><path d=\"M17.41 7.96l-1.37-1.37c-.4-.4-.92-.59-1.43-.59-.52 0-1.04.2-1.43.59L10.3 9.45l-7.72 7.72c-.78.78-.78 2.05 0 2.83L4 21.41c.39.39.9.59 1.41.59.51 0 1.02-.2 1.41-.59l7.78-7.78 2.81-2.81c.8-.78.8-2.07 0-2.86zM5.41 20L4 18.59l7.72-7.72 1.47 1.35L5.41 20z\"/>\n",
              "  </svg>\n",
              "      </button>\n",
              "      \n",
              "  <style>\n",
              "    .colab-df-container {\n",
              "      display:flex;\n",
              "      flex-wrap:wrap;\n",
              "      gap: 12px;\n",
              "    }\n",
              "\n",
              "    .colab-df-convert {\n",
              "      background-color: #E8F0FE;\n",
              "      border: none;\n",
              "      border-radius: 50%;\n",
              "      cursor: pointer;\n",
              "      display: none;\n",
              "      fill: #1967D2;\n",
              "      height: 32px;\n",
              "      padding: 0 0 0 0;\n",
              "      width: 32px;\n",
              "    }\n",
              "\n",
              "    .colab-df-convert:hover {\n",
              "      background-color: #E2EBFA;\n",
              "      box-shadow: 0px 1px 2px rgba(60, 64, 67, 0.3), 0px 1px 3px 1px rgba(60, 64, 67, 0.15);\n",
              "      fill: #174EA6;\n",
              "    }\n",
              "\n",
              "    [theme=dark] .colab-df-convert {\n",
              "      background-color: #3B4455;\n",
              "      fill: #D2E3FC;\n",
              "    }\n",
              "\n",
              "    [theme=dark] .colab-df-convert:hover {\n",
              "      background-color: #434B5C;\n",
              "      box-shadow: 0px 1px 3px 1px rgba(0, 0, 0, 0.15);\n",
              "      filter: drop-shadow(0px 1px 2px rgba(0, 0, 0, 0.3));\n",
              "      fill: #FFFFFF;\n",
              "    }\n",
              "  </style>\n",
              "\n",
              "      <script>\n",
              "        const buttonEl =\n",
              "          document.querySelector('#df-df13811e-3e4c-4699-b357-f4235fdc88ec button.colab-df-convert');\n",
              "        buttonEl.style.display =\n",
              "          google.colab.kernel.accessAllowed ? 'block' : 'none';\n",
              "\n",
              "        async function convertToInteractive(key) {\n",
              "          const element = document.querySelector('#df-df13811e-3e4c-4699-b357-f4235fdc88ec');\n",
              "          const dataTable =\n",
              "            await google.colab.kernel.invokeFunction('convertToInteractive',\n",
              "                                                     [key], {});\n",
              "          if (!dataTable) return;\n",
              "\n",
              "          const docLinkHtml = 'Like what you see? Visit the ' +\n",
              "            '<a target=\"_blank\" href=https://colab.research.google.com/notebooks/data_table.ipynb>data table notebook</a>'\n",
              "            + ' to learn more about interactive tables.';\n",
              "          element.innerHTML = '';\n",
              "          dataTable['output_type'] = 'display_data';\n",
              "          await google.colab.output.renderOutput(dataTable, element);\n",
              "          const docLink = document.createElement('div');\n",
              "          docLink.innerHTML = docLinkHtml;\n",
              "          element.appendChild(docLink);\n",
              "        }\n",
              "      </script>\n",
              "    </div>\n",
              "  </div>\n",
              "  "
            ]
          },
          "metadata": {},
          "execution_count": 174
        }
      ],
      "source": [
        "df.head()"
      ]
    },
    {
      "cell_type": "code",
      "execution_count": 175,
      "metadata": {
        "ExecuteTime": {
          "end_time": "2022-03-25T07:45:21.251269Z",
          "start_time": "2022-03-25T07:45:21.209655Z"
        },
        "colab": {
          "base_uri": "https://localhost:8080/"
        },
        "id": "nQFr-JwpnT0l",
        "outputId": "435eac09-a793-42d4-ade2-6abae28c44a9"
      },
      "outputs": [
        {
          "output_type": "stream",
          "name": "stdout",
          "text": [
            "Model: \"sequential_3\"\n",
            "_________________________________________________________________\n",
            " Layer (type)                Output Shape              Param #   \n",
            "=================================================================\n",
            " dense_9 (Dense)             (None, 50)                50050     \n",
            "                                                                 \n",
            " dense_10 (Dense)            (None, 50)                2550      \n",
            "                                                                 \n",
            " dense_11 (Dense)            (None, 1)                 51        \n",
            "                                                                 \n",
            "=================================================================\n",
            "Total params: 52,651\n",
            "Trainable params: 52,651\n",
            "Non-trainable params: 0\n",
            "_________________________________________________________________\n"
          ]
        }
      ],
      "source": [
        "# Getting started with Keras\n",
        "from keras.models import Sequential\n",
        "from keras.layers import Dense\n",
        "\n",
        "model = Sequential() # create a sequential model\n",
        "model.add(Dense(50, # output neurons in layer       \n",
        "          input_dim=X.shape[1], # number of inputs\n",
        "          activation='relu')) # activation function\n",
        "model.add(Dense(50, activation='relu')) # hidden layer\n",
        "model.add(Dense(1, activation='sigmoid')) # output layer\n",
        "model.summary()"
      ]
    },
    {
      "cell_type": "code",
      "execution_count": 176,
      "metadata": {
        "ExecuteTime": {
          "end_time": "2022-03-25T07:45:28.231996Z",
          "start_time": "2022-03-25T07:45:25.800209Z"
        },
        "colab": {
          "base_uri": "https://localhost:8080/",
          "height": 474
        },
        "id": "l5MTUDxJnT0l",
        "outputId": "cc626565-a827-46d6-b5d1-3cd2652fa71e"
      },
      "outputs": [
        {
          "output_type": "stream",
          "name": "stdout",
          "text": [
            "Looking in indexes: https://pypi.org/simple, https://us-python.pkg.dev/colab-wheels/public/simple/\n",
            "Requirement already satisfied: pydot in /usr/local/lib/python3.9/dist-packages (1.3.0)\n",
            "Requirement already satisfied: pyparsing>=2.1.4 in /usr/local/lib/python3.9/dist-packages (from pydot) (3.0.9)\n"
          ]
        },
        {
          "output_type": "execute_result",
          "data": {
            "image/png": "[encoded data removed]",
            "text/plain": [
              "<IPython.core.display.Image object>"
            ]
          },
          "metadata": {},
          "execution_count": 176
        }
      ],
      "source": [
        "# Visualize a model\n",
        "\n",
        "# Requires graphviz!\n",
        "\n",
        "!pip install pydot\n",
        "from IPython.display import SVG\n",
        "from keras.utils.vis_utils import plot_model\n",
        "plot_model(model, to_file='model_plot.png', show_shapes=True, show_layer_names=True)"
      ]
    },
    {
      "cell_type": "code",
      "execution_count": 177,
      "metadata": {
        "ExecuteTime": {
          "end_time": "2022-03-25T07:45:31.681104Z",
          "start_time": "2022-03-25T07:45:31.655072Z"
        },
        "id": "R-J99HyPnT0l"
      },
      "outputs": [],
      "source": [
        "# fit the model\n",
        "model.compile(loss='binary_crossentropy', # cost function\n",
        "              optimizer='adam', # use adam as the optimizer\n",
        "              metrics=['accuracy']) # compute accuracy, for scoring"
      ]
    },
    {
      "cell_type": "code",
      "execution_count": 178,
      "metadata": {
        "ExecuteTime": {
          "end_time": "2022-03-25T07:45:33.809049Z",
          "start_time": "2022-03-25T07:45:32.644042Z"
        },
        "colab": {
          "base_uri": "https://localhost:8080/"
        },
        "id": "nPJJU190nT0l",
        "outputId": "91628370-2319-47dd-fcd2-476c8b023522"
      },
      "outputs": [
        {
          "output_type": "stream",
          "name": "stdout",
          "text": [
            "Epoch 1/5\n",
            "20/20 [==============================] - 1s 16ms/step - loss: 1.0955 - accuracy: 0.6759 - val_loss: 0.5690 - val_accuracy: 0.7338\n",
            "Epoch 2/5\n",
            "20/20 [==============================] - 0s 11ms/step - loss: 0.3578 - accuracy: 0.8436 - val_loss: 0.4861 - val_accuracy: 0.7727\n",
            "Epoch 3/5\n",
            "20/20 [==============================] - 0s 14ms/step - loss: 0.1980 - accuracy: 0.9365 - val_loss: 0.4483 - val_accuracy: 0.7792\n",
            "Epoch 4/5\n",
            "20/20 [==============================] - 0s 11ms/step - loss: 0.1233 - accuracy: 0.9756 - val_loss: 0.4739 - val_accuracy: 0.7922\n",
            "Epoch 5/5\n",
            "20/20 [==============================] - 0s 13ms/step - loss: 0.0751 - accuracy: 0.9902 - val_loss: 0.4515 - val_accuracy: 0.8117\n"
          ]
        }
      ],
      "source": [
        "model_info = model.fit(X.todense(), Y, \n",
        "                      epochs=5,\n",
        "                      validation_split=.2)"
      ]
    },
    {
      "cell_type": "code",
      "execution_count": 179,
      "metadata": {
        "ExecuteTime": {
          "end_time": "2022-03-25T07:45:40.681579Z",
          "start_time": "2022-03-25T07:45:40.660150Z"
        },
        "colab": {
          "base_uri": "https://localhost:8080/"
        },
        "id": "3OfEQTVRnT0l",
        "outputId": "7fc37b53-84de-48ce-be27-3bd9e5ef8bfc"
      },
      "outputs": [
        {
          "output_type": "execute_result",
          "data": {
            "text/plain": [
              "[array([[-0.0349092 ,  0.01918373, -0.00807228, ..., -0.07422383,\n",
              "         -0.02415457, -0.00839613],\n",
              "        [-0.00464767,  0.0620629 , -0.04848541, ...,  0.00351014,\n",
              "         -0.03372635, -0.0142856 ],\n",
              "        [-0.06615455, -0.01116724, -0.04963336, ..., -0.05214065,\n",
              "          0.06335019,  0.04270334],\n",
              "        ...,\n",
              "        [ 0.03423953, -0.01405295, -0.08527194, ..., -0.01049562,\n",
              "         -0.00487138,  0.02797806],\n",
              "        [ 0.0534591 ,  0.0344811 ,  0.0419445 , ...,  0.05135473,\n",
              "         -0.03502513, -0.02852994],\n",
              "        [-0.03497391, -0.05665093,  0.03792141, ...,  0.04729334,\n",
              "          0.05064217,  0.02267743]], dtype=float32),\n",
              " array([-2.40681134e-03,  2.83702021e-03,  6.30038138e-03,  4.20981366e-03,\n",
              "        -6.43596379e-03, -2.72791856e-03,  3.46907414e-03, -1.31723359e-02,\n",
              "        -2.84948340e-03,  6.84115151e-03,  8.65409244e-03,  3.30262398e-03,\n",
              "        -7.17477035e-03, -6.46865787e-03,  9.96417180e-03, -2.62982980e-03,\n",
              "        -2.88982294e-03,  7.51355477e-03, -9.47074313e-03,  4.45331447e-03,\n",
              "        -5.13977744e-03, -5.13780629e-03, -8.62191990e-03, -6.31699059e-03,\n",
              "         6.35655923e-03, -7.67143269e-04, -4.41937009e-03,  1.57813337e-02,\n",
              "         2.45007267e-03,  1.32550355e-02, -7.46215181e-03,  6.18748879e-03,\n",
              "        -6.80737011e-03, -7.46671716e-03, -4.17624088e-03, -4.53215744e-03,\n",
              "         4.47156187e-03, -2.99592735e-03,  1.55123975e-02,  4.16061433e-04,\n",
              "         5.16397122e-04, -1.48270652e-02,  1.90464919e-03, -5.68842515e-03,\n",
              "         3.24872963e-05,  2.95469363e-04,  2.47341860e-03,  8.08791816e-03,\n",
              "         5.56360418e-03, -5.13869710e-03], dtype=float32),\n",
              " array([[ 0.12248345,  0.1408609 , -0.12214643, ...,  0.18153256,\n",
              "          0.08278195,  0.1069574 ],\n",
              "        [ 0.00136509, -0.08509568, -0.08619278, ..., -0.06045458,\n",
              "         -0.06692868,  0.19036415],\n",
              "        [-0.03944097,  0.15939768,  0.21070936, ...,  0.10183831,\n",
              "         -0.19618063, -0.16143784],\n",
              "        ...,\n",
              "        [-0.07893886,  0.20680273, -0.20783824, ...,  0.03253727,\n",
              "          0.08780053, -0.237616  ],\n",
              "        [-0.17847052, -0.01269581, -0.1262102 , ..., -0.12499723,\n",
              "         -0.07898114, -0.06930716],\n",
              "        [ 0.1354236 ,  0.2310292 , -0.09892025, ...,  0.12011541,\n",
              "          0.22364572, -0.05705645]], dtype=float32),\n",
              " array([-0.00491343, -0.00781365, -0.00270268, -0.00775036, -0.00241796,\n",
              "         0.00839361, -0.01253828,  0.00435307, -0.00087644, -0.01033749,\n",
              "        -0.00021316, -0.02054599, -0.01427052, -0.00229935,  0.00755417,\n",
              "         0.00506442, -0.00855084, -0.01613786, -0.00623117,  0.00801734,\n",
              "         0.00535775,  0.00290322,  0.00404467, -0.00363615, -0.00663695,\n",
              "        -0.00625109,  0.00023206, -0.01117506, -0.00653286,  0.00617592,\n",
              "        -0.00711892,  0.01080472,  0.01853041, -0.00582122,  0.00807197,\n",
              "         0.0155185 ,  0.00597902, -0.00647263,  0.00156138,  0.01711165,\n",
              "         0.00044666,  0.00756764,  0.00657963,  0.01563192, -0.00365091,\n",
              "        -0.00438338, -0.00803514,  0.00034314, -0.00666572, -0.00051604],\n",
              "       dtype=float32),\n",
              " array([[-0.3272857 ],\n",
              "        [-0.07903473],\n",
              "        [-0.0500867 ],\n",
              "        [-0.00439602],\n",
              "        [-0.2538447 ],\n",
              "        [ 0.26895723],\n",
              "        [-0.2741666 ],\n",
              "        [-0.0869489 ],\n",
              "        [-0.2836522 ],\n",
              "        [-0.272326  ],\n",
              "        [-0.11286323],\n",
              "        [ 0.00039199],\n",
              "        [-0.33830762],\n",
              "        [-0.14068387],\n",
              "        [ 0.04864592],\n",
              "        [ 0.2733389 ],\n",
              "        [-0.30171865],\n",
              "        [-0.26696104],\n",
              "        [-0.3299375 ],\n",
              "        [ 0.11983167],\n",
              "        [ 0.02553683],\n",
              "        [ 0.22001164],\n",
              "        [-0.19568434],\n",
              "        [-0.2589473 ],\n",
              "        [-0.04068205],\n",
              "        [-0.22972059],\n",
              "        [ 0.12211927],\n",
              "        [-0.30932567],\n",
              "        [-0.1723374 ],\n",
              "        [ 0.25419942],\n",
              "        [ 0.22729835],\n",
              "        [ 0.31789026],\n",
              "        [ 0.22139533],\n",
              "        [-0.1358727 ],\n",
              "        [ 0.3076232 ],\n",
              "        [ 0.09785865],\n",
              "        [-0.21889476],\n",
              "        [-0.16905375],\n",
              "        [ 0.07088108],\n",
              "        [ 0.06342322],\n",
              "        [ 0.17328152],\n",
              "        [ 0.24831517],\n",
              "        [ 0.11289292],\n",
              "        [ 0.28901264],\n",
              "        [-0.34412512],\n",
              "        [-0.10419983],\n",
              "        [-0.26440755],\n",
              "        [-0.2673629 ],\n",
              "        [-0.08750012],\n",
              "        [ 0.13851906]], dtype=float32),\n",
              " array([0.00628558], dtype=float32)]"
            ]
          },
          "metadata": {},
          "execution_count": 179
        }
      ],
      "source": [
        "# these are the learned coefficients\n",
        "model.get_weights()"
      ]
    },
    {
      "cell_type": "code",
      "execution_count": 182,
      "metadata": {
        "ExecuteTime": {
          "end_time": "2022-03-25T07:45:47.387664Z",
          "start_time": "2022-03-25T07:45:47.355449Z"
        },
        "colab": {
          "base_uri": "https://localhost:8080/",
          "height": 283
        },
        "id": "bFtpRRZ8nT0l",
        "outputId": "ab8a46d3-2820-4e19-ae1a-524791b7f70f"
      },
      "outputs": [
        {
          "output_type": "execute_result",
          "data": {
            "text/plain": [
              "<matplotlib.legend.Legend at 0x7fbbb3615880>"
            ]
          },
          "metadata": {},
          "execution_count": 182
        },
        {
          "output_type": "display_data",
          "data": {
            "text/plain": [
              "<Figure size 432x288 with 1 Axes>"
            ],
            "image/png": "[encoded data removed]"
          },
          "metadata": {
            "needs_background": "light"
          }
        }
      ],
      "source": [
        "# Plot performance by epoch\n",
        "%matplotlib inline\n",
        "plt.plot(model_info.epoch,model_info.history['accuracy'])\n",
        "plt.plot(model_info.epoch,model_info.history['val_accuracy'])\n",
        "plt.legend(['train', 'val'], loc='best')\n"
      ]
    },
    {
      "cell_type": "code",
      "execution_count": 183,
      "metadata": {
        "ExecuteTime": {
          "end_time": "2022-03-25T07:46:18.379136Z",
          "start_time": "2022-03-25T07:46:18.256742Z"
        },
        "colab": {
          "base_uri": "https://localhost:8080/"
        },
        "id": "FaXVsCVwnT0m",
        "outputId": "119c2dfb-33e4-458b-80a2-c1e1fd73aca7"
      },
      "outputs": [
        {
          "output_type": "stream",
          "name": "stdout",
          "text": [
            "24/24 [==============================] - 0s 2ms/step\n",
            "[0.19994803 0.88606805 0.8662629  0.9999596  0.9278177 ]\n",
            "[0. 1. 1. 1. 1.]\n"
          ]
        }
      ],
      "source": [
        "# form probability distribution over classes\n",
        "Ypred_prob = model.predict(X.todense())\n",
        "print (Ypred_prob.squeeze()[:5])\n",
        "Ypred = (Ypred_prob > .5).astype(float)\n",
        "print (Ypred.squeeze()[:5])"
      ]
    },
    {
      "cell_type": "code",
      "execution_count": 184,
      "metadata": {
        "ExecuteTime": {
          "end_time": "2022-03-24T21:46:31.524431Z",
          "start_time": "2022-03-24T21:46:31.120346Z"
        },
        "colab": {
          "base_uri": "https://localhost:8080/"
        },
        "id": "d58ccQDenT0m",
        "outputId": "b4b05e63-fe5e-4246-cb35-ed2301c2858a"
      },
      "outputs": [
        {
          "output_type": "stream",
          "name": "stderr",
          "text": [
            "WARNING:absl:Found untraced functions such as _update_step_xla while saving (showing 1 of 1). These functions will not be directly callable after loading.\n"
          ]
        }
      ],
      "source": [
        "# Save a model\n",
        "model.save('keras-clf.pkl')"
      ]
    },
    {
      "cell_type": "code",
      "execution_count": 185,
      "metadata": {
        "ExecuteTime": {
          "end_time": "2022-03-24T21:46:32.573236Z",
          "start_time": "2022-03-24T21:46:32.160259Z"
        },
        "id": "Ewb85nC_nT0m"
      },
      "outputs": [],
      "source": [
        "# load model\n",
        "from keras.models import load_model\n",
        "model = load_model('keras-clf.pkl')"
      ]
    },
    {
      "cell_type": "markdown",
      "metadata": {
        "id": "OIpav_nAnT0m"
      },
      "source": [
        "**Regression**"
      ]
    },
    {
      "cell_type": "code",
      "execution_count": 186,
      "metadata": {
        "ExecuteTime": {
          "end_time": "2022-03-25T08:13:22.229978Z",
          "start_time": "2022-03-25T08:13:20.100434Z"
        },
        "colab": {
          "base_uri": "https://localhost:8080/"
        },
        "id": "a7rE2HRUnT0m",
        "outputId": "feaafd02-1589-467b-cb29-dab9672b2b49"
      },
      "outputs": [
        {
          "output_type": "stream",
          "name": "stdout",
          "text": [
            "Epoch 1/15\n",
            "24/24 [==============================] - 1s 4ms/step - loss: 19.0352 - r2: -7.9595\n",
            "Epoch 2/15\n",
            "24/24 [==============================] - 0s 7ms/step - loss: 7.2354 - r2: -2.7425\n",
            "Epoch 3/15\n",
            "24/24 [==============================] - 0s 8ms/step - loss: 4.1149 - r2: -1.0175\n",
            "Epoch 4/15\n",
            "24/24 [==============================] - 0s 6ms/step - loss: 2.5208 - r2: -0.1717\n",
            "Epoch 5/15\n",
            "24/24 [==============================] - 0s 8ms/step - loss: 1.7851 - r2: 0.0682\n",
            "Epoch 6/15\n",
            "24/24 [==============================] - 0s 8ms/step - loss: 1.2249 - r2: 0.3689\n",
            "Epoch 7/15\n",
            "24/24 [==============================] - 0s 8ms/step - loss: 0.9204 - r2: 0.5501\n",
            "Epoch 8/15\n",
            "24/24 [==============================] - 0s 9ms/step - loss: 0.7200 - r2: 0.6479\n",
            "Epoch 9/15\n",
            "24/24 [==============================] - 0s 10ms/step - loss: 0.6341 - r2: 0.7037\n",
            "Epoch 10/15\n",
            "24/24 [==============================] - 0s 9ms/step - loss: 0.7054 - r2: 0.6769\n",
            "Epoch 11/15\n",
            "24/24 [==============================] - 0s 10ms/step - loss: 0.6919 - r2: 0.6474\n",
            "Epoch 12/15\n",
            "24/24 [==============================] - 0s 10ms/step - loss: 0.5456 - r2: 0.7383\n",
            "Epoch 13/15\n",
            "24/24 [==============================] - 0s 8ms/step - loss: 0.4365 - r2: 0.7960\n",
            "Epoch 14/15\n",
            "24/24 [==============================] - 0s 11ms/step - loss: 0.3219 - r2: 0.8212\n",
            "Epoch 15/15\n",
            "24/24 [==============================] - 0s 8ms/step - loss: 0.2300 - r2: 0.8910\n",
            "24/24 [==============================] - 0s 8ms/step\n",
            "0     7.981392\n",
            "1     4.762174\n",
            "2    10.058952\n",
            "3     4.430817\n",
            "4     8.349957\n",
            "Name: log_cite_count, dtype: float64 [8.167001  3.9199166 9.956014  4.447244  8.52915  ]\n"
          ]
        },
        {
          "output_type": "execute_result",
          "data": {
            "text/plain": [
              "0.9161085795082079"
            ]
          },
          "metadata": {},
          "execution_count": 186
        }
      ],
      "source": [
        "# Regression model with R-squared\n",
        "Yreg = df['log_cite_count']\n",
        "\n",
        "\n",
        "model = Sequential() # create a sequential model\n",
        "model.add(Dense(100, # output neurons in layer       \n",
        "          input_dim=X.shape[1], # number of inputs\n",
        "          activation='relu')) # activation function\n",
        "model.add(Dense(50, activation='relu')) # hidden layer\n",
        "model.add(Dense(1)) # output layer\n",
        "\n",
        "from keras import backend as K\n",
        "def r2(y_true, y_pred):\n",
        "    SS_res =  K.sum(K.square( y_true-y_pred )) \n",
        "    SS_tot = K.sum(K.square( y_true - K.mean(y_true) ) ) \n",
        "    return ( 1 - SS_res/(SS_tot + K.epsilon()) )\n",
        "\n",
        "model.compile(loss='mean_squared_error', # cost function\n",
        "              optimizer='adam', # use adam as the optimizer\n",
        "              metrics=[r2]) # compute r-squared\n",
        "model_info = model.fit(X.todense(), Yreg, \n",
        "                      epochs=15)\n",
        "\n",
        "from sklearn.metrics import r2_score\n",
        "Ypred = model.predict(X.todense())\n",
        "\n",
        "print (Yreg[:5], Ypred.squeeze()[:5])\n",
        "r2_score(Yreg,Ypred.squeeze())\n"
      ]
    },
    {
      "cell_type": "code",
      "execution_count": 187,
      "metadata": {
        "ExecuteTime": {
          "end_time": "2022-03-25T08:14:07.226418Z",
          "start_time": "2022-03-25T08:14:07.130001Z"
        },
        "colab": {
          "base_uri": "https://localhost:8080/",
          "height": 282
        },
        "id": "lmFXJIchnT0m",
        "outputId": "e0a9e2ed-baf1-4123-9a95-58995fbfd27b"
      },
      "outputs": [
        {
          "output_type": "execute_result",
          "data": {
            "text/plain": [
              "<matplotlib.legend.Legend at 0x7fbba4efe5b0>"
            ]
          },
          "metadata": {},
          "execution_count": 187
        },
        {
          "output_type": "display_data",
          "data": {
            "text/plain": [
              "<Figure size 432x288 with 1 Axes>"
            ],
            "image/png": "[encoded data removed]"
          },
          "metadata": {
            "needs_background": "light"
          }
        }
      ],
      "source": [
        "%matplotlib inline\n",
        "\n",
        "# Plot performance by epoch\n",
        "plt.plot(model_info.epoch,model_info.history['r2'])\n",
        "plt.legend(['train', 'val'], loc='best')\n"
      ]
    },
    {
      "cell_type": "markdown",
      "metadata": {
        "id": "kQQZlU5VnT0m"
      },
      "source": [
        "## Autoencoders\n",
        "\n",
        "neural nets that perform domain-specific lossy compression"
      ]
    },
    {
      "cell_type": "code",
      "execution_count": 188,
      "metadata": {
        "ExecuteTime": {
          "end_time": "2022-03-25T08:18:24.861074Z",
          "start_time": "2022-03-25T08:18:24.816040Z"
        },
        "colab": {
          "base_uri": "https://localhost:8080/"
        },
        "id": "sX9m5wFCnT0m",
        "outputId": "7a88ec1f-7878-4bf7-8ad9-e0b6e6da4a83"
      },
      "outputs": [
        {
          "output_type": "stream",
          "name": "stdout",
          "text": [
            "Model: \"sequential_5\"\n",
            "_________________________________________________________________\n",
            " Layer (type)                Output Shape              Param #   \n",
            "=================================================================\n",
            " dense_15 (Dense)            (None, 100)               100100    \n",
            "                                                                 \n",
            " compression_layer (Dense)   (None, 25)                2525      \n",
            "                                                                 \n",
            " dense_16 (Dense)            (None, 100)               2600      \n",
            "                                                                 \n",
            " dense_17 (Dense)            (None, 1000)              101000    \n",
            "                                                                 \n",
            "=================================================================\n",
            "Total params: 206,225\n",
            "Trainable params: 206,225\n",
            "Non-trainable params: 0\n",
            "_________________________________________________________________\n"
          ]
        }
      ],
      "source": [
        "# Autoencoder\n",
        "\n",
        "from keras.models import Sequential\n",
        "from keras.layers import Dense\n",
        "\n",
        "model = Sequential() # create a sequential model\n",
        "model.add(Dense(100, # first compression layer       \n",
        "          input_dim=X.shape[1], # number of inputs\n",
        "          activation='relu')) # activation function\n",
        "model.add(Dense(25, activation='relu', name=\"compression_layer\")) # final compression layer layer\n",
        "model.add(Dense(100, activation='relu')) # first reconstruction layer\n",
        "model.add(Dense(X.shape[1], activation='relu')) # final reconstruction layer\n",
        "model.summary()"
      ]
    },
    {
      "cell_type": "code",
      "execution_count": 189,
      "metadata": {
        "ExecuteTime": {
          "end_time": "2022-03-25T08:18:26.533795Z",
          "start_time": "2022-03-25T08:18:26.288314Z"
        },
        "colab": {
          "base_uri": "https://localhost:8080/",
          "height": 522
        },
        "id": "WgIlrcoRnT0m",
        "outputId": "bae5959b-defa-4e11-f1bc-37fc0bb37ee6"
      },
      "outputs": [
        {
          "output_type": "execute_result",
          "data": {
            "text/plain": [
              "<IPython.core.display.SVG object>"
            ],
            "image/svg+xml": "<svg xmlns=\"http://www.w3.org/2000/svg\" xmlns:xlink=\"http://www.w3.org/1999/xlink\" width=\"231pt\" height=\"376pt\" viewBox=\"0.00 0.00 238.00 387.00\">\n<g id=\"graph0\" class=\"graph\" transform=\"scale(1.03 1.03) rotate(0) translate(4 383)\">\n<title>G</title>\n<polygon fill=\"white\" stroke=\"transparent\" points=\"-4,4 -4,-383 234,-383 234,4 -4,4\"/>\n<!-- 140444143103808 -->\n<g id=\"node1\" class=\"node\">\n<title>140444143103808</title>\n<polygon fill=\"none\" stroke=\"black\" points=\"0,-332.5 0,-378.5 230,-378.5 230,-332.5 0,-332.5\"/>\n<text text-anchor=\"middle\" x=\"38.5\" y=\"-351.8\" font-family=\"Times,serif\" font-size=\"14.00\">InputLayer</text>\n<polyline fill=\"none\" stroke=\"black\" points=\"77,-332.5 77,-378.5 \"/>\n<text text-anchor=\"middle\" x=\"104.5\" y=\"-363.3\" font-family=\"Times,serif\" font-size=\"14.00\">input:</text>\n<polyline fill=\"none\" stroke=\"black\" points=\"77,-355.5 132,-355.5 \"/>\n<text text-anchor=\"middle\" x=\"104.5\" y=\"-340.3\" font-family=\"Times,serif\" font-size=\"14.00\">output:</text>\n<polyline fill=\"none\" stroke=\"black\" points=\"132,-332.5 132,-378.5 \"/>\n<text text-anchor=\"middle\" x=\"181\" y=\"-363.3\" font-family=\"Times,serif\" font-size=\"14.00\">[(None, 1000)]</text>\n<polyline fill=\"none\" stroke=\"black\" points=\"132,-355.5 230,-355.5 \"/>\n<text text-anchor=\"middle\" x=\"181\" y=\"-340.3\" font-family=\"Times,serif\" font-size=\"14.00\">[(None, 1000)]</text>\n</g>\n<!-- 140444139223408 -->\n<g id=\"node2\" class=\"node\">\n<title>140444139223408</title>\n<polygon fill=\"none\" stroke=\"black\" points=\"18,-249.5 18,-295.5 212,-295.5 212,-249.5 18,-249.5\"/>\n<text text-anchor=\"middle\" x=\"43\" y=\"-268.8\" font-family=\"Times,serif\" font-size=\"14.00\">Dense</text>\n<polyline fill=\"none\" stroke=\"black\" points=\"68,-249.5 68,-295.5 \"/>\n<text text-anchor=\"middle\" x=\"95.5\" y=\"-280.3\" font-family=\"Times,serif\" font-size=\"14.00\">input:</text>\n<polyline fill=\"none\" stroke=\"black\" points=\"68,-272.5 123,-272.5 \"/>\n<text text-anchor=\"middle\" x=\"95.5\" y=\"-257.3\" font-family=\"Times,serif\" font-size=\"14.00\">output:</text>\n<polyline fill=\"none\" stroke=\"black\" points=\"123,-249.5 123,-295.5 \"/>\n<text text-anchor=\"middle\" x=\"167.5\" y=\"-280.3\" font-family=\"Times,serif\" font-size=\"14.00\">(None, 1000)</text>\n<polyline fill=\"none\" stroke=\"black\" points=\"123,-272.5 212,-272.5 \"/>\n<text text-anchor=\"middle\" x=\"167.5\" y=\"-257.3\" font-family=\"Times,serif\" font-size=\"14.00\">(None, 100)</text>\n</g>\n<!-- 140444143103808&#45;&gt;140444139223408 -->\n<g id=\"edge1\" class=\"edge\">\n<title>140444143103808-&gt;140444139223408</title>\n<path fill=\"none\" stroke=\"black\" d=\"M115,-332.37C115,-324.15 115,-314.66 115,-305.73\"/>\n<polygon fill=\"black\" stroke=\"black\" points=\"118.5,-305.61 115,-295.61 111.5,-305.61 118.5,-305.61\"/>\n</g>\n<!-- 140444343829120 -->\n<g id=\"node3\" class=\"node\">\n<title>140444343829120</title>\n<polygon fill=\"none\" stroke=\"black\" points=\"21,-166.5 21,-212.5 209,-212.5 209,-166.5 21,-166.5\"/>\n<text text-anchor=\"middle\" x=\"46\" y=\"-185.8\" font-family=\"Times,serif\" font-size=\"14.00\">Dense</text>\n<polyline fill=\"none\" stroke=\"black\" points=\"71,-166.5 71,-212.5 \"/>\n<text text-anchor=\"middle\" x=\"98.5\" y=\"-197.3\" font-family=\"Times,serif\" font-size=\"14.00\">input:</text>\n<polyline fill=\"none\" stroke=\"black\" points=\"71,-189.5 126,-189.5 \"/>\n<text text-anchor=\"middle\" x=\"98.5\" y=\"-174.3\" font-family=\"Times,serif\" font-size=\"14.00\">output:</text>\n<polyline fill=\"none\" stroke=\"black\" points=\"126,-166.5 126,-212.5 \"/>\n<text text-anchor=\"middle\" x=\"167.5\" y=\"-197.3\" font-family=\"Times,serif\" font-size=\"14.00\">(None, 100)</text>\n<polyline fill=\"none\" stroke=\"black\" points=\"126,-189.5 209,-189.5 \"/>\n<text text-anchor=\"middle\" x=\"167.5\" y=\"-174.3\" font-family=\"Times,serif\" font-size=\"14.00\">(None, 25)</text>\n</g>\n<!-- 140444139223408&#45;&gt;140444343829120 -->\n<g id=\"edge2\" class=\"edge\">\n<title>140444139223408-&gt;140444343829120</title>\n<path fill=\"none\" stroke=\"black\" d=\"M115,-249.37C115,-241.15 115,-231.66 115,-222.73\"/>\n<polygon fill=\"black\" stroke=\"black\" points=\"118.5,-222.61 115,-212.61 111.5,-222.61 118.5,-222.61\"/>\n</g>\n<!-- 140444343829792 -->\n<g id=\"node4\" class=\"node\">\n<title>140444343829792</title>\n<polygon fill=\"none\" stroke=\"black\" points=\"21,-83.5 21,-129.5 209,-129.5 209,-83.5 21,-83.5\"/>\n<text text-anchor=\"middle\" x=\"46\" y=\"-102.8\" font-family=\"Times,serif\" font-size=\"14.00\">Dense</text>\n<polyline fill=\"none\" stroke=\"black\" points=\"71,-83.5 71,-129.5 \"/>\n<text text-anchor=\"middle\" x=\"98.5\" y=\"-114.3\" font-family=\"Times,serif\" font-size=\"14.00\">input:</text>\n<polyline fill=\"none\" stroke=\"black\" points=\"71,-106.5 126,-106.5 \"/>\n<text text-anchor=\"middle\" x=\"98.5\" y=\"-91.3\" font-family=\"Times,serif\" font-size=\"14.00\">output:</text>\n<polyline fill=\"none\" stroke=\"black\" points=\"126,-83.5 126,-129.5 \"/>\n<text text-anchor=\"middle\" x=\"167.5\" y=\"-114.3\" font-family=\"Times,serif\" font-size=\"14.00\">(None, 25)</text>\n<polyline fill=\"none\" stroke=\"black\" points=\"126,-106.5 209,-106.5 \"/>\n<text text-anchor=\"middle\" x=\"167.5\" y=\"-91.3\" font-family=\"Times,serif\" font-size=\"14.00\">(None, 100)</text>\n</g>\n<!-- 140444343829120&#45;&gt;140444343829792 -->\n<g id=\"edge3\" class=\"edge\">\n<title>140444343829120-&gt;140444343829792</title>\n<path fill=\"none\" stroke=\"black\" d=\"M115,-166.37C115,-158.15 115,-148.66 115,-139.73\"/>\n<polygon fill=\"black\" stroke=\"black\" points=\"118.5,-139.61 115,-129.61 111.5,-139.61 118.5,-139.61\"/>\n</g>\n<!-- 140444177341744 -->\n<g id=\"node5\" class=\"node\">\n<title>140444177341744</title>\n<polygon fill=\"none\" stroke=\"black\" points=\"18,-0.5 18,-46.5 212,-46.5 212,-0.5 18,-0.5\"/>\n<text text-anchor=\"middle\" x=\"43\" y=\"-19.8\" font-family=\"Times,serif\" font-size=\"14.00\">Dense</text>\n<polyline fill=\"none\" stroke=\"black\" points=\"68,-0.5 68,-46.5 \"/>\n<text text-anchor=\"middle\" x=\"95.5\" y=\"-31.3\" font-family=\"Times,serif\" font-size=\"14.00\">input:</text>\n<polyline fill=\"none\" stroke=\"black\" points=\"68,-23.5 123,-23.5 \"/>\n<text text-anchor=\"middle\" x=\"95.5\" y=\"-8.3\" font-family=\"Times,serif\" font-size=\"14.00\">output:</text>\n<polyline fill=\"none\" stroke=\"black\" points=\"123,-0.5 123,-46.5 \"/>\n<text text-anchor=\"middle\" x=\"167.5\" y=\"-31.3\" font-family=\"Times,serif\" font-size=\"14.00\">(None, 100)</text>\n<polyline fill=\"none\" stroke=\"black\" points=\"123,-23.5 212,-23.5 \"/>\n<text text-anchor=\"middle\" x=\"167.5\" y=\"-8.3\" font-family=\"Times,serif\" font-size=\"14.00\">(None, 1000)</text>\n</g>\n<!-- 140444343829792&#45;&gt;140444177341744 -->\n<g id=\"edge4\" class=\"edge\">\n<title>140444343829792-&gt;140444177341744</title>\n<path fill=\"none\" stroke=\"black\" d=\"M115,-83.37C115,-75.15 115,-65.66 115,-56.73\"/>\n<polygon fill=\"black\" stroke=\"black\" points=\"118.5,-56.61 115,-46.61 111.5,-56.61 118.5,-56.61\"/>\n</g>\n</g>\n</svg>"
          },
          "metadata": {},
          "execution_count": 189
        }
      ],
      "source": [
        "# Visualize a model\n",
        "\n",
        "# Requires graphviz\n",
        "from IPython.display import SVG\n",
        "from keras.utils.vis_utils import model_to_dot\n",
        "dot = model_to_dot(model,\n",
        "                   show_shapes=True,\n",
        "                   show_layer_names=False,\n",
        "                   dpi=70)\n",
        "SVG(dot.create(prog='dot', format='svg'))"
      ]
    },
    {
      "cell_type": "code",
      "execution_count": 190,
      "metadata": {
        "ExecuteTime": {
          "end_time": "2022-03-25T08:18:30.639437Z",
          "start_time": "2022-03-25T08:18:28.485477Z"
        },
        "colab": {
          "base_uri": "https://localhost:8080/"
        },
        "id": "P55o5UggnT0m",
        "outputId": "e8167faf-b6ea-4f82-8fbe-09cd9d606479"
      },
      "outputs": [
        {
          "output_type": "stream",
          "name": "stdout",
          "text": [
            "Epoch 1/10\n",
            "20/20 [==============================] - 2s 41ms/step - loss: 19.9520 - r2: 0.0043 - val_loss: 16.5208 - val_r2: 0.0476\n",
            "Epoch 2/10\n",
            "20/20 [==============================] - 0s 19ms/step - loss: 18.5096 - r2: 0.0763 - val_loss: 16.0163 - val_r2: 0.0772\n",
            "Epoch 3/10\n",
            "20/20 [==============================] - 0s 19ms/step - loss: 17.7591 - r2: 0.1146 - val_loss: 15.4777 - val_r2: 0.1082\n",
            "Epoch 4/10\n",
            "20/20 [==============================] - 0s 20ms/step - loss: 17.0723 - r2: 0.1483 - val_loss: 15.0377 - val_r2: 0.1339\n",
            "Epoch 5/10\n",
            "20/20 [==============================] - 0s 22ms/step - loss: 16.3432 - r2: 0.1826 - val_loss: 14.6573 - val_r2: 0.1559\n",
            "Epoch 6/10\n",
            "20/20 [==============================] - 0s 22ms/step - loss: 15.5691 - r2: 0.2208 - val_loss: 14.2404 - val_r2: 0.1805\n",
            "Epoch 7/10\n",
            "20/20 [==============================] - 0s 22ms/step - loss: 14.8119 - r2: 0.2561 - val_loss: 14.0249 - val_r2: 0.1940\n",
            "Epoch 8/10\n",
            "20/20 [==============================] - 1s 27ms/step - loss: 14.0731 - r2: 0.2910 - val_loss: 13.8128 - val_r2: 0.2064\n",
            "Epoch 9/10\n",
            "20/20 [==============================] - 0s 17ms/step - loss: 13.3600 - r2: 0.3305 - val_loss: 13.6494 - val_r2: 0.2160\n",
            "Epoch 10/10\n",
            "20/20 [==============================] - 0s 15ms/step - loss: 12.8151 - r2: 0.3495 - val_loss: 13.4826 - val_r2: 0.2256\n"
          ]
        }
      ],
      "source": [
        "# fit the model\n",
        "model.compile(loss='mean_squared_error', # cost function\n",
        "              optimizer='adam', # use adam as the optimizer\n",
        "              metrics=[r2]) # compute accuracy, for scoring\n",
        "\n",
        "model_info = model.fit(X.todense(), X.todense(), \n",
        "                      epochs=10,\n",
        "                      validation_split=.2)"
      ]
    },
    {
      "cell_type": "code",
      "execution_count": 191,
      "metadata": {
        "ExecuteTime": {
          "end_time": "2022-03-25T08:18:47.741513Z",
          "start_time": "2022-03-25T08:18:47.719563Z"
        },
        "colab": {
          "base_uri": "https://localhost:8080/"
        },
        "id": "x5sEJeUvnT0m",
        "outputId": "af936dce-b0c5-4c7b-abfe-198276f115ac"
      },
      "outputs": [
        {
          "output_type": "stream",
          "name": "stdout",
          "text": [
            "(768, 25)\n"
          ]
        }
      ],
      "source": [
        "# compress the data\n",
        "\n",
        "import keras\n",
        "\n",
        "\n",
        "compression_model = keras.Model(inputs=model.input,\n",
        "                                       outputs=model.get_layer(\"compression_layer\").output)\n",
        "X_compressed = compression_model(X.todense())\n",
        "print (X_compressed.shape)"
      ]
    },
    {
      "cell_type": "code",
      "execution_count": 194,
      "metadata": {
        "ExecuteTime": {
          "end_time": "2022-03-25T08:18:51.888002Z",
          "start_time": "2022-03-25T08:18:51.663876Z"
        },
        "colab": {
          "base_uri": "https://localhost:8080/",
          "height": 282
        },
        "id": "zCn5biYYnT0n",
        "outputId": "00d32e92-ab3c-44bd-bb29-9fff2d2229f6"
      },
      "outputs": [
        {
          "output_type": "stream",
          "name": "stdout",
          "text": [
            "[0.06008335 0.03858287 0.03146098]\n"
          ]
        },
        {
          "output_type": "display_data",
          "data": {
            "text/plain": [
              "<Figure size 432x288 with 1 Axes>"
            ],
            "image/png": "[encoded data removed]"
          },
          "metadata": {
            "needs_background": "light"
          }
        }
      ],
      "source": [
        "#%% PCA Viz\n",
        "\n",
        "%matplotlib inline\n",
        "import matplotlib.pyplot as plt\n",
        "import seaborn as sns\n",
        "\n",
        "# visualize X and X_compressed\n",
        "from sklearn.decomposition import PCA\n",
        "pca = PCA(n_components=3,svd_solver='randomized')\n",
        "Xpca = pca.fit_transform(np.asarray(X.todense()))\n",
        "print(pca.explained_variance_ratio_)\n",
        "\n",
        "sns.scatterplot(\n",
        "    x=Xpca[:,0], y=Xpca[:,1],\n",
        "    hue=Y,\n",
        "    palette=sns.color_palette(\"hls\", len(set(Y))), alpha=0.3)\n",
        "\n",
        "plt.show()"
      ]
    },
    {
      "cell_type": "code",
      "execution_count": 195,
      "metadata": {
        "ExecuteTime": {
          "end_time": "2022-03-25T08:18:52.465173Z",
          "start_time": "2022-03-25T08:18:52.347682Z"
        },
        "colab": {
          "base_uri": "https://localhost:8080/",
          "height": 282
        },
        "id": "fj3no9hUnT0n",
        "outputId": "58bd52ea-00d5-4428-ae3a-6267796fe668"
      },
      "outputs": [
        {
          "output_type": "stream",
          "name": "stdout",
          "text": [
            "[0.36757138 0.11153588 0.07392318]\n"
          ]
        },
        {
          "output_type": "display_data",
          "data": {
            "text/plain": [
              "<Figure size 432x288 with 1 Axes>"
            ],
            "image/png": "[encoded data removed]"
          },
          "metadata": {
            "needs_background": "light"
          }
        }
      ],
      "source": [
        "# visualize X and X_compressed\n",
        "from sklearn.decomposition import PCA\n",
        "pca = PCA(n_components=3,svd_solver='randomized')\n",
        "Xpca = pca.fit_transform(X_compressed)\n",
        "print(pca.explained_variance_ratio_)\n",
        "\n",
        "\n",
        "sns.scatterplot(\n",
        "    x=Xpca[:,0], y=Xpca[:,1],\n",
        "    hue=Y,\n",
        "    palette=sns.color_palette(\"hls\", len(set(Y))), alpha=0.3)\n",
        "plt.show()"
      ]
    },
    {
      "cell_type": "code",
      "execution_count": null,
      "metadata": {
        "id": "GOApzJFfnT0n"
      },
      "outputs": [],
      "source": []
    }
  ],
  "metadata": {
    "kernelspec": {
      "display_name": "Python 3 (ipykernel)",
      "language": "python",
      "name": "python3"
    },
    "language_info": {
      "codemirror_mode": {
        "name": "ipython",
        "version": 3
      },
      "file_extension": ".py",
      "mimetype": "text/x-python",
      "name": "python",
      "nbconvert_exporter": "python",
      "pygments_lexer": "ipython3",
      "version": "3.7.11"
    },
    "toc": {
      "base_numbering": 1,
      "nav_menu": {},
      "number_sections": true,
      "sideBar": true,
      "skip_h1_title": false,
      "title_cell": "Table of Contents",
      "title_sidebar": "Contents",
      "toc_cell": false,
      "toc_position": {},
      "toc_section_display": true,
      "toc_window_display": false
    },
    "colab": {
      "provenance": [],
      "toc_visible": true
    }
  },
  "nbformat": 4,
  "nbformat_minor": 0
}